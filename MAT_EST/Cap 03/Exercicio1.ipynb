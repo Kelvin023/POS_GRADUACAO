{
 "cells": [
  {
   "cell_type": "markdown",
   "metadata": {},
   "source": [
    "<!-- Projeto Desenvolvido na Data Science Academy - www.datascienceacademy.com.br -->\n",
    "# <font color='blue'>Data Science Academy</font>\n",
    "## <font color='blue'>Matemática e Estatística Aplicada Para Data Science, Machine Learning e IA</font>\n",
    "## <font color='blue'>Lista de Exercícios 1</font>\n",
    "## <font color='blue'>Matemática Fundamental com Linguagem Python</font>"
   ]
  },
  {
   "cell_type": "markdown",
   "metadata": {},
   "source": [
    "### Instalando e Carregando Pacotes"
   ]
  },
  {
   "cell_type": "code",
   "execution_count": 1,
   "metadata": {},
   "outputs": [],
   "source": [
    "# Para atualizar um pacote, execute o comando abaixo no terminal ou prompt de comando:\n",
    "# pip install -U nome_pacote\n",
    "\n",
    "# Para instalar a versão exata de um pacote, execute o comando abaixo no terminal ou prompt de comando:\n",
    "# !pip install nome_pacote==versão_desejada\n",
    "\n",
    "# Depois de instalar ou atualizar o pacote, reinicie o jupyter notebook.\n",
    "\n",
    "# Instala o pacote watermark. \n",
    "# Esse pacote é usado para gravar as versões de outros pacotes usados neste jupyter notebook.\n",
    "!pip install -q -U watermark"
   ]
  },
  {
   "cell_type": "code",
   "execution_count": 2,
   "metadata": {},
   "outputs": [
    {
     "name": "stdout",
     "output_type": "stream",
     "text": [
      "Author: Data Science Academy\n",
      "\n"
     ]
    }
   ],
   "source": [
    "# Versões dos pacotes usados neste jupyter notebook\n",
    "%reload_ext watermark\n",
    "%watermark -a \"Data Science Academy\" --iversions"
   ]
  },
  {
   "cell_type": "markdown",
   "metadata": {},
   "source": [
    "**Resolva os exercícios abaixo usando Linguagem Python. Faça pesquisa complementar se necessário.**"
   ]
  },
  {
   "cell_type": "markdown",
   "metadata": {},
   "source": [
    "### Exercício 1: Cálculo de Área de um Círculo\n",
    "\n",
    "Escreva um programa que calcula a área de um círculo. O usuário deve fornecer o raio e o programa deve retornar a área."
   ]
  },
  {
   "cell_type": "code",
   "execution_count": null,
   "metadata": {},
   "outputs": [],
   "source": [
    "import math\n",
    "\n",
    "def calcular_area_circulo():\n",
    "    raio = float(input(\"Digite o raio do círculo: \"))\n",
    "    area = math.pi * raio**2\n",
    "    print(f\"A área do círculo com raio {raio} é: {area:.2f}\")\n",
    "\n",
    "calcular_area_circulo()"
   ]
  },
  {
   "cell_type": "markdown",
   "metadata": {},
   "source": [
    "### Exercício 2: Conversão de Temperatura\n",
    "\n",
    "Crie uma função que converte a temperatura de Celsius para Fahrenheit e vice-versa. O usuário deve informar a temperatura e a escala de origem."
   ]
  },
  {
   "cell_type": "code",
   "execution_count": null,
   "metadata": {},
   "outputs": [],
   "source": [
    "import math\n",
    "\n",
    "escalaOrigem = input(\"Informe a escala de origem: \")\n",
    "\n",
    "if escalaOrigem != \"C\" and escalaOrigem != \"c\" and escalaOrigem != \"F\" and escalaOrigem != \"f\":\n",
    "    print(\"\\nINFORME UM VALOR VÁLIDO!\")\n",
    "    exit()\n",
    "\n",
    "#Caso o usuario tenha informado um valor valido...    \n",
    "valorEscalaOriginal = float(input(\"Entre com a temperatura a ser convertida: \"))\n",
    "\n",
    "if escalaOrigem == \"F\" or escalaOrigem == \"f\":\n",
    "    valorEscalaFinal = (valorEscalaOriginal - 32) * 5/9\n",
    "    print(f\"Valor em Celsius: {valorEscalaFinal:.2f}\")\n",
    "\n",
    "elif escalaOrigem == \"C\" or escalaOrigem == \"c\":\n",
    "    valorEscalaFinal = (valorEscalaOriginal * 9/5) + 32\n",
    "    print(f\"Valor em Fahrenheit: {valorEscalaFinal:.2f}\")"
   ]
  },
  {
   "cell_type": "markdown",
   "metadata": {},
   "source": [
    "### Exercício 3: Resolver uma Equação Linear\n",
    "\n",
    "Faça um programa que resolve uma equação linear do tipo ax + b = 0. Os valores de a e b são fornecidos pelo usuário."
   ]
  },
  {
   "cell_type": "code",
   "execution_count": 1,
   "metadata": {},
   "outputs": [
    {
     "name": "stdout",
     "output_type": "stream",
     "text": [
      "Entre com o valor de a: 5\n",
      "Entre com o valor de b: 10\n",
      "Valor final de X = -2.0\n"
     ]
    }
   ],
   "source": [
    "import math\n",
    "\n",
    "valorA = float(input(\"Entre com o valor de a: \"))\n",
    "valorB = float(input(\"Entre com o valor de b: \"))\n",
    "\n",
    "valorFinal = ((-1 * valorB) / valorA)\n",
    "print(f\"Valor final de X = {valorFinal}\")"
   ]
  },
  {
   "cell_type": "markdown",
   "metadata": {},
   "source": [
    "### Exercício 4: Cálculo de Média Aritmética\n",
    "\n",
    "Escreva um programa que calcula a média aritmética de uma lista de números fornecida pelo usuário."
   ]
  },
  {
   "cell_type": "code",
   "execution_count": 2,
   "metadata": {},
   "outputs": [
    {
     "name": "stdout",
     "output_type": "stream",
     "text": [
      "Entre com o número de elementos da lista: 3\n",
      "##### AGORA PREENCHA CADA VALOR DA SUA LISTA ##### \n",
      "\n",
      "Digite um número(0): 1\n",
      "Digite um número(1): 2\n",
      "Digite um número(2): 3\n",
      "\n",
      "Valor total da soma dos números informados: 6\n",
      "MÉDIA ARITMÉTICA DOS VALORES DA LISTA: 2.0\n"
     ]
    }
   ],
   "source": [
    "import math\n",
    "\n",
    "lista = []\n",
    "numElementos = int(input(\"Entre com o número de elementos da lista: \"))\n",
    "soma = 0\n",
    "\n",
    "print(\"##### AGORA PREENCHA CADA VALOR DA SUA LISTA ##### \\n\")\n",
    "#Preechendo a lista\n",
    "for i in range(numElementos):\n",
    "    numero = int(input(f\"Digite um número({i}): \"))\n",
    "    lista.append(numero)    \n",
    "    soma = soma + numero\n",
    "    \n",
    "print(f\"\\nValor total da soma dos números informados: {soma}\")\n",
    "print(f\"MÉDIA ARITMÉTICA DOS VALORES DA LISTA: {soma/numElementos}\")"
   ]
  },
  {
   "cell_type": "markdown",
   "metadata": {},
   "source": [
    "### Exercício 5: Determinar as Raízes de uma Equação Quadrática\n",
    "\n",
    "Crie um programa que encontra as raízes de uma equação quadrática do tipo ax^2 + bx + c = 0. O programa deve lidar com todos os tipos de raízes (reais e complexas)."
   ]
  },
  {
   "cell_type": "code",
   "execution_count": null,
   "metadata": {},
   "outputs": [],
   "source": []
  },
  {
   "cell_type": "markdown",
   "metadata": {},
   "source": [
    "### Exercício 6: Calcular o Fatorial de um Número\n",
    "\n",
    "Escreva uma função que calcula o fatorial de um número inteiro fornecido pelo usuário."
   ]
  },
  {
   "cell_type": "code",
   "execution_count": null,
   "metadata": {},
   "outputs": [],
   "source": []
  },
  {
   "cell_type": "markdown",
   "metadata": {},
   "source": [
    "### Exercício 7: Sequência de Fibonacci\n",
    "\n",
    "Crie um programa que gera a sequência de Fibonacci até um determinado número n fornecido pelo usuário."
   ]
  },
  {
   "cell_type": "code",
   "execution_count": null,
   "metadata": {},
   "outputs": [],
   "source": []
  },
  {
   "cell_type": "markdown",
   "metadata": {},
   "source": [
    "### Exercício 8: Cálculo de Juros Compostos\n",
    "\n",
    "Faça um programa que calcula o montante final de um investimento com juros compostos. O usuário deve fornecer o capital inicial, a taxa de juros anual, e o número de anos."
   ]
  },
  {
   "cell_type": "code",
   "execution_count": null,
   "metadata": {},
   "outputs": [],
   "source": []
  },
  {
   "cell_type": "markdown",
   "metadata": {},
   "source": [
    "### Exercício 9: Conversão de Moedas\n",
    "\n",
    "Escreva um programa que converte uma quantidade de uma moeda (como dólar) para outra (como euro), considerando uma taxa de câmbio fornecida pelo usuário."
   ]
  },
  {
   "cell_type": "code",
   "execution_count": null,
   "metadata": {},
   "outputs": [],
   "source": []
  },
  {
   "cell_type": "markdown",
   "metadata": {},
   "source": [
    "### Exercício 10: Verificar se um Número é Primo\n",
    "\n",
    "Crie uma função que verifica se um número fornecido pelo usuário é primo ou não."
   ]
  },
  {
   "cell_type": "code",
   "execution_count": 1,
   "metadata": {},
   "outputs": [
    {
     "name": "stdout",
     "output_type": "stream",
     "text": [
      "Entre com um número para informarmos se ele é primo ou não: 12\n",
      "### NÚMERO INFORMADO NÃO É PRIMO! ESSE CARA TEM 6 DIVISORES ###\n",
      "SEGUE OS DIVISORES DO NÚMERO INFORMADO:  [12, 6, 4, 3, 2, 1]\n"
     ]
    }
   ],
   "source": [
    "#Crie uma função que verifica se um número fornecido pelo usuário é primo ou não.\n",
    "\n",
    "import math\n",
    "\n",
    "def primo(num):\n",
    "    lista = []\n",
    "    soma = 0\n",
    "    for i in range(num, 0, -1):        \n",
    "        if (num%i)==0:\n",
    "            soma = soma + 1\n",
    "            lista.append(i)\n",
    "    if soma == 2:\n",
    "        print(\"### NÚMERO INFORMADO É PRIMO! ###\")\n",
    "        print(\"SEGUE OS DIVISORES DO NÚMERO INFORMADO: \", lista)\n",
    "    else:\n",
    "        print(f\"### NÚMERO INFORMADO NÃO É PRIMO! ESSE CARA TEM {soma} DIVISORES ###\")\n",
    "        print(\"SEGUE OS DIVISORES DO NÚMERO INFORMADO: \", lista)\n",
    "\n",
    "#START\n",
    "numero = int(input(\"Entre com um número para informarmos se ele é primo ou não: \"))\n",
    "primo(numero)"
   ]
  },
  {
   "cell_type": "code",
   "execution_count": null,
   "metadata": {},
   "outputs": [],
   "source": [
    "%reload_ext watermark\n",
    "%watermark -a \"Data Science Academy\""
   ]
  },
  {
   "cell_type": "code",
   "execution_count": null,
   "metadata": {},
   "outputs": [],
   "source": [
    "#%watermark -v -m"
   ]
  },
  {
   "cell_type": "markdown",
   "metadata": {},
   "source": [
    "# Fim"
   ]
  }
 ],
 "metadata": {
  "kernelspec": {
   "display_name": "Python 3 (ipykernel)",
   "language": "python",
   "name": "python3"
  },
  "language_info": {
   "codemirror_mode": {
    "name": "ipython",
    "version": 3
   },
   "file_extension": ".py",
   "mimetype": "text/x-python",
   "name": "python",
   "nbconvert_exporter": "python",
   "pygments_lexer": "ipython3",
   "version": "3.9.7"
  }
 },
 "nbformat": 4,
 "nbformat_minor": 2
}
