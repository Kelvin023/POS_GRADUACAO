{
 "cells": [
  {
   "cell_type": "markdown",
   "metadata": {},
   "source": [
    "<!-- Projeto Desenvolvido na Data Science Academy - www.datascienceacademy.com.br -->\n",
    "# <font color='blue'>Data Science Academy</font>\n",
    "## <font color='blue'>Matemática e Estatística Aplicada Para Data Science, Machine Learning e IA</font>\n",
    "## <font color='blue'>Lab 4</font>\n",
    "## <font color='blue'>Representação Geométrica de Vetores e Álgebra Linear no Espaço Vetorial</font>"
   ]
  },
  {
   "cell_type": "markdown",
   "metadata": {},
   "source": [
    "### Instalando e Carregando os Pacotes"
   ]
  },
  {
   "cell_type": "code",
   "execution_count": 108,
   "metadata": {},
   "outputs": [],
   "source": [
    "# Para atualizar um pacote, execute o comando abaixo no terminal ou prompt de comando:\n",
    "# pip install -U nome_pacote\n",
    "\n",
    "# Para instalar a versão exata de um pacote, execute o comando abaixo no terminal ou prompt de comando:\n",
    "# !pip install nome_pacote==versão_desejada\n",
    "\n",
    "# Depois de instalar ou atualizar o pacote, reinicie o jupyter notebook.\n",
    "\n",
    "# Instala o pacote watermark. \n",
    "# Esse pacote é usado para gravar as versões de outros pacotes usados neste jupyter notebook.\n",
    "!pip install -q -U watermark"
   ]
  },
  {
   "cell_type": "markdown",
   "metadata": {},
   "source": [
    "https://pandas-datareader.readthedocs.io/en/latest/"
   ]
  },
  {
   "cell_type": "code",
   "execution_count": 109,
   "metadata": {},
   "outputs": [],
   "source": [
    "!pip install -q pandas_datareader"
   ]
  },
  {
   "cell_type": "code",
   "execution_count": 110,
   "metadata": {},
   "outputs": [],
   "source": [
    "# Imports\n",
    "import numpy as np\n",
    "import pandas as pd\n",
    "import matplotlib.pyplot as plt\n",
    "from pandas_datareader import wb\n",
    "plt.rcParams.update({'font.size':14}) "
   ]
  },
  {
   "cell_type": "code",
   "execution_count": 111,
   "metadata": {},
   "outputs": [
    {
     "name": "stdout",
     "output_type": "stream",
     "text": [
      "Author: Data Science Academy\n",
      "\n"
     ]
    }
   ],
   "source": [
    "# Versões dos pacotes usados neste jupyter notebook\n",
    "%reload_ext watermark\n",
    "%watermark -a \"Data Science Academy\" "
   ]
  },
  {
   "cell_type": "markdown",
   "metadata": {},
   "source": [
    "## Estruturas de Dados Para Criação de Vetores em Python"
   ]
  },
  {
   "cell_type": "code",
   "execution_count": 112,
   "metadata": {},
   "outputs": [],
   "source": [
    "# Cria um vetor como lista em Python\n",
    "dsa_vetor1 = [1, 2, 3]"
   ]
  },
  {
   "cell_type": "code",
   "execution_count": 113,
   "metadata": {},
   "outputs": [
    {
     "data": {
      "text/plain": [
       "list"
      ]
     },
     "execution_count": 113,
     "metadata": {},
     "output_type": "execute_result"
    }
   ],
   "source": [
    "type(dsa_vetor1)"
   ]
  },
  {
   "cell_type": "code",
   "execution_count": 114,
   "metadata": {},
   "outputs": [
    {
     "data": {
      "text/plain": [
       "(3,)"
      ]
     },
     "execution_count": 114,
     "metadata": {},
     "output_type": "execute_result"
    }
   ],
   "source": [
    "np.shape(dsa_vetor1)"
   ]
  },
  {
   "cell_type": "code",
   "execution_count": 115,
   "metadata": {},
   "outputs": [],
   "source": [
    "# Cria um vetor como array NumPy\n",
    "dsa_vetor2 = np.array( [1, 2, 3] )"
   ]
  },
  {
   "cell_type": "code",
   "execution_count": 116,
   "metadata": {},
   "outputs": [
    {
     "data": {
      "text/plain": [
       "numpy.ndarray"
      ]
     },
     "execution_count": 116,
     "metadata": {},
     "output_type": "execute_result"
    }
   ],
   "source": [
    "type(dsa_vetor2)"
   ]
  },
  {
   "cell_type": "code",
   "execution_count": 117,
   "metadata": {},
   "outputs": [
    {
     "data": {
      "text/plain": [
       "(3,)"
      ]
     },
     "execution_count": 117,
     "metadata": {},
     "output_type": "execute_result"
    }
   ],
   "source": [
    "dsa_vetor2.shape"
   ]
  },
  {
   "cell_type": "code",
   "execution_count": 118,
   "metadata": {},
   "outputs": [],
   "source": [
    "# Cria um vetor de 1 linha com 3 colunas\n",
    "dsa_vetor3 = np.array( [ [1,2,3] ] ) "
   ]
  },
  {
   "cell_type": "code",
   "execution_count": 119,
   "metadata": {},
   "outputs": [
    {
     "data": {
      "text/plain": [
       "numpy.ndarray"
      ]
     },
     "execution_count": 119,
     "metadata": {},
     "output_type": "execute_result"
    }
   ],
   "source": [
    "type(dsa_vetor3)"
   ]
  },
  {
   "cell_type": "code",
   "execution_count": 120,
   "metadata": {},
   "outputs": [
    {
     "data": {
      "text/plain": [
       "(1, 3)"
      ]
     },
     "execution_count": 120,
     "metadata": {},
     "output_type": "execute_result"
    }
   ],
   "source": [
    "dsa_vetor3.shape"
   ]
  },
  {
   "cell_type": "code",
   "execution_count": 121,
   "metadata": {},
   "outputs": [],
   "source": [
    "# Cria um vetor de 3 linhas e 1 coluna \n",
    "dsa_vetor4 = np.array( [ [1], [2], [3] ] )"
   ]
  },
  {
   "cell_type": "code",
   "execution_count": 122,
   "metadata": {},
   "outputs": [
    {
     "data": {
      "text/plain": [
       "numpy.ndarray"
      ]
     },
     "execution_count": 122,
     "metadata": {},
     "output_type": "execute_result"
    }
   ],
   "source": [
    "type(dsa_vetor4)"
   ]
  },
  {
   "cell_type": "code",
   "execution_count": 123,
   "metadata": {},
   "outputs": [
    {
     "data": {
      "text/plain": [
       "(3, 1)"
      ]
     },
     "execution_count": 123,
     "metadata": {},
     "output_type": "execute_result"
    }
   ],
   "source": [
    "dsa_vetor4.shape"
   ]
  },
  {
   "cell_type": "markdown",
   "metadata": {},
   "source": [
    "## Geometria de Vetores e Representação em Python"
   ]
  },
  {
   "cell_type": "code",
   "execution_count": 124,
   "metadata": {},
   "outputs": [],
   "source": [
    "# Define o vetor\n",
    "u = np.array([-2, 3])"
   ]
  },
  {
   "cell_type": "code",
   "execution_count": 125,
   "metadata": {},
   "outputs": [
    {
     "name": "stdout",
     "output_type": "stream",
     "text": [
      "[-2  3]\n"
     ]
    }
   ],
   "source": [
    "print(u)"
   ]
  },
  {
   "cell_type": "markdown",
   "metadata": {},
   "source": [
    "https://matplotlib.org/stable/users/index.html"
   ]
  },
  {
   "cell_type": "code",
   "execution_count": 19,
   "metadata": {},
   "outputs": [
    {
     "data": {
      "image/png": "[encoded data removed]",
      "text/plain": [
       "<Figure size 360x360 with 1 Axes>"
      ]
     },
     "metadata": {
      "needs_background": "light"
     },
     "output_type": "display_data"
    }
   ],
   "source": [
    "# Exemplo 1\n",
    "\n",
    "# Cria a figura\n",
    "plt.figure(figsize = (5, 5))\n",
    "\n",
    "# Define o vetor como um objeto gráfico chamado arrow\n",
    "\n",
    "# Vetor u\n",
    "vetor1 = plt.arrow(0, \n",
    "                   0, \n",
    "                   u[0], \n",
    "                   u[1], \n",
    "                   head_width = .3, \n",
    "                   width = .1, \n",
    "                   color = 'blue', \n",
    "                   length_includes_head = True)\n",
    "\n",
    "# Ponto de início do vetor\n",
    "plt.plot(0, 0, 'ko', markerfacecolor = 'yellow', markersize = 8)\n",
    "\n",
    "# Formatação do plot\n",
    "plt.grid(linestyle = '--', linewidth = .6)\n",
    "plt.axis('square')\n",
    "plt.axis([-4, 4, -4, 4])\n",
    "plt.legend([vetor1], ['u'])\n",
    "plt.title('Vetor $\\mathbf{u}$')\n",
    "plt.savefig('imagens/grafico_01.png', dpi = 300) \n",
    "plt.show()"
   ]
  },
  {
   "cell_type": "code",
   "execution_count": 20,
   "metadata": {},
   "outputs": [
    {
     "name": "stdout",
     "output_type": "stream",
     "text": [
      "Vetores:\n",
      "[[ 3 -2]\n",
      " [-1  4]\n",
      " [ 2 -3]]\n",
      "\n",
      "Origens:\n",
      "[[ 0 -1 -2]\n",
      " [ 0 -2 -1]]\n"
     ]
    },
    {
     "data": {
      "image/png": "[encoded data removed]",
      "text/plain": [
       "<Figure size 360x360 with 1 Axes>"
      ]
     },
     "metadata": {
      "needs_background": "light"
     },
     "output_type": "display_data"
    }
   ],
   "source": [
    "# Exemplo 2\n",
    "\n",
    "# Cria a figura\n",
    "plt.figure(figsize = (5, 5))\n",
    "\n",
    "# Cria um array de vetores\n",
    "vetores = np.array([ [3, -2], [-1, 4], [2, -3] ])\n",
    "print('Vetores:')\n",
    "print(vetores)\n",
    "\n",
    "# Cria um array de vetores para as origens\n",
    "origens = np.array([[0, -1, -2], [0, -2, -1]]) \n",
    "print('\\nOrigens:')\n",
    "print(origens)\n",
    "\n",
    "# Plot\n",
    "plt.quiver(*origens, vetores[:,0], vetores[:,1], color = ['r','b','g'], scale = 15)\n",
    "\n",
    "# Escala\n",
    "plt.axis([-5, 5, -5, 5])\n",
    "\n",
    "# Salva o gráfico\n",
    "plt.savefig('imagens/grafico_02.png', dpi = 300) \n",
    "\n",
    "# Plot\n",
    "plt.show()"
   ]
  },
  {
   "cell_type": "markdown",
   "metadata": {},
   "source": [
    "Compreendendo a linha abaixo:\n",
    "\n",
    "plt.quiver(*origens, vetores[:,0], vetores[:,1], color = ['r','b','g'], scale = 15)\n",
    "\n",
    "**plt.quiver(...)**: Esta é a chamada da função quiver do matplotlib.pyplot. Ela cria um gráfico de vetores (setas) que podem ser úteis para visualizar campos vetoriais ou outros dados vetoriais.\n",
    "\n",
    "*origens: Este é um argumento descompactado (*) de uma variável chamada origens.Espera-se que origens seja uma sequência de pares de coordenadas (x, y), representando os pontos de origem de cada vetor. O asterisco * é usado para desempacotar a sequência, de modo que cada elemento da sequência seja passado como um argumento separado.\n",
    "\n",
    "**vetores[:,0], vetores[:,1]**: Estes são os componentes x e y dos vetores a serem plotados. A notação vetores[:,0] seleciona todos os elementos da primeira coluna da matriz vetores (assumindo que é uma matriz 2D), que representam os componentes x de cada vetor. Similarmente, vetores[:,1] seleciona todos os elementos da segunda coluna, representando os componentes y.\n",
    "\n",
    "**color = ['r','b','g']**: Este é um argumento que especifica as cores dos vetores. Neste caso, os vetores serão coloridos em vermelho ('r'), azul ('b') e verde ('g'). O número de cores na lista deve corresponder ao número de vetores que estão sendo plotados.\n",
    "\n",
    "**scale = 15**: Este é outro argumento que define a escala dos vetores no gráfico. Uma escala maior faz com que os vetores apareçam maiores (ou mais longos) no gráfico. Este valor é usado para controlar a representação visual dos vetores, e pode ser ajustado conforme necessário para uma visualização clara."
   ]
  },
  {
   "cell_type": "markdown",
   "metadata": {},
   "source": [
    "## Adição de Vetores no Espaço Vetorial"
   ]
  },
  {
   "cell_type": "code",
   "execution_count": 21,
   "metadata": {},
   "outputs": [],
   "source": [
    "# Define os vetores como array NumPy\n",
    "u = np.array([1, 2])\n",
    "v = np.array([4, -6])"
   ]
  },
  {
   "cell_type": "code",
   "execution_count": 22,
   "metadata": {},
   "outputs": [
    {
     "name": "stdout",
     "output_type": "stream",
     "text": [
      "[1 2]\n"
     ]
    }
   ],
   "source": [
    "print(u)"
   ]
  },
  {
   "cell_type": "code",
   "execution_count": 23,
   "metadata": {},
   "outputs": [
    {
     "name": "stdout",
     "output_type": "stream",
     "text": [
      "[ 4 -6]\n"
     ]
    }
   ],
   "source": [
    "print(v)"
   ]
  },
  {
   "cell_type": "code",
   "execution_count": 24,
   "metadata": {},
   "outputs": [],
   "source": [
    "# Soma os vetores\n",
    "soma = u + v"
   ]
  },
  {
   "cell_type": "code",
   "execution_count": 25,
   "metadata": {},
   "outputs": [
    {
     "name": "stdout",
     "output_type": "stream",
     "text": [
      "[ 5 -4]\n"
     ]
    }
   ],
   "source": [
    "print(soma)"
   ]
  },
  {
   "cell_type": "code",
   "execution_count": 26,
   "metadata": {},
   "outputs": [
    {
     "data": {
      "image/png": "[encoded data removed]",
      "text/plain": [
       "<Figure size 576x576 with 1 Axes>"
      ]
     },
     "metadata": {
      "needs_background": "light"
     },
     "output_type": "display_data"
    }
   ],
   "source": [
    "# Plot dos 3 vetores\n",
    "\n",
    "# Cria a figura\n",
    "plt.figure(figsize = (8, 8))\n",
    "\n",
    "# Define os 3 vetores\n",
    "\n",
    "# Vetor u\n",
    "vetor1 = plt.arrow(0, \n",
    "                   0, \n",
    "                   u[0], \n",
    "                   u[1], \n",
    "                   head_width = .3, \n",
    "                   width = .1, \n",
    "                   color = 'blue', \n",
    "                   length_includes_head = True)\n",
    "\n",
    "# Vetor v\n",
    "vetor2 = plt.arrow(0, \n",
    "                   0, \n",
    "                   v[0], \n",
    "                   v[1], \n",
    "                   head_width = .3, \n",
    "                   width = .1, \n",
    "                   color = 'green', \n",
    "                   length_includes_head = True)\n",
    "\n",
    "# Vetor resultante da soma dos vetores u e v\n",
    "vetor3 = plt.arrow(0, \n",
    "                   0, \n",
    "                   soma[0], \n",
    "                   soma[1], \n",
    "                   head_width = .3, \n",
    "                   width = .1, \n",
    "                   color = 'magenta', \n",
    "                   length_includes_head = True)\n",
    "\n",
    "# Ponto de início do vetor\n",
    "plt.plot(0, 0, 'ko', markerfacecolor = 'yellow', markersize = 8)\n",
    "\n",
    "# Formatação do plot\n",
    "plt.grid(linestyle = '--', linewidth = .6)\n",
    "plt.axis('square')\n",
    "plt.axis([-7, 7, -7, 7])\n",
    "plt.legend([vetor1, vetor2, vetor3], ['u','v','u + v'])\n",
    "plt.title('Vetores $\\mathbf{u}$, $\\mathbf{v}$ e $\\mathbf{u + v}$')\n",
    "plt.savefig('imagens/grafico_03.png', dpi = 300) \n",
    "plt.show()"
   ]
  },
  {
   "cell_type": "markdown",
   "metadata": {},
   "source": [
    "Propriedades:\n",
    "\n",
    "O vetor resultante da soma de dois vetores não necessariamente tem a mesma direção de um dos vetores originais. A direção do vetor resultante depende das magnitudes e direções dos vetores originais. Aqui estão alguns cenários para ilustrar isso:\n",
    "\n",
    "**Mesma Direção e Sentido**: Se dois vetores estão na mesma direção e têm o mesmo sentido (ou seja, não são opostos), o vetor resultante também terá a mesma direção e sentido, mas com uma magnitude maior. Por exemplo, somar [2, 2] e [1, 1] resulta em [3, 3], que está na mesma direção e sentido.\n",
    "\n",
    "**Direções Diferentes**: Se os vetores estão em direções diferentes, o vetor resultante terá uma direção que é uma \"média\" ponderada das direções originais, dependendo das magnitudes dos vetores. Por exemplo, somar [1, 0] e [0, 1] resulta em [1, 1], que está em uma nova direção.\n",
    "\n",
    "**Vetores Opostos**: Se os vetores são exatamente opostos (mesma magnitude, direções opostas), a soma resultará no vetor zero, o qual tecnicamente não tem uma direção definida. Por exemplo, somar [1, 0] e [-1, 0] resulta em [0, 0].\n",
    "\n",
    "**Um Vetor é Múltiplo do Outro**: Se um vetor é um múltiplo escalar do outro, a soma resultará em um vetor que tem a mesma direção de ambos os vetores originais, mas com uma magnitude que é a soma (ou diferença, dependendo do sinal do escalar) das magnitudes. Por exemplo, somar [1, 1] e [-2, -2] resultará em [-1, -1], que está na mesma direção, mas com uma magnitude e sentido diferentes.\n",
    "\n",
    "Portanto, a direção do vetor resultante da soma de dois vetores depende de suas magnitudes e direções relativas."
   ]
  },
  {
   "cell_type": "markdown",
   "metadata": {},
   "source": [
    "> Também podemos somar os vetores assim:"
   ]
  },
  {
   "cell_type": "code",
   "execution_count": 27,
   "metadata": {},
   "outputs": [
    {
     "name": "stdout",
     "output_type": "stream",
     "text": [
      "[4 3 2]\n",
      "[1 5 7]\n"
     ]
    }
   ],
   "source": [
    "# Define os vetores\n",
    "a = np.array([4, 3, 2])\n",
    "print(a)\n",
    "b = np.array([1, 5, 7])\n",
    "print(b)"
   ]
  },
  {
   "cell_type": "code",
   "execution_count": 28,
   "metadata": {},
   "outputs": [],
   "source": [
    "# Cria um array vazio\n",
    "c = np.empty(3)"
   ]
  },
  {
   "cell_type": "code",
   "execution_count": 29,
   "metadata": {},
   "outputs": [],
   "source": [
    "# Também podemos somar os vetores assim:\n",
    "c[0] = a[0] + b[0]\n",
    "c[1] = a[1] + b[1]\n",
    "c[2] = a[2] + b[2]"
   ]
  },
  {
   "cell_type": "code",
   "execution_count": 30,
   "metadata": {},
   "outputs": [
    {
     "name": "stdout",
     "output_type": "stream",
     "text": [
      "[5. 8. 9.]\n"
     ]
    }
   ],
   "source": [
    "print(c)"
   ]
  },
  {
   "cell_type": "code",
   "execution_count": 31,
   "metadata": {},
   "outputs": [
    {
     "name": "stdout",
     "output_type": "stream",
     "text": [
      "[5 8 9]\n"
     ]
    }
   ],
   "source": [
    "# Mesmo que isso:\n",
    "c = a + b\n",
    "print(c)"
   ]
  },
  {
   "cell_type": "markdown",
   "metadata": {},
   "source": [
    "## Subtração de Vetores no Espaço Vetorial"
   ]
  },
  {
   "cell_type": "code",
   "execution_count": 32,
   "metadata": {},
   "outputs": [],
   "source": [
    "# Define os vetores como array NumPy\n",
    "u = np.array([1, 2])\n",
    "v = np.array([2, -3])"
   ]
  },
  {
   "cell_type": "code",
   "execution_count": 33,
   "metadata": {},
   "outputs": [],
   "source": [
    "# Subtração dos vetores\n",
    "diff = u - v"
   ]
  },
  {
   "cell_type": "code",
   "execution_count": 34,
   "metadata": {},
   "outputs": [
    {
     "name": "stdout",
     "output_type": "stream",
     "text": [
      "[-1  5]\n"
     ]
    }
   ],
   "source": [
    "print(diff)"
   ]
  },
  {
   "cell_type": "code",
   "execution_count": 35,
   "metadata": {},
   "outputs": [
    {
     "data": {
      "text/plain": [
       "numpy.ndarray"
      ]
     },
     "execution_count": 35,
     "metadata": {},
     "output_type": "execute_result"
    }
   ],
   "source": [
    "type(diff)"
   ]
  },
  {
   "cell_type": "code",
   "execution_count": 36,
   "metadata": {},
   "outputs": [
    {
     "data": {
      "image/png": "[encoded data removed]",
      "text/plain": [
       "<Figure size 576x576 with 1 Axes>"
      ]
     },
     "metadata": {
      "needs_background": "light"
     },
     "output_type": "display_data"
    }
   ],
   "source": [
    "# Plot dos 3 vetores\n",
    "\n",
    "# Tamanho da figura\n",
    "plt.figure(figsize = (8,8))\n",
    "\n",
    "# Vetores\n",
    "v1 = plt.arrow(0, 0, u[0], u[1], head_width = .3, width = .1, color = 'blue', length_includes_head = True)\n",
    "v2 = plt.arrow(0, 0, v[0], v[1], head_width = .3, width = .1, color = 'green', length_includes_head = True)\n",
    "v3 = plt.arrow(0, 0, diff[0], diff[1], head_width = .3, width = .1, color = 'magenta', length_includes_head = True)\n",
    "\n",
    "# Ponto de início do vetor\n",
    "plt.plot(0, 0, 'ko', markerfacecolor = 'yellow', markersize = 8)\n",
    "\n",
    "# Formatação do plot\n",
    "plt.grid(linestyle = '--', linewidth = .6)\n",
    "plt.axis('square')\n",
    "plt.axis([-6, 6, -6, 6])\n",
    "plt.legend([v1, v2, v3], ['u', 'v', 'u - v'])\n",
    "plt.title('Vetores $\\mathbf{u}$, $\\mathbf{v}$ e $\\mathbf{u - v}$')\n",
    "plt.savefig('imagens/grafico_04.png', dpi = 300)\n",
    "plt.show()"
   ]
  },
  {
   "cell_type": "markdown",
   "metadata": {},
   "source": [
    "Propriedades:\n",
    "\n",
    "O vetor resultante da subtração de dois vetores pode ou não ter a mesma direção de um dos vetores originais. A direção e magnitude do vetor resultante dependem das relações entre os vetores que estão sendo subtraídos. Aqui estão alguns cenários possíveis:\n",
    "\n",
    "**Vetores com a Mesma Direção e Sentido**: Se você subtrair um vetor de outro vetor na mesma direção e sentido, mas de magnitude diferente, o vetor resultante terá a mesma direção e sentido que os vetores originais. Por exemplo, subtraindo [1, 1] de [3, 3] resulta em [2, 2], que tem a mesma direção e sentido.\n",
    "\n",
    "**Vetores com Direções Diferentes**: Se os vetores têm direções diferentes, o vetor resultante terá uma direção que depende da diferença entre as direções e magnitudes dos vetores originais. Por exemplo, subtraindo [1, 0] de [0, 1] resulta em [-1, 1], que é uma nova direção.\n",
    "\n",
    "**Vetores Opostos**: Se os vetores são opostos (mesma magnitude, direções opostas), a subtração resultará em um vetor com o dobro da magnitude de um dos vetores e na direção do vetor do qual você está subtraindo. Por exemplo, subtraindo [-1, 0] de [1, 0] resulta em [2, 0], que tem a mesma direção que o vetor [1, 0].\n",
    "\n",
    "**Um Vetor é Múltiplo do Outro**: Se um vetor é um múltiplo escalar do outro, a subtração resultará em um vetor que tem a mesma direção que os vetores originais, mas com uma magnitude que é a diferença das magnitudes. Por exemplo, subtraindo [-2, -2] de [1, 1] resultará em [3, 3], que está na mesma direção."
   ]
  },
  {
   "cell_type": "markdown",
   "metadata": {},
   "source": [
    "## Multiplicação Escalar no Espaço Vetorial"
   ]
  },
  {
   "cell_type": "code",
   "execution_count": 37,
   "metadata": {},
   "outputs": [],
   "source": [
    "# Valor escalar\n",
    "valor_escalar = 3"
   ]
  },
  {
   "cell_type": "code",
   "execution_count": 38,
   "metadata": {},
   "outputs": [],
   "source": [
    "# Vetor\n",
    "vetor = np.array([5,4])"
   ]
  },
  {
   "cell_type": "code",
   "execution_count": 39,
   "metadata": {},
   "outputs": [],
   "source": [
    "resultado = vetor * valor_escalar "
   ]
  },
  {
   "cell_type": "code",
   "execution_count": 40,
   "metadata": {},
   "outputs": [
    {
     "name": "stdout",
     "output_type": "stream",
     "text": [
      "[15 12]\n"
     ]
    }
   ],
   "source": [
    "print(resultado)"
   ]
  },
  {
   "cell_type": "code",
   "execution_count": 41,
   "metadata": {},
   "outputs": [
    {
     "name": "stdout",
     "output_type": "stream",
     "text": [
      "[7 6]\n"
     ]
    }
   ],
   "source": [
    "# Também podemos fazer outras operações escalares\n",
    "num = 2\n",
    "print(vetor + num)"
   ]
  },
  {
   "cell_type": "code",
   "execution_count": 42,
   "metadata": {},
   "outputs": [
    {
     "name": "stdout",
     "output_type": "stream",
     "text": [
      "[3 2]\n"
     ]
    }
   ],
   "source": [
    "# Também podemos fazer outras operações escalares\n",
    "num = 2\n",
    "print(vetor - num)"
   ]
  },
  {
   "cell_type": "code",
   "execution_count": 43,
   "metadata": {},
   "outputs": [
    {
     "name": "stdout",
     "output_type": "stream",
     "text": [
      "[-3 -2]\n"
     ]
    }
   ],
   "source": [
    "# Mas tome cuidado:\n",
    "num = 2\n",
    "print(num - vetor)"
   ]
  },
  {
   "cell_type": "code",
   "execution_count": 44,
   "metadata": {},
   "outputs": [
    {
     "name": "stdout",
     "output_type": "stream",
     "text": [
      "[2.5 2. ]\n"
     ]
    }
   ],
   "source": [
    "# Também podemos fazer outras operações escalares\n",
    "num = 2\n",
    "print(vetor / num)"
   ]
  },
  {
   "cell_type": "code",
   "execution_count": 45,
   "metadata": {},
   "outputs": [
    {
     "name": "stdout",
     "output_type": "stream",
     "text": [
      "[25 16]\n"
     ]
    }
   ],
   "source": [
    "# Também podemos fazer outras operações escalares\n",
    "num = 2\n",
    "print(vetor ** num)"
   ]
  },
  {
   "cell_type": "markdown",
   "metadata": {},
   "source": [
    "> Observe este exemplo:"
   ]
  },
  {
   "cell_type": "code",
   "execution_count": 46,
   "metadata": {},
   "outputs": [
    {
     "name": "stdout",
     "output_type": "stream",
     "text": [
      "[1, 2, 0.5, -1, -2]\n",
      "[0.9 1.2]\n"
     ]
    },
    {
     "data": {
      "image/png": "[encoded data removed]",
      "text/plain": [
       "<Figure size 1008x360 with 5 Axes>"
      ]
     },
     "metadata": {
      "needs_background": "light"
     },
     "output_type": "display_data"
    }
   ],
   "source": [
    "# Efeito de diferentes valores escalares\n",
    "\n",
    "# Lista de escalaraes\n",
    "valores_escalares = [ 1, 2, 1/2, -1, -2 ]\n",
    "print(valores_escalares)\n",
    "\n",
    "# Vetor\n",
    "vetor_inicial = np.array([ .9, 1.2 ])\n",
    "print(vetor_inicial)\n",
    "\n",
    "# Cria a figura\n",
    "fig, axs = plt.subplots(1, len(valores_escalares), figsize = (14,5))\n",
    "\n",
    "# Contador para os subplots\n",
    "i = 0 \n",
    "\n",
    "for valor in valores_escalares:\n",
    "    \n",
    "    # Multiplicação escalar\n",
    "    vetor_resultante = valor * vetor_inicial\n",
    "\n",
    "    # Plot do vetor inicial\n",
    "    axs[i].arrow(0, \n",
    "                 0, \n",
    "                 vetor_inicial[0], \n",
    "                 vetor_inicial[1], \n",
    "                 head_width = .3,\n",
    "                 width = .1, \n",
    "                 color = 'blue',\n",
    "                 length_includes_head = True)\n",
    "    \n",
    "    # Plot do vetor resultante\n",
    "    axs[i].arrow(0.1, \n",
    "                 0, \n",
    "                 vetor_resultante[0], \n",
    "                 vetor_resultante[1], \n",
    "                 head_width = .3,\n",
    "                 width = .1,\n",
    "                 color = 'red',\n",
    "                 length_includes_head = True)\n",
    "    \n",
    "    # Grid\n",
    "    axs[i].grid(linestyle = '--')\n",
    "    \n",
    "    # Formato\n",
    "    axs[i].axis('square')\n",
    "    \n",
    "    # Eixos\n",
    "    axs[i].axis([-2.5, 2.5, -2.5, 2.5])\n",
    "    \n",
    "    # Limites\n",
    "    axs[i].set(xticks = np.arange(-2,3), yticks = np.arange(-2,3))\n",
    "    \n",
    "    # Título\n",
    "    axs[i].set_title(f'$\\sigma$ = {valor:.2f}')\n",
    "    \n",
    "    # Contador\n",
    "    i += 1\n",
    "\n",
    "plt.tight_layout()\n",
    "plt.savefig('imagens/grafico_05.png', dpi = 300)\n",
    "plt.show()"
   ]
  },
  {
   "cell_type": "markdown",
   "metadata": {},
   "source": [
    "Propriedades:\n",
    "\n",
    "A direção do vetor resultante de uma multiplicação escalar em um espaço vetorial é diretamente relacionada à direção do vetor original antes da multiplicação. Quando um vetor é multiplicado por um escalar, apenas a magnitude do vetor é alterada (aumentada ou diminuída, dependendo do valor absoluto do escalar), enquanto a direção permanece a mesma ou se inverte, dependendo do sinal do escalar. Aqui estão as possibilidades:\n",
    "\n",
    "**Multiplicação por um Escalar Positivo**: Se o vetor é multiplicado por um escalar positivo, a direção do vetor resultante é a mesma do vetor original. O vetor resultante é uma versão \"esticada\" ou \"comprimida\" do vetor original, dependendo se o escalar é maior ou menor que um, respectivamente.\n",
    "\n",
    "**Multiplicação por Zero**: Se o vetor é multiplicado por zero, o vetor resultante é o vetor zero, que tecnicamente não tem direção definida.\n",
    "\n",
    "**Multiplicação por um Escalar Negativo**: Se o vetor é multiplicado por um escalar negativo, a direção do vetor resultante é oposta à do vetor original. O vetor resultante ainda é uma versão \"esticada\" ou \"comprimida\" do vetor original, mas aponta na direção oposta.\n",
    "\n",
    "Assim, a operação de multiplicação escalar pode alterar a magnitude de um vetor, mas afeta sua direção de maneira previsível, mantendo-a a mesma ou invertendo-a, dependendo do sinal do escalar."
   ]
  },
  {
   "cell_type": "markdown",
   "metadata": {},
   "source": [
    "## Cross Product (Produto Vetorial) Entre Vetores no Espaço Vetorial"
   ]
  },
  {
   "cell_type": "code",
   "execution_count": 47,
   "metadata": {},
   "outputs": [],
   "source": [
    "# Define 2 vetores\n",
    "A = np.array([ 5, 2, 3 ])\n",
    "B = np.array([ 3, 2, 4 ])"
   ]
  },
  {
   "cell_type": "code",
   "execution_count": 48,
   "metadata": {},
   "outputs": [
    {
     "name": "stdout",
     "output_type": "stream",
     "text": [
      "[  2 -11   4]\n"
     ]
    }
   ],
   "source": [
    "# Calcula o cross product\n",
    "resultado = np.cross(A, B)\n",
    "print(resultado)"
   ]
  },
  {
   "cell_type": "code",
   "execution_count": 49,
   "metadata": {},
   "outputs": [
    {
     "data": {
      "text/plain": [
       "numpy.ndarray"
      ]
     },
     "execution_count": 49,
     "metadata": {},
     "output_type": "execute_result"
    }
   ],
   "source": [
    "type(resultado)"
   ]
  },
  {
   "cell_type": "code",
   "execution_count": 50,
   "metadata": {},
   "outputs": [
    {
     "data": {
      "text/plain": [
       "(3,)"
      ]
     },
     "execution_count": 50,
     "metadata": {},
     "output_type": "execute_result"
    }
   ],
   "source": [
    "resultado.shape"
   ]
  },
  {
   "cell_type": "code",
   "execution_count": 51,
   "metadata": {},
   "outputs": [],
   "source": [
    "# Criando nossa própria função\n",
    "def cross_prod(a, b):\n",
    "    \n",
    "    # Cálculo\n",
    "    resultado = [a[1] * b[2] - a[2] * b[1], a[2] * b[0] - a[0] * b[2], a[0] * b[1] - a[1] * b[0]]\n",
    "\n",
    "    # Retorno\n",
    "    return resultado"
   ]
  },
  {
   "cell_type": "code",
   "execution_count": 52,
   "metadata": {},
   "outputs": [],
   "source": [
    "# Executa a função\n",
    "vetor_resultante = cross_prod(A, B)"
   ]
  },
  {
   "cell_type": "code",
   "execution_count": 53,
   "metadata": {},
   "outputs": [
    {
     "name": "stdout",
     "output_type": "stream",
     "text": [
      "[2, -11, 4]\n"
     ]
    }
   ],
   "source": [
    "print(vetor_resultante)"
   ]
  },
  {
   "cell_type": "code",
   "execution_count": 54,
   "metadata": {},
   "outputs": [
    {
     "data": {
      "image/png": "[encoded data removed]",
      "text/plain": [
       "<Figure size 432x432 with 1 Axes>"
      ]
     },
     "metadata": {
      "needs_background": "light"
     },
     "output_type": "display_data"
    }
   ],
   "source": [
    "# Plot dos vetores no cross product\n",
    "\n",
    "# Configurando o gráfico\n",
    "plt.figure(figsize = (6, 6))\n",
    "\n",
    "# Plotando os vetores (apenas componentes x e y)\n",
    "plt.quiver(0, 0, A[0], A[1], color='r', angles='xy', scale_units='xy', scale=1, label='A')\n",
    "plt.quiver(0, 0, B[0], B[1], color='g', angles='xy', scale_units='xy', scale=1, label='B')\n",
    "plt.quiver(0, 0, resultado[0], resultado[1], color='b', angles='xy', scale_units='xy', scale=1, label='Resultado')\n",
    "\n",
    "# Definindo limites e características do gráfico\n",
    "plt.xlim(-15, 15)\n",
    "plt.ylim(-15, 15)\n",
    "plt.grid()\n",
    "plt.legend()\n",
    "plt.xlabel('X axis')\n",
    "plt.ylabel('Y axis')\n",
    "plt.title('Cross Product')\n",
    "\n",
    "# Exibindo o gráfico\n",
    "plt.savefig('imagens/grafico_06.png', dpi = 300) \n",
    "plt.show()"
   ]
  },
  {
   "cell_type": "markdown",
   "metadata": {},
   "source": [
    "## Dot Product (Produto Escalar) Entre Vetores no Espaço Vetorial"
   ]
  },
  {
   "cell_type": "code",
   "execution_count": 55,
   "metadata": {},
   "outputs": [],
   "source": [
    "# Define 2 vetores\n",
    "A = np.array([ 5, 2, 3 ])\n",
    "B = np.array([ 3, 2, 4 ])"
   ]
  },
  {
   "cell_type": "code",
   "execution_count": 56,
   "metadata": {},
   "outputs": [
    {
     "name": "stdout",
     "output_type": "stream",
     "text": [
      "31\n"
     ]
    }
   ],
   "source": [
    "# Calcula o dot product\n",
    "resultado1 = np.dot( A, B )\n",
    "print(resultado1)"
   ]
  },
  {
   "cell_type": "code",
   "execution_count": 57,
   "metadata": {},
   "outputs": [],
   "source": [
    "# Cria 3 vetores \n",
    "u = np.array([ 1, 5 ])\n",
    "v = np.array([ 6, 2 ])\n",
    "w = np.array([ 19, 4 ])"
   ]
  },
  {
   "cell_type": "code",
   "execution_count": 58,
   "metadata": {},
   "outputs": [
    {
     "name": "stdout",
     "output_type": "stream",
     "text": [
      "55\n"
     ]
    }
   ],
   "source": [
    "# Opção 1 de calcular dot product com 3 vetores\n",
    "resultado1 = np.dot( u, v + w )\n",
    "print(resultado1)"
   ]
  },
  {
   "cell_type": "code",
   "execution_count": 59,
   "metadata": {},
   "outputs": [
    {
     "name": "stdout",
     "output_type": "stream",
     "text": [
      "55\n"
     ]
    }
   ],
   "source": [
    "# Opção 2 de calcular dot product com 3 vetores\n",
    "resultado2 = np.dot( u, v ) + np.dot( u, w )\n",
    "print(resultado2)"
   ]
  },
  {
   "cell_type": "code",
   "execution_count": 60,
   "metadata": {},
   "outputs": [
    {
     "data": {
      "image/png": "[encoded data removed]",
      "text/plain": [
       "<Figure size 432x288 with 1 Axes>"
      ]
     },
     "metadata": {
      "needs_background": "light"
     },
     "output_type": "display_data"
    }
   ],
   "source": [
    "# Definindo os vetores\n",
    "u = np.array([1, 5])\n",
    "v = np.array([6, 2])\n",
    "w = np.array([19, 4])\n",
    "\n",
    "# Calculando a soma de v e w\n",
    "vw_sum = v + w\n",
    "\n",
    "# Configurando o gráfico\n",
    "plt.figure()\n",
    "\n",
    "# Adicionando os vetores u, v, w e vw_sum ao gráfico\n",
    "plt.quiver(0, 0, u[0], u[1], color = 'r', scale = 1, scale_units = 'xy', angles = 'xy', label = 'u')\n",
    "plt.quiver(0, 0, v[0], v[1], color = 'b', scale = 1, scale_units = 'xy', angles = 'xy', label = 'v')\n",
    "plt.quiver(0, 0, w[0], w[1], color = 'g', scale = 1, scale_units = 'xy', angles = 'xy', label = 'w')\n",
    "plt.quiver(0, 0, vw_sum[0], vw_sum[1], color = 'orange', scale = 1, scale_units = 'xy', angles = 'xy', label = 'v+w')\n",
    "\n",
    "# Definindo limites do gráfico\n",
    "plt.xlim(-10, 30)\n",
    "plt.ylim(-10, 30)\n",
    "\n",
    "# Adicionando grade\n",
    "plt.grid()\n",
    "\n",
    "# Adicionando legenda\n",
    "plt.legend()\n",
    "\n",
    "# Mostrando o gráfico\n",
    "plt.savefig('imagens/grafico_07.png', dpi = 300) \n",
    "plt.show()"
   ]
  },
  {
   "cell_type": "markdown",
   "metadata": {},
   "source": [
    "Este gráfico ajuda a visualizar os vetores individuais e a soma de v e w, que é relevante para o cálculo do produto escalar. "
   ]
  },
  {
   "cell_type": "markdown",
   "metadata": {},
   "source": [
    "## Transposta do Vetor"
   ]
  },
  {
   "cell_type": "code",
   "execution_count": 61,
   "metadata": {},
   "outputs": [],
   "source": [
    "# Cria o vetor\n",
    "vec = np.array([ [1, 2, 3] ])"
   ]
  },
  {
   "cell_type": "code",
   "execution_count": 62,
   "metadata": {},
   "outputs": [
    {
     "name": "stdout",
     "output_type": "stream",
     "text": [
      "[[1 2 3]]\n"
     ]
    }
   ],
   "source": [
    "print(vec)"
   ]
  },
  {
   "cell_type": "code",
   "execution_count": 63,
   "metadata": {},
   "outputs": [
    {
     "data": {
      "text/plain": [
       "(1, 3)"
      ]
     },
     "execution_count": 63,
     "metadata": {},
     "output_type": "execute_result"
    }
   ],
   "source": [
    "vec.shape"
   ]
  },
  {
   "cell_type": "code",
   "execution_count": 64,
   "metadata": {},
   "outputs": [],
   "source": [
    "# Salva a transposta\n",
    "transposta = vec.T"
   ]
  },
  {
   "cell_type": "code",
   "execution_count": 65,
   "metadata": {},
   "outputs": [
    {
     "data": {
      "text/plain": [
       "(3, 1)"
      ]
     },
     "execution_count": 65,
     "metadata": {},
     "output_type": "execute_result"
    }
   ],
   "source": [
    "transposta.shape"
   ]
  },
  {
   "cell_type": "code",
   "execution_count": 66,
   "metadata": {},
   "outputs": [
    {
     "name": "stdout",
     "output_type": "stream",
     "text": [
      "[[1]\n",
      " [2]\n",
      " [3]]\n"
     ]
    }
   ],
   "source": [
    "# Transposta\n",
    "print(transposta)"
   ]
  },
  {
   "cell_type": "code",
   "execution_count": 67,
   "metadata": {},
   "outputs": [
    {
     "name": "stdout",
     "output_type": "stream",
     "text": [
      "[[1 2 3]]\n"
     ]
    }
   ],
   "source": [
    "# Transposta da transposta\n",
    "print(vec.T.T)"
   ]
  },
  {
   "cell_type": "code",
   "execution_count": 68,
   "metadata": {},
   "outputs": [],
   "source": [
    "# Cria o vetor\n",
    "vec = np.array([ [1, 2] ])"
   ]
  },
  {
   "cell_type": "code",
   "execution_count": 69,
   "metadata": {},
   "outputs": [],
   "source": [
    "# Salva a transposta\n",
    "transposta = vec.T"
   ]
  },
  {
   "cell_type": "code",
   "execution_count": 70,
   "metadata": {},
   "outputs": [
    {
     "data": {
      "text/plain": [
       "(2, 1)"
      ]
     },
     "execution_count": 70,
     "metadata": {},
     "output_type": "execute_result"
    }
   ],
   "source": [
    "transposta.shape"
   ]
  },
  {
   "cell_type": "code",
   "execution_count": 71,
   "metadata": {},
   "outputs": [
    {
     "name": "stdout",
     "output_type": "stream",
     "text": [
      "[[1]\n",
      " [2]]\n"
     ]
    }
   ],
   "source": [
    "# Transposta\n",
    "print(transposta)"
   ]
  },
  {
   "cell_type": "markdown",
   "metadata": {},
   "source": [
    "Para representar graficamente tanto o vetor original quanto a sua transposta, é importante entender que a operação de transposição em um vetor individual, especialmente um vetor coluna transformando-se em vetor linha (ou vice-versa), não altera seus componentes. Isso significa que, em termos de representação gráfica, o vetor e sua transposta são indistinguíveis.\n",
    "\n",
    "No entanto, para fins de ilustração, vamos representar o vetor original e sua transposta no mesmo gráfico, mesmo que ambos sejam visualmente idênticos. Vamos usar cores diferentes para diferenciá-los somente para fins de visualização."
   ]
  },
  {
   "cell_type": "code",
   "execution_count": 72,
   "metadata": {},
   "outputs": [
    {
     "data": {
      "image/png": "[encoded data removed]",
      "text/plain": [
       "<Figure size 432x288 with 1 Axes>"
      ]
     },
     "metadata": {
      "needs_background": "light"
     },
     "output_type": "display_data"
    }
   ],
   "source": [
    "# Definindo o vetor original (apenas as duas primeiras componentes para representação gráfica)\n",
    "vec = np.array([1, 2])\n",
    "\n",
    "# Configurando o gráfico\n",
    "plt.figure()\n",
    "\n",
    "# Adicionando o vetor original ao gráfico\n",
    "plt.quiver(0, \n",
    "           0, \n",
    "           vec[0], \n",
    "           vec[1], \n",
    "           color = 'r', \n",
    "           scale = 1, \n",
    "           scale_units = 'xy', \n",
    "           angles = 'xy', \n",
    "           label = 'vec (original)')\n",
    "\n",
    "# Adicionando a transposta do vetor ao gráfico (mesmas coordenadas, cor diferente para ilustração)\n",
    "plt.quiver(0.1, \n",
    "           0, \n",
    "           transposta[0], \n",
    "           transposta[1], \n",
    "           color = 'b', \n",
    "           scale = 1, \n",
    "           scale_units = 'xy', \n",
    "           angles = 'xy', \n",
    "           label = 'vec.T (transposta)')\n",
    "\n",
    "# Definindo limites do gráfico\n",
    "plt.xlim(-1, 5)\n",
    "plt.ylim(-1, 5)\n",
    "\n",
    "# Adicionando grade\n",
    "plt.grid()\n",
    "\n",
    "# Adicionando legenda\n",
    "plt.legend()\n",
    "\n",
    "# Mostrando o gráfico\n",
    "plt.savefig('imagens/grafico_08.png', dpi = 300) \n",
    "plt.show()"
   ]
  },
  {
   "cell_type": "markdown",
   "metadata": {},
   "source": [
    "> Continuaremos no próximo capítulo!"
   ]
  },
  {
   "cell_type": "markdown",
   "metadata": {},
   "source": [
    "## Axiomas de Operações com Vetores no Espaço Vetorial em Python"
   ]
  },
  {
   "cell_type": "markdown",
   "metadata": {},
   "source": [
    "Um espaço vetorial, como o próprio nome indica, é o espaço para vetores, que define duas operações, **adição** e **multiplicação por escalares**, sujeitas aos axiomas abaixo:"
   ]
  },
  {
   "cell_type": "markdown",
   "metadata": {},
   "source": [
    "1. A soma de ${u}$ e ${v}$, indicado por ${u}+{v},$ está em $V$\n",
    "2. ${u}+{v}={v}+{u}$\n",
    "3. $({u}+{v})+{w}={u}+({v}+{w})$\n",
    "4. Existe um vetor nulo $0$ em $V$ tal que ${u}+{0}={u}$\n",
    "5. Para cada ${u}$ em $V$, há um vetor $-{u}$ in $V$ tal que ${u}+(-{u})={0}$\n",
    "6. A multipplicação do escalar ${u}$ por $c,$ indicado por $c {u},$ está em $V$\n",
    "7. $c({u}+{v})=c {u}+c {v}$\n",
    "8. $(c+d) {u}=c {u}+d {u}$\n",
    "9. $c(d {u})=(c d) {u}$\n",
    "10. $1 {u}={u}$"
   ]
  },
  {
   "cell_type": "markdown",
   "metadata": {},
   "source": [
    "Todos os axiomas são autoexplicativos, mas vamos representar um deles em Linguagem Python. Podemos visualizar o axioma $7$ com uma função em Python. Como forma de praticar tente criar funções para os demais axiomas.\n",
    "\n",
    "Vamos construir a função que vai representar e executar esta operação:\n",
    "\n",
    "$c({u}+{v})=c {u}+c {v}$"
   ]
  },
  {
   "cell_type": "code",
   "execution_count": 73,
   "metadata": {},
   "outputs": [],
   "source": [
    "# Função para o axioma 7\n",
    "def funcAxioma7(u, v, c):\n",
    "    \n",
    "    # Cria figura e subplots\n",
    "    fig, ax = plt.subplots(figsize = (8, 8))\n",
    "\n",
    "    # Seta para o vetor u (passado como argumento na função).\n",
    "    ax.arrow(0, \n",
    "             0, \n",
    "             u[0], \n",
    "             u[1], \n",
    "             color = 'red', \n",
    "             width = .08, \n",
    "             length_includes_head = True,\n",
    "             head_width = .3, \n",
    "             head_length = .6,\n",
    "             overhang = .4)\n",
    "    \n",
    "    # Seta para o vetor v (passado como argumento na função).\n",
    "    ax.arrow(0, \n",
    "             0, \n",
    "             v[0], \n",
    "             v[1], \n",
    "             color = 'blue', \n",
    "             width = .08, \n",
    "             length_includes_head = True,\n",
    "             head_width = .3,\n",
    "             head_length = .6,\n",
    "             overhang = .4)\n",
    "    \n",
    "    # Operação de soma entre os vetores u e v (apenas para demonstrar no gráfico).\n",
    "    ax.arrow(0, \n",
    "             0, \n",
    "             u[0] + v[0], \n",
    "             u[1] + v[1], \n",
    "             color = 'green', \n",
    "             width = .08, \n",
    "             length_includes_head = True,\n",
    "             head_width = .3, \n",
    "             head_length = .6,\n",
    "             overhang = .4)\n",
    "    \n",
    "    # Operação de multiplicação entre o escalar c e o vetor u.\n",
    "    # O valor de c é passado como argumento da função.\n",
    "    ax.arrow(0, \n",
    "             0, \n",
    "             c * u[0], \n",
    "             c * u[1], \n",
    "             color = 'red', \n",
    "             width = .08, \n",
    "             alpha=.5, \n",
    "             length_includes_head = True,\n",
    "             head_width = .3, \n",
    "             head_length = .6,\n",
    "             overhang = .4)\n",
    "    \n",
    "    # Operação de multiplicação entre o escalar c e o vetor v.\n",
    "    # O valor de c é passado como argumento da função.\n",
    "    ax.arrow(0, \n",
    "             0, \n",
    "             c * v[0], \n",
    "             c * v[1], \n",
    "             color = 'blue', \n",
    "             width = .08, \n",
    "             alpha=.5, \n",
    "             length_includes_head = True,\n",
    "             head_width = .3, \n",
    "             head_length = .6,\n",
    "             overhang = .4)    \n",
    "    \n",
    "     # Operação entre o escalar c e os vetores u e v (conforme axioma 7).\n",
    "    ax.arrow(0, \n",
    "             0, \n",
    "             c * (u[0] + v[0]), \n",
    "             c * (u[1] + v[1]), \n",
    "             color = 'green', \n",
    "             width = .08, \n",
    "             alpha = .5,  \n",
    "             length_includes_head = True,\n",
    "             head_width = .3, \n",
    "             head_length = .6,\n",
    "             overhang = .4)\n",
    "        \n",
    "    # Agora representamos o texto no gráfico.\n",
    "    \n",
    "    # Coordenadas do vetor u\n",
    "    ax.text(x = u[0], y = u[1], s = '$(%.0d, %.0d)$' % (u[0], u[1]), size = 16)\n",
    "    print('Vetor u:', (u[0], u[1]))\n",
    "    \n",
    "    # Coordenadas do vetor v\n",
    "    ax.text(x = v[0], y = v[1], s = '$(%.0d, %.0d)$' % (v[0], v[1]), size = 16)\n",
    "    print('Vetor v:', (v[0], v[1]))\n",
    "    \n",
    "    # Coordenadas do vetor resultante da soma entre u e v\n",
    "    ax.text(x = u[0] + v[0], y = u[1] + v[1], s = '$(%.0d, %.0d)$' % (u[0] + v[0], u[1] + v[1]), size = 16)    \n",
    "    print('Soma de u + v:', (u[0] + v[0], u[1] + v[1]))\n",
    "    \n",
    "    # Coordenadas do vetor resultante da multiplicação entre c e u\n",
    "    ax.text(x = c * u[0], y = c * u[1], s = '$(%.0d, %.0d)$' % (c * u[0], c * u[1]), size = 16) \n",
    "    print('Escalar c:', c)\n",
    "    print('Multiplicação de c e u:', (c * u[0], c * u[1]))\n",
    "    \n",
    "    # Coordenadas do vetor resultante da multiplicação entre c e v\n",
    "    ax.text(x = c * v[0], y = c * v[1], s = '$(%.0d, %.0d)$' % (c * v[0], c * v[1]), size = 16)     \n",
    "    print('Multiplicação de c e v:', (c * v[0], c * v[1]))\n",
    "    \n",
    "    # Coordenadas do vetor resultante da multiplicação entre c e a soma de u e v\n",
    "    ax.text(x = c*(u[0]+v[0]), y = c*(u[1]+v[1]), s = '$(%.0d, %.0d)$' % (c*(u[0]+v[0]), c*(u[1]+v[1])), size = 16)  \n",
    "    print('Multiplicação de c pela soma de u + v:', (c*(u[0]+v[0]), c*(u[1]+v[1])))\n",
    "    \n",
    "    # Título\n",
    "    ax.set_title('Axioma 7: $c(\\mathbf{u}+\\mathbf{v})=c \\mathbf{u}+c \\mathbf{v}$', size = 19, color = 'black')\n",
    "    \n",
    "    # Usamos matemática para expandir as coordenadas do gráfico de acordo com os vetores\n",
    "    ax.axis([-3, np.max(c * u) + 6, -3, np.max(c * v) + 6])\n",
    "    ax.grid(True)"
   ]
  },
  {
   "cell_type": "code",
   "execution_count": 74,
   "metadata": {},
   "outputs": [
    {
     "name": "stdout",
     "output_type": "stream",
     "text": [
      "Vetor u: (2, 3)\n",
      "Vetor v: (3, 1)\n",
      "Soma de u + v: (5, 4)\n",
      "Escalar c: 2\n",
      "Multiplicação de c e u: (4, 6)\n",
      "Multiplicação de c e v: (6, 2)\n",
      "Multiplicação de c pela soma de u + v: (10, 8)\n"
     ]
    },
    {
     "data": {
      "image/png": "[encoded data removed]",
      "text/plain": [
       "<Figure size 576x576 with 1 Axes>"
      ]
     },
     "metadata": {
      "needs_background": "light"
     },
     "output_type": "display_data"
    }
   ],
   "source": [
    "# Definimos alguns valores de exemplo e executamos a função.\n",
    "u = np.array([2,3])\n",
    "v = np.array([3,1])\n",
    "c = 2\n",
    "funcAxioma7(u, v, c)"
   ]
  },
  {
   "cell_type": "code",
   "execution_count": 75,
   "metadata": {},
   "outputs": [
    {
     "name": "stdout",
     "output_type": "stream",
     "text": [
      "Vetor u: (1, 3)\n",
      "Vetor v: (5, 2)\n",
      "Soma de u + v: (6, 5)\n",
      "Escalar c: 2\n",
      "Multiplicação de c e u: (2, 6)\n",
      "Multiplicação de c e v: (10, 4)\n",
      "Multiplicação de c pela soma de u + v: (12, 10)\n"
     ]
    },
    {
     "data": {
      "image/png": "[encoded data removed]",
      "text/plain": [
       "<Figure size 576x576 with 1 Axes>"
      ]
     },
     "metadata": {
      "needs_background": "light"
     },
     "output_type": "display_data"
    }
   ],
   "source": [
    "# Testamos com outros valores\n",
    "u = np.array([1, 3])\n",
    "v = np.array([5, 2])\n",
    "c = 2\n",
    "funcAxioma7(u, v, c)"
   ]
  },
  {
   "cell_type": "code",
   "execution_count": 76,
   "metadata": {},
   "outputs": [
    {
     "name": "stdout",
     "output_type": "stream",
     "text": [
      "Vetor u: (-1, 3)\n",
      "Vetor v: (5, -1)\n",
      "Soma de u + v: (4, 2)\n",
      "Escalar c: 2\n",
      "Multiplicação de c e u: (-2, 6)\n",
      "Multiplicação de c e v: (10, -2)\n",
      "Multiplicação de c pela soma de u + v: (8, 4)\n"
     ]
    },
    {
     "data": {
      "image/png": "[encoded data removed]",
      "text/plain": [
       "<Figure size 576x576 with 1 Axes>"
      ]
     },
     "metadata": {
      "needs_background": "light"
     },
     "output_type": "display_data"
    }
   ],
   "source": [
    "# Mais um teste\n",
    "u = np.array([-1, 3])\n",
    "v = np.array([5, -1])\n",
    "c = 2\n",
    "funcAxioma7(u, v, c)"
   ]
  },
  {
   "cell_type": "markdown",
   "metadata": {},
   "source": [
    "## Espaço Vetorial com Funções Trigonométricas"
   ]
  },
  {
   "cell_type": "markdown",
   "metadata": {},
   "source": [
    "O espaço vetorial tem um significado mais geral do que conter vetores. As funções e polinômios também podem estar no espaço vetorial, como mostraremos no próximo capítulo com a dependência linear.\n",
    "\n",
    "Em Matemática, um espaço funcional (function space) é um conjunto de funções entre dois conjuntos fixos. Ou seja, é um espaço vetorial para funções.\n",
    "\n",
    "Podemos demonstrar o espaço vetorial para funções plotando duas funções trigonométricas: $\\sin(x1)$ e $\\cos{(x2)}$ com o stem plot, sua adição no espaço vetorial é a área sombreada com os valores possíveis."
   ]
  },
  {
   "cell_type": "markdown",
   "metadata": {},
   "source": [
    "Considere as listas de valores abaixo de x1 e x2 abaixo:\n",
    "    \n",
    "- x1 = np.arange(-5, 5, 0.3)\n",
    "- x2 = np.arange(-5.1, 4.9, 0.3)\n",
    "\n",
    "Podemos dizer que o seno(x1) e cosseno(x2) são linearmente independentes?\n",
    "\n",
    "As funções são linearmente independentes em um tipo de espaço vetorial chamado espaço funcional. Neste espaço vetorial o vetor zero é a função 𝑓(𝑥) = 0. \n",
    "\n",
    "**Dizer que seno(x1) e cosseno(x2) são linearmente independentes é dizer que nenhuma combinação linear de seno(x1) e cosseno(x2) resulta na função zero.**\n",
    "\n",
    "𝑓(𝑥), 𝑔(𝑥) são linearmente independentes se existir 𝑎,𝑏 ∈ ℝ tal que 𝑎 ≠ 0 ou 𝑏 ≠ 0 e:\n",
    "\n",
    "𝑎𝑓(𝑥) + 𝑏𝑔(𝑥) = 0\n",
    "\n",
    "Vamos criar um plot e verificar. Lembrando que seno e cosseno são funções e não vetores."
   ]
  },
  {
   "cell_type": "code",
   "execution_count": 77,
   "metadata": {},
   "outputs": [],
   "source": [
    "# Função Python para representar duas funções trigonométricas no espaço vetorial\n",
    "def verificaLinearDep(x1, x2, a, b):\n",
    "    \n",
    "    # Cria a figura\n",
    "    fig, ax = plt.subplots(figsize = (10, 10))\n",
    "\n",
    "    # Define y1 com a função seno de x1\n",
    "    y1 = a * np.sin(x1)\n",
    "    \n",
    "    # Plot de x1 e y1 (linhas verticais em azul)\n",
    "    ax.stem(x1, y1, linefmt = 'blue', label = '$\\sin{x}$', markerfmt = 'o')\n",
    "    \n",
    "    # Define y2 com a função cosseno de x2\n",
    "    y2 = b * np.cos(x2)\n",
    "    \n",
    "    # Plot de x2 e y2 (linhas verticais em vermelho)\n",
    "    ax.stem(x2, y2, linefmt = 'red', label = '$\\cos{x}$', markerfmt = '*')\n",
    "    \n",
    "    # Define y3 com a soma da função seno de x1 com a função cosseno de x2\n",
    "    y3 = (a * np.sin(x1)) + (b * np.cos(x2))\n",
    "    print('Valores de y3 = (a * np.sin(x1)) + (b * np.cos(x2)):\\n')\n",
    "    print(y3)\n",
    "    \n",
    "    # Plot de x2 e y3\n",
    "    ax.plot(x2, y3, lw = 5, color = 'black', alpha = .6)\n",
    "    \n",
    "    # Função para preencher\n",
    "    ax.fill_between(x2, y3, 0, color  = 'green', alpha = .3)\n",
    "    \n",
    "    # String\n",
    "    str1 = 'a * $\\sin(x1)$ + b * $\\cos(x2)$'\n",
    "    \n",
    "    # Texto no gráfico\n",
    "    ax.annotate(str1, \n",
    "                xy = (1, a * (np.sin(1) + b * np.cos(1))), \n",
    "                xytext = (0, 3), \n",
    "                weight = 'bold', \n",
    "                color  =  'magenta', \n",
    "                fontsize = 16)\n",
    "    \n",
    "    # Coordenadas dos eixos\n",
    "    ax.axis([-5, 5, -4, 4])\n",
    "    \n",
    "    # Legenda\n",
    "    ax.legend()"
   ]
  },
  {
   "cell_type": "code",
   "execution_count": 78,
   "metadata": {},
   "outputs": [],
   "source": [
    "# Define valores para x1 e x2\n",
    "x1 = np.arange(-5, 5, 0.3)\n",
    "x2 = np.arange(-5.1, 4.9, 0.3)\n",
    "a = 1\n",
    "b = 2"
   ]
  },
  {
   "cell_type": "code",
   "execution_count": 79,
   "metadata": {},
   "outputs": [
    {
     "name": "stdout",
     "output_type": "stream",
     "text": [
      "Valores de y3 = (a * np.sin(x1)) + (b * np.cos(x2)):\n",
      "\n",
      "[ 1.71487976  1.17492122  0.53001048 -0.16224453 -0.84000672 -1.4427336\n",
      " -1.9165854  -2.21923432 -2.32364566 -2.22049264 -1.91898964 -1.446069\n",
      " -0.84397533 -0.16649185  0.52586385  1.17124569  1.71200365  2.09983342\n",
      "  2.30009132  2.29488892  2.08469092  1.68827369  1.14104801  0.4918959\n",
      " -0.20119581 -0.87631529 -1.47315613 -1.93840433 -2.23050064 -2.32335297\n",
      " -2.2086671  -1.89668758 -1.4152826  -0.80745465]\n"
     ]
    },
    {
     "data": {
      "image/png": "[encoded data removed]",
      "text/plain": [
       "<Figure size 720x720 with 1 Axes>"
      ]
     },
     "metadata": {
      "needs_background": "light"
     },
     "output_type": "display_data"
    }
   ],
   "source": [
    "# Executa a função\n",
    "verificaLinearDep(x1, x2, a, b)"
   ]
  },
  {
   "cell_type": "markdown",
   "metadata": {},
   "source": [
    "Duas funções são linearmente dependentes se houver uma maneira de formar uma combinação linear para obter a função zero (que é zero para qualquer possível escolha de 𝑥).\n",
    "\n",
    "**Para que as funções de 𝑥 sejam linearmente independentes, a função zero deve existir para todos os valores de 𝑥, não apenas para alguns.**\n",
    "\n",
    "Então podemos dizer que $\\sin{(x1)}$  e $\\cos{(x2)}$ são linearmente independentes."
   ]
  },
  {
   "cell_type": "markdown",
   "metadata": {},
   "source": [
    "## Subespaço em Álgebra Linear"
   ]
  },
  {
   "cell_type": "markdown",
   "metadata": {},
   "source": [
    "Um subespaço é um dos conceitos mais importantes em álgebra linear, felizmente nada realmente misterioso.\n",
    "\n",
    "Um subespaço reside em um espaço vetorial $V$, podemos denotar como $H$. Apenas duas propriedades precisam ser verificadas:\n",
    "\n",
    "1. $H$ tem vetor zero.\n",
    "2. Podemos realizar adição vetorial e multiplicação escalar."
   ]
  },
  {
   "cell_type": "markdown",
   "metadata": {},
   "source": [
    "Existem dois fatos sobre os subespaços:\n",
    "\n",
    "1. Qualquer linha que passa $(0, 0)$ em $\\mathbb{R}^2$ é um subespaço de $\\mathbb{R}^2$.\n",
    "2. Qualquer plano que passa $(0, 0, 0)$ em $\\mathbb{R}^3$ é um subespaço de $\\mathbb{R}^3$.\n",
    "\n",
    "A seguir vamos visualizar o subespaço."
   ]
  },
  {
   "cell_type": "markdown",
   "metadata": {},
   "source": [
    "## Visualização do Subespaço de $\\mathbb{R}^2$"
   ]
  },
  {
   "cell_type": "code",
   "execution_count": 80,
   "metadata": {},
   "outputs": [
    {
     "data": {
      "image/png": "[encoded data removed]",
      "text/plain": [
       "<Figure size 576x576 with 1 Axes>"
      ]
     },
     "metadata": {
      "needs_background": "light"
     },
     "output_type": "display_data"
    }
   ],
   "source": [
    "# Cria a figura\n",
    "fig, ax = plt.subplots(figsize = (8, 8))\n",
    "\n",
    "# Valores de x e y\n",
    "x = np.arange(-10, 11, 1)\n",
    "y = 4/6*x\n",
    "\n",
    "# Plot\n",
    "ax.plot(x, y, lw = 4, color = 'green', label = r'$y = \\frac{2}{3}x$, subespaço de $\\mathbf{R}^2$')\n",
    "\n",
    "# Novo valor de y\n",
    "y = -3+4/6*x\n",
    "\n",
    "# Plot\n",
    "ax.plot(x, y, lw = 4, color = 'red', label = r'$y = -3+\\frac{2}{3}x$, não é um subespaço de $\\mathbf{R}^2$')\n",
    "\n",
    "# Grid\n",
    "ax.grid(True)\n",
    "\n",
    "# Título\n",
    "ax.set_title('Visualização de Subespaço em $R^2$ ', size = 18)\n",
    "\n",
    "# Scatter Plot\n",
    "ax.scatter(0, 0, s = 100, fc = 'black', ec = 'red')\n",
    "\n",
    "# Texto e legenda\n",
    "ax.text(-2, 0, '$(0,0)$', size = 18)\n",
    "ax.legend(fontsize = 16)\n",
    "\n",
    "# Coordenadas dos eixos\n",
    "ax.axis([-10, 10, -10, 10])\n",
    "\n",
    "# Labels\n",
    "ax.set_xlabel('Eixo X', size = 18)\n",
    "ax.set_ylabel('Eixo Y', size = 18)\n",
    "\n",
    "# Plot\n",
    "plt.show()"
   ]
  },
  {
   "cell_type": "markdown",
   "metadata": {},
   "source": [
    "## Visualização do Subespaço de $\\mathbb{R}^3$"
   ]
  },
  {
   "cell_type": "markdown",
   "metadata": {},
   "source": [
    "Considere um intervalo de dois vetores $u = (1,-2,1)^S$ e $v=(2,1,2)^T$. O intervalo de $(u,v)$ é um subespaço de $\\mathbb{R}^3$, onde $s$ e $t$ são os escalares dos vetores."
   ]
  },
  {
   "cell_type": "markdown",
   "metadata": {},
   "source": [
    "$$\n",
    "\\left[\n",
    "\\begin{matrix}\n",
    "x\\\\\n",
    "y\\\\\n",
    "z\n",
    "\\end{matrix}\n",
    "\\right]=\n",
    "s\\left[\n",
    "\\begin{matrix}\n",
    "1\\\\\n",
    "-2\\\\\n",
    "1\n",
    "\\end{matrix}\n",
    "\\right]+\n",
    "t\\left[\n",
    "\\begin{matrix}\n",
    "2\\\\\n",
    "1\\\\\n",
    "2\n",
    "\\end{matrix}\n",
    "\\right]=\n",
    "\\left[\n",
    "\\begin{matrix}\n",
    "s+2t\\\\\n",
    "-2s+t\\\\\n",
    "s+2t\n",
    "\\end{matrix}\n",
    "\\right]\n",
    "$$"
   ]
  },
  {
   "cell_type": "markdown",
   "metadata": {},
   "source": [
    "Vamos também definir um plano que não é um subespaço adicionando $2$ na terceira equação, ou seja, $z= s+2t+2$.\n",
    "\n",
    "E então criamos o plot."
   ]
  },
  {
   "cell_type": "code",
   "execution_count": 81,
   "metadata": {},
   "outputs": [
    {
     "data": {
      "image/png": "[encoded data removed]",
      "text/plain": [
       "<Figure size 576x576 with 1 Axes>"
      ]
     },
     "metadata": {
      "needs_background": "light"
     },
     "output_type": "display_data"
    }
   ],
   "source": [
    "# Cria a figura\n",
    "fig = plt.figure(figsize = (8, 8))\n",
    "\n",
    "# Projeção 3D\n",
    "ax = fig.add_subplot(111, projection = '3d')\n",
    "\n",
    "# Valores de s e t\n",
    "s = np.linspace(-1, 1, 10)\n",
    "t = np.linspace(-1, 1, 10)\n",
    "\n",
    "# Grid\n",
    "S, T = np.meshgrid(s, t)\n",
    "\n",
    "# Valores de x, y e z\n",
    "X = S + 2 * T\n",
    "Y = -2 * S + T\n",
    "Z = S + 2 * T\n",
    "\n",
    "# Plot\n",
    "ax.plot_surface(X, Y, Z, alpha = .9, cmap = plt.cm.coolwarm)\n",
    "\n",
    "# Isso não é mais um subespaço\n",
    "Z2 = S + 2 * T + 2 \n",
    "\n",
    "# Plot\n",
    "ax.plot_surface(X, Y, Z2, alpha = .6, cmap = plt.cm.jet)\n",
    "\n",
    "# Scatter\n",
    "ax.scatter(0,0,0, s = 200, color = 'red')\n",
    "\n",
    "# Texto\n",
    "ax.text(0, 0, 0, '$(0,0,0)$', size = 18, zorder = 5)\n",
    "\n",
    "# Título\n",
    "ax.set_title('Visualização de Subespaço em $\\mathbb{R}^3$', x = .5, y = 1.1, size = 20)\n",
    "\n",
    "# Labels\n",
    "ax.set_xlabel('Eixo x', size = 18)\n",
    "ax.set_ylabel('Eixo y', size = 18)\n",
    "ax.set_zlabel('Eixo z', size = 18)\n",
    "plt.show()"
   ]
  },
  {
   "cell_type": "markdown",
   "metadata": {},
   "source": [
    "Como você pode ver o plano que contém $(0,0,0)$ é um subespaço, mas o outro plano não é um subespaço."
   ]
  },
  {
   "cell_type": "markdown",
   "metadata": {},
   "source": [
    "## Operações com Tensores em $\\mathbb{R}^4$\n",
    "\n",
    "Para criar dois tensores de quatro dimensões e realizar uma operação de produto escalar (dot product) entre eles, devemos primeiro esclarecer como o produto escalar é definido para tensores de ordem superior. Em tensores de dimensões superiores, o produto escalar pode não ser tão direto como em vetores ou matrizes.\n",
    "\n",
    "No entanto, uma abordagem comum é tratar os tensores de ordem superior como coleções de matrizes ou vetores e realizar operações de produto escalar entre essas matrizes ou vetores correspondentes. Para tensores 4D, você pode visualizá-los como uma coleção de matrizes 3D, onde você pode calcular o produto escalar entre matrizes correspondentes.\n",
    "\n",
    "Vamos criar dois tensores 4D aleatórios e realizar uma operação que se assemelha a um \"produto escalar\" entre eles, tratando-os como coleções de matrizes 3D. Neste caso, vamos calcular a soma dos produtos escalares das matrizes correspondentes em cada tensor.\n",
    "\n",
    "O resultado da operação que se assemelha a um \"produto escalar\" entre os dois tensores 4D aleatórios é aproximadamente 23.48\n",
    "\n",
    "Neste cálculo, tratamos cada tensor como uma coleção de matrizes 3D e calculamos a soma dos produtos escalares de todas as matrizes correspondentes entre os dois tensores.\n",
    "\n",
    "É importante notar que essa abordagem é uma das várias maneiras de se realizar operações entre tensores de alta ordem, e a definição específica do \"produto escalar\" pode variar dependendo do contexto e da aplicação. "
   ]
  },
  {
   "cell_type": "code",
   "execution_count": 82,
   "metadata": {},
   "outputs": [],
   "source": [
    "# Criando dois tensores 4D \n",
    "tensor1 = np.random.rand(3, 3, 3, 3)  # Tensor com dimensões 3x3x3x3\n",
    "tensor2 = np.random.rand(3, 3, 3, 3)  # Tensor com dimensões 3x3x3x3"
   ]
  },
  {
   "cell_type": "code",
   "execution_count": 83,
   "metadata": {},
   "outputs": [
    {
     "data": {
      "text/plain": [
       "(3, 3, 3, 3)"
      ]
     },
     "execution_count": 83,
     "metadata": {},
     "output_type": "execute_result"
    }
   ],
   "source": [
    "tensor1.shape"
   ]
  },
  {
   "cell_type": "code",
   "execution_count": 84,
   "metadata": {},
   "outputs": [
    {
     "data": {
      "text/plain": [
       "(3, 3, 3, 3)"
      ]
     },
     "execution_count": 84,
     "metadata": {},
     "output_type": "execute_result"
    }
   ],
   "source": [
    "tensor2.shape"
   ]
  },
  {
   "cell_type": "code",
   "execution_count": 85,
   "metadata": {},
   "outputs": [
    {
     "name": "stdout",
     "output_type": "stream",
     "text": [
      "[[[[0.38492464 0.27134996 0.44333039]\n",
      "   [0.43743134 0.98453643 0.78525872]\n",
      "   [0.86039511 0.79411787 0.84102621]]\n",
      "\n",
      "  [[0.57688822 0.59310311 0.80047026]\n",
      "   [0.74513641 0.97092745 0.00106254]\n",
      "   [0.68531738 0.46688067 0.89528671]]\n",
      "\n",
      "  [[0.45787519 0.29782377 0.68596819]\n",
      "   [0.27220302 0.94787572 0.09996802]\n",
      "   [0.3408744  0.05918556 0.9741202 ]]]\n",
      "\n",
      "\n",
      " [[[0.92342724 0.07160375 0.38265654]\n",
      "   [0.50912033 0.19385298 0.08406228]\n",
      "   [0.09408554 0.26204063 0.01665955]]\n",
      "\n",
      "  [[0.27615408 0.95532715 0.690249  ]\n",
      "   [0.93804184 0.66161697 0.68896514]\n",
      "   [0.80716179 0.74211451 0.45421869]]\n",
      "\n",
      "  [[0.24001822 0.78681731 0.02341856]\n",
      "   [0.02754044 0.28887067 0.09668182]\n",
      "   [0.84781361 0.09617209 0.81691114]]]\n",
      "\n",
      "\n",
      " [[[0.31332786 0.64469467 0.89786947]\n",
      "   [0.56646535 0.57398664 0.47479169]\n",
      "   [0.86090141 0.99511207 0.06152705]]\n",
      "\n",
      "  [[0.47081195 0.93849263 0.36115112]\n",
      "   [0.21472024 0.79129592 0.46673526]\n",
      "   [0.58356242 0.60592097 0.40344188]]\n",
      "\n",
      "  [[0.01079955 0.96706491 0.33735489]\n",
      "   [0.26108664 0.9814387  0.53875786]\n",
      "   [0.52495464 0.83689994 0.24166303]]]]\n"
     ]
    }
   ],
   "source": [
    "print(tensor1)"
   ]
  },
  {
   "cell_type": "code",
   "execution_count": 86,
   "metadata": {},
   "outputs": [],
   "source": [
    "# Realizando a operação \"produto escalar\" entre os tensores\n",
    "# Tratando cada tensor como uma coleção de matrizes 3D\n",
    "produto_escalar = 0\n",
    "for i in range(tensor1.shape[0]):\n",
    "    for j in range(tensor1.shape[1]):\n",
    "        produto_escalar += np.tensordot(tensor1[i, j], tensor2[i, j])"
   ]
  },
  {
   "cell_type": "code",
   "execution_count": 87,
   "metadata": {},
   "outputs": [
    {
     "data": {
      "text/plain": [
       "20.91712725657724"
      ]
     },
     "execution_count": 87,
     "metadata": {},
     "output_type": "execute_result"
    }
   ],
   "source": [
    "produto_escalar"
   ]
  },
  {
   "cell_type": "markdown",
   "metadata": {},
   "source": [
    "## Álgebra Linear no Espaço Vetorial e Subespaço Vetorial\n",
    "\n",
    "Vamos agora resolver um problema de negócio usando os conceitos vistos anteriormente.\n",
    "\n",
    "Precisamos respopnder a seguinte pergunta:\n",
    "\n",
    "**Quais países tinham a Economia mais parecida com o Brasil, com base em alguns indicadores econômicos, no ano de 2019 antes da pandemia do Covid-19?**\n",
    "\n",
    "Indicadores econômicos a considerar:\n",
    "\n",
    "- Exports of goods and services (current US$) = \"NE.EXP.GNFS.CD\"\n",
    "\n",
    "- Imports of goods and services (current US$) = \"NE.IMP.GNFS.CD\"\n",
    "\n",
    "- Agriculture, forestry, and fishing, value added (current US$) = \"NV.AGR.TOTL.CD\"\n",
    "\n",
    "- GDP (current US$) = \"NY.GDP.MKTP.CD\"\n",
    "\n",
    "- External balance on goods and services (current US$) = \"NE.RSB.GNFS.CD\"\n",
    "\n",
    "Fonte dos dados:\n",
    "\n",
    "https://pandas-datareader.readthedocs.io/en/latest/readers/world-bank.html"
   ]
  },
  {
   "cell_type": "code",
   "execution_count": 88,
   "metadata": {},
   "outputs": [],
   "source": [
    "# Define os dados que faremos download do World Bank (BancoMundial)\n",
    "codigos = [\"NE.EXP.GNFS.CD\", \"NE.IMP.GNFS.CD\", \"NV.AGR.TOTL.CD\", \"NY.GDP.MKTP.CD\", \"NE.RSB.GNFS.CD\"]"
   ]
  },
  {
   "cell_type": "code",
   "execution_count": 89,
   "metadata": {},
   "outputs": [],
   "source": [
    "# Download dos dados e criação de um dataframe\n",
    "dados = wb.download(country = \"all\", indicator = codigos, start = 2019, end = 2019).reset_index()"
   ]
  },
  {
   "cell_type": "code",
   "execution_count": 90,
   "metadata": {},
   "outputs": [
    {
     "data": {
      "text/plain": [
       "(266, 7)"
      ]
     },
     "execution_count": 90,
     "metadata": {},
     "output_type": "execute_result"
    }
   ],
   "source": [
    "dados.shape"
   ]
  },
  {
   "cell_type": "code",
   "execution_count": 91,
   "metadata": {},
   "outputs": [
    {
     "data": {
      "text/html": [
       "<div>\n",
       "<style scoped>\n",
       "    .dataframe tbody tr th:only-of-type {\n",
       "        vertical-align: middle;\n",
       "    }\n",
       "\n",
       "    .dataframe tbody tr th {\n",
       "        vertical-align: top;\n",
       "    }\n",
       "\n",
       "    .dataframe thead th {\n",
       "        text-align: right;\n",
       "    }\n",
       "</style>\n",
       "<table border=\"1\" class=\"dataframe\">\n",
       "  <thead>\n",
       "    <tr style=\"text-align: right;\">\n",
       "      <th></th>\n",
       "      <th>country</th>\n",
       "      <th>year</th>\n",
       "      <th>NE.EXP.GNFS.CD</th>\n",
       "      <th>NE.IMP.GNFS.CD</th>\n",
       "      <th>NV.AGR.TOTL.CD</th>\n",
       "      <th>NY.GDP.MKTP.CD</th>\n",
       "      <th>NE.RSB.GNFS.CD</th>\n",
       "    </tr>\n",
       "  </thead>\n",
       "  <tbody>\n",
       "    <tr>\n",
       "      <th>0</th>\n",
       "      <td>Africa Eastern and Southern</td>\n",
       "      <td>2019</td>\n",
       "      <td>2.421184e+11</td>\n",
       "      <td>2.696002e+11</td>\n",
       "      <td>1.275033e+11</td>\n",
       "      <td>1.009721e+12</td>\n",
       "      <td>NaN</td>\n",
       "    </tr>\n",
       "    <tr>\n",
       "      <th>1</th>\n",
       "      <td>Africa Western and Central</td>\n",
       "      <td>2019</td>\n",
       "      <td>NaN</td>\n",
       "      <td>NaN</td>\n",
       "      <td>1.698400e+11</td>\n",
       "      <td>8.264838e+11</td>\n",
       "      <td>NaN</td>\n",
       "    </tr>\n",
       "    <tr>\n",
       "      <th>2</th>\n",
       "      <td>Arab World</td>\n",
       "      <td>2019</td>\n",
       "      <td>1.250082e+12</td>\n",
       "      <td>1.100291e+12</td>\n",
       "      <td>1.416622e+11</td>\n",
       "      <td>2.899030e+12</td>\n",
       "      <td>NaN</td>\n",
       "    </tr>\n",
       "    <tr>\n",
       "      <th>3</th>\n",
       "      <td>Caribbean small states</td>\n",
       "      <td>2019</td>\n",
       "      <td>NaN</td>\n",
       "      <td>NaN</td>\n",
       "      <td>1.894154e+09</td>\n",
       "      <td>3.804696e+10</td>\n",
       "      <td>NaN</td>\n",
       "    </tr>\n",
       "    <tr>\n",
       "      <th>4</th>\n",
       "      <td>Central Europe and the Baltics</td>\n",
       "      <td>2019</td>\n",
       "      <td>1.040668e+12</td>\n",
       "      <td>9.991759e+11</td>\n",
       "      <td>4.576387e+10</td>\n",
       "      <td>1.685124e+12</td>\n",
       "      <td>NaN</td>\n",
       "    </tr>\n",
       "  </tbody>\n",
       "</table>\n",
       "</div>"
      ],
      "text/plain": [
       "                          country  year  NE.EXP.GNFS.CD  NE.IMP.GNFS.CD  \\\n",
       "0     Africa Eastern and Southern  2019    2.421184e+11    2.696002e+11   \n",
       "1      Africa Western and Central  2019             NaN             NaN   \n",
       "2                      Arab World  2019    1.250082e+12    1.100291e+12   \n",
       "3          Caribbean small states  2019             NaN             NaN   \n",
       "4  Central Europe and the Baltics  2019    1.040668e+12    9.991759e+11   \n",
       "\n",
       "   NV.AGR.TOTL.CD  NY.GDP.MKTP.CD  NE.RSB.GNFS.CD  \n",
       "0    1.275033e+11    1.009721e+12             NaN  \n",
       "1    1.698400e+11    8.264838e+11             NaN  \n",
       "2    1.416622e+11    2.899030e+12             NaN  \n",
       "3    1.894154e+09    3.804696e+10             NaN  \n",
       "4    4.576387e+10    1.685124e+12             NaN  "
      ]
     },
     "execution_count": 91,
     "metadata": {},
     "output_type": "execute_result"
    }
   ],
   "source": [
    "dados.head()"
   ]
  },
  {
   "cell_type": "code",
   "execution_count": 92,
   "metadata": {},
   "outputs": [],
   "source": [
    "# Obtém a lista de paises\n",
    "paises = wb.get_countries()"
   ]
  },
  {
   "cell_type": "code",
   "execution_count": 93,
   "metadata": {},
   "outputs": [],
   "source": [
    "# Remove as agregações e mnantém somente países sem valores ausentes\n",
    "paises2 = paises[paises[\"region\"] != \"Aggregates\"].name"
   ]
  },
  {
   "cell_type": "code",
   "execution_count": 94,
   "metadata": {},
   "outputs": [
    {
     "data": {
      "text/plain": [
       "0             Aruba\n",
       "2       Afghanistan\n",
       "5            Angola\n",
       "6           Albania\n",
       "7           Andorra\n",
       "           ...     \n",
       "290          Kosovo\n",
       "292     Yemen, Rep.\n",
       "293    South Africa\n",
       "294          Zambia\n",
       "295        Zimbabwe\n",
       "Name: name, Length: 217, dtype: object"
      ]
     },
     "execution_count": 94,
     "metadata": {},
     "output_type": "execute_result"
    }
   ],
   "source": [
    "paises2"
   ]
  },
  {
   "cell_type": "code",
   "execution_count": 95,
   "metadata": {},
   "outputs": [],
   "source": [
    "# Ajusta o dataframe\n",
    "dados2 = dados[dados[\"country\"].isin(paises2)].dropna()"
   ]
  },
  {
   "cell_type": "code",
   "execution_count": 96,
   "metadata": {},
   "outputs": [
    {
     "data": {
      "text/html": [
       "<div>\n",
       "<style scoped>\n",
       "    .dataframe tbody tr th:only-of-type {\n",
       "        vertical-align: middle;\n",
       "    }\n",
       "\n",
       "    .dataframe tbody tr th {\n",
       "        vertical-align: top;\n",
       "    }\n",
       "\n",
       "    .dataframe thead th {\n",
       "        text-align: right;\n",
       "    }\n",
       "</style>\n",
       "<table border=\"1\" class=\"dataframe\">\n",
       "  <thead>\n",
       "    <tr style=\"text-align: right;\">\n",
       "      <th></th>\n",
       "      <th>country</th>\n",
       "      <th>year</th>\n",
       "      <th>NE.EXP.GNFS.CD</th>\n",
       "      <th>NE.IMP.GNFS.CD</th>\n",
       "      <th>NV.AGR.TOTL.CD</th>\n",
       "      <th>NY.GDP.MKTP.CD</th>\n",
       "      <th>NE.RSB.GNFS.CD</th>\n",
       "    </tr>\n",
       "  </thead>\n",
       "  <tbody>\n",
       "    <tr>\n",
       "      <th>50</th>\n",
       "      <td>Albania</td>\n",
       "      <td>2019</td>\n",
       "      <td>4.821429e+09</td>\n",
       "      <td>6.926960e+09</td>\n",
       "      <td>2.830318e+09</td>\n",
       "      <td>1.558511e+10</td>\n",
       "      <td>-2.105530e+09</td>\n",
       "    </tr>\n",
       "    <tr>\n",
       "      <th>51</th>\n",
       "      <td>Algeria</td>\n",
       "      <td>2019</td>\n",
       "      <td>3.948114e+10</td>\n",
       "      <td>5.049085e+10</td>\n",
       "      <td>2.220758e+10</td>\n",
       "      <td>1.934597e+11</td>\n",
       "      <td>-1.100971e+10</td>\n",
       "    </tr>\n",
       "    <tr>\n",
       "      <th>54</th>\n",
       "      <td>Angola</td>\n",
       "      <td>2019</td>\n",
       "      <td>2.891981e+10</td>\n",
       "      <td>1.208015e+10</td>\n",
       "      <td>5.588621e+09</td>\n",
       "      <td>7.089796e+10</td>\n",
       "      <td>1.683966e+10</td>\n",
       "    </tr>\n",
       "    <tr>\n",
       "      <th>55</th>\n",
       "      <td>Antigua and Barbuda</td>\n",
       "      <td>2019</td>\n",
       "      <td>1.194093e+09</td>\n",
       "      <td>1.180426e+09</td>\n",
       "      <td>2.842963e+07</td>\n",
       "      <td>1.725352e+09</td>\n",
       "      <td>1.366667e+07</td>\n",
       "    </tr>\n",
       "    <tr>\n",
       "      <th>56</th>\n",
       "      <td>Argentina</td>\n",
       "      <td>2019</td>\n",
       "      <td>8.025948e+10</td>\n",
       "      <td>6.584562e+10</td>\n",
       "      <td>2.381408e+10</td>\n",
       "      <td>4.477547e+11</td>\n",
       "      <td>1.441386e+10</td>\n",
       "    </tr>\n",
       "  </tbody>\n",
       "</table>\n",
       "</div>"
      ],
      "text/plain": [
       "                country  year  NE.EXP.GNFS.CD  NE.IMP.GNFS.CD  NV.AGR.TOTL.CD  \\\n",
       "50              Albania  2019    4.821429e+09    6.926960e+09    2.830318e+09   \n",
       "51              Algeria  2019    3.948114e+10    5.049085e+10    2.220758e+10   \n",
       "54               Angola  2019    2.891981e+10    1.208015e+10    5.588621e+09   \n",
       "55  Antigua and Barbuda  2019    1.194093e+09    1.180426e+09    2.842963e+07   \n",
       "56            Argentina  2019    8.025948e+10    6.584562e+10    2.381408e+10   \n",
       "\n",
       "    NY.GDP.MKTP.CD  NE.RSB.GNFS.CD  \n",
       "50    1.558511e+10   -2.105530e+09  \n",
       "51    1.934597e+11   -1.100971e+10  \n",
       "54    7.089796e+10    1.683966e+10  \n",
       "55    1.725352e+09    1.366667e+07  \n",
       "56    4.477547e+11    1.441386e+10  "
      ]
     },
     "execution_count": 96,
     "metadata": {},
     "output_type": "execute_result"
    }
   ],
   "source": [
    "dados2.head()"
   ]
  },
  {
   "cell_type": "markdown",
   "metadata": {},
   "source": [
    "> Ajustando o Vetor com Dados Por País"
   ]
  },
  {
   "cell_type": "code",
   "execution_count": 97,
   "metadata": {},
   "outputs": [],
   "source": [
    "# Extrai o vetor de dados para cada país\n",
    "vetores = {}\n",
    "for rowid, row in dados2.iterrows():\n",
    "    vetores[row[\"country\"]] = row[codigos].values"
   ]
  },
  {
   "cell_type": "code",
   "execution_count": 98,
   "metadata": {},
   "outputs": [
    {
     "data": {
      "text/plain": [
       "{'Albania': array([4821429218.13325, 6926959712.33192, 2830318199.68083,\n",
       "        15585105131.0644, -2105530494.19867], dtype=object),\n",
       " 'Algeria': array([39481135535.1468, 50490845023.6565, 22207582617.6879,\n",
       "        193459662090.677, -11009709488.5098], dtype=object),\n",
       " 'Angola': array([28919814315.7895, 12080150067.4291, 5588620583.98399,\n",
       "        70897962732.0277, 16839664248.3604], dtype=object),\n",
       " 'Antigua and Barbuda': array([1194092592.59259, 1180425925.92593, 28429629.6296296,\n",
       "        1725351851.85185, 13666666.6666667], dtype=object),\n",
       " 'Argentina': array([80259482469.139, 65845624691.108, 23814083576.0785,\n",
       "        447754683615.225, 14413857778.0311], dtype=object),\n",
       " 'Armenia': array([5631685777.79462, 7458380122.32194, 1569706412.82118,\n",
       "        13619290539.2116, -1826694344.52732], dtype=object),\n",
       " 'Aruba': array([2486899441.34078, 2448675977.65363, 936312.849162011,\n",
       "        3395798882.68156, 38223463.6871508], dtype=object),\n",
       " 'Australia': array([336477593836.115, 306786753625.531, 29466982403.9182,\n",
       "        1392723834562.64, 29690840210.5837], dtype=object),\n",
       " 'Austria': array([247609283522.368, 231731288458.933, 4627558347.48235,\n",
       "        442983642371.842, 15877995063.4353], dtype=object),\n",
       " 'Azerbaijan': array([23629764705.8824, 17712470588.2353, 2743647058.82353,\n",
       "        48174235294.1176, 5917294117.64706], dtype=object),\n",
       " 'Bahamas, The': array([4629100000.0, 4813810000.0, 71000000.0, 13016200000.0,\n",
       "        -184710000.0], dtype=object),\n",
       " 'Bahrain': array([29564361702.1277, 25207712765.9574, 108670212.765957,\n",
       "        40446808510.6383, 4356648936.17021], dtype=object),\n",
       " 'Bangladesh': array([45992932855.1263, 64919190426.113, 42061125594.3548,\n",
       "        351231654603.692, -18926257570.9868], dtype=object),\n",
       " 'Belarus': array([41927389217.7152, 42353341622.9121, 4376649011.87169,\n",
       "        64410122847.3508, -425952405.196906], dtype=object),\n",
       " 'Belgium': array([445308040880.784, 442788775443.921, 3857933055.68627,\n",
       "        536726344405.489, 2519265436.86274], dtype=object),\n",
       " 'Belize': array([1238500000.0, 1200500000.0, 156100000.0, 2388300000.0, 38000000.0],\n",
       "       dtype=object),\n",
       " 'Benin': array([4264332525.40811, 4900485058.66872, 3867881063.02797,\n",
       "        14391686309.033, -636152533.260606], dtype=object),\n",
       " 'Bermuda': array([3841155000.0, 1916492000.0, 16403000.0, 7423465000.0, 1924663000.0],\n",
       "       dtype=object),\n",
       " 'Bhutan': array([860577749.110661, 1221920790.7376, 353832022.003059,\n",
       "        2735683570.28851, -361343041.62694], dtype=object),\n",
       " 'Bolivia': array([10210442517.0918, 12853418146.5547, 4998127218.53273,\n",
       "        40895322843.7851, -2642975629.46286], dtype=object),\n",
       " 'Bosnia and Herzegovina': array([8201251111.85139, 11158117574.0633, 1116310816.98325,\n",
       "        20482608755.379, -2956866462.21193], dtype=object),\n",
       " 'Botswana': array([6203274315.31089, 7694781424.87258, 348472503.42534,\n",
       "        16725908148.5481, -1491507109.56169], dtype=object),\n",
       " 'Brazil': array([264562979421.068, 276634813667.029, 78772033055.8901,\n",
       "        1873288205186.45, -12071834245.961], dtype=object),\n",
       " 'Brunei Darussalam': array([7804888563.58884, 6810532694.73775, 132814083.025411,\n",
       "        13469235348.2211, 994355868.851085], dtype=object),\n",
       " 'Bulgaria': array([44049411596.3597, 41760810485.9481, 2193583080.53346,\n",
       "        68631726289.2794, 2288601110.41154], dtype=object),\n",
       " 'Burkina Faso': array([4690831780.11539, 4994381288.40906, 2921262720.82891,\n",
       "        16032813503.3707, -303549508.293677], dtype=object),\n",
       " 'Burundi': array([133258587.053003, 614607193.688784, 743181154.110079,\n",
       "        2576518879.82353, -481348606.635781], dtype=object),\n",
       " 'Cabo Verde': array([1051880076.62263, 1281435262.2079, 99937226.7873551,\n",
       "        2252177133.74705, -229555185.585273], dtype=object),\n",
       " 'Cambodia': array([20340881132.781, 22117532079.4063, 5663671140.05318,\n",
       "        36685356407.7206, -1776650946.62522], dtype=object),\n",
       " 'Cameroon': array([7874085866.66636, 9333197587.66967, 6665089103.45158,\n",
       "        39667757527.6578, -1459111721.00331], dtype=object),\n",
       " 'Canada': array([564142104614.779, 589706748631.384, 29592400071.463,\n",
       "        1743725183672.52, -25564644016.6048], dtype=object),\n",
       " 'Cayman Islands': array([4127896511.58605, 2695690782.76313, 24618338.4733539,\n",
       "        5941896607.58643, 1432205728.82292], dtype=object),\n",
       " 'Central African Republic': array([349974468.904547, 762137823.137317, 629557507.566426,\n",
       "        2221301351.43918, -412163354.23277], dtype=object),\n",
       " 'Chad': array([4157368006.32556, 4280250489.1643, 2730907875.93713,\n",
       "        11314951091.7283, -122882482.838738], dtype=object),\n",
       " 'Chile': array([77571035535.566, 82753869493.5382, 11097485442.7441,\n",
       "        278285058719.466, -5182833957.97221], dtype=object),\n",
       " 'China': array([2628941104657.6, 2496153305902.9, 1020116721824.28,\n",
       "        14279968506271.7, 132787798754.701], dtype=object),\n",
       " 'Colombia': array([51258795210.3544, 70067176051.0406, 20708660529.0066,\n",
       "        323031701192.84, -18808380840.6861], dtype=object),\n",
       " 'Comoros': array([152645349.458342, 352466444.794422, 425667128.237453,\n",
       "        1195019531.9011, -199821095.33608], dtype=object),\n",
       " 'Congo, Dem. Rep.': array([13393198275.8799, 15205263183.3104, 10062626689.5946,\n",
       "        51775829877.2088, -1812064907.43055], dtype=object),\n",
       " 'Congo, Rep.': array([7854704721.17581, 4944506820.52635, 1026862418.78167,\n",
       "        13976637779.9763, 2910197900.64946], dtype=object),\n",
       " 'Costa Rica': array([22111572547.4852, 20249829012.3889, 2706863473.33596,\n",
       "        64417670521.3545, 1861743535.09631], dtype=object),\n",
       " \"Cote d'Ivoire\": array([13683059068.9034, 13284189624.8842, 9472993128.39508,\n",
       "        60382894697.3557, 398869444.019138], dtype=object),\n",
       " 'Croatia': array([31034512054.7749, 31282560318.6544, 1756014513.19666,\n",
       "        61467582193.6824, -248048263.87956], dtype=object),\n",
       " 'Cuba': array([12632000000.0, 10971000000.0, 3689600000.0, 103427600000.0,\n",
       "        1661000000.0], dtype=object),\n",
       " 'Cyprus': array([19846298344.5206, 19581301859.6716, 457971556.383469,\n",
       "        26196667099.5303, 264996484.849028], dtype=object),\n",
       " 'Czechia': array([185212440994.669, 169560596975.875, 4857307939.69192,\n",
       "        256794209028.77, 15651844018.7945], dtype=object),\n",
       " 'Denmark': array([203616268094.231, 182858534958.076, 4287217763.41859,\n",
       "        345401473012.615, 20757733136.1547], dtype=object),\n",
       " 'Djibouti': array([5149667174.954, 4763668896.7539, 46930535.502276, 3088853638.56832,\n",
       "        385998278.2001], dtype=object),\n",
       " 'Dominican Republic': array([20518136086.8569, 24851876363.5139, 4649222518.56122,\n",
       "        88941372558.2397, -4333740276.65697], dtype=object),\n",
       " 'Ecuador': array([25875328000.0, 25859813000.0, 8378234000.0, 107595829000.0,\n",
       "        15515000.0], dtype=object),\n",
       " 'Egypt, Arab Rep.': array([53041002277.9043, 78012528473.8041, 34089504498.861,\n",
       "        318678815489.749, -24971526195.8998], dtype=object),\n",
       " 'El Salvador': array([8052490000.0, 12388470000.0, 1383420000.0, 26881140000.0,\n",
       "        -4335980000.0], dtype=object),\n",
       " 'Equatorial Guinea': array([5810566663.64454, 4971586017.96072, 277043776.953208,\n",
       "        11364133549.7478, 838980645.683818], dtype=object),\n",
       " 'Estonia': array([22955204325.3882, 21780286721.0117, 722147258.360783,\n",
       "        31873748770.0313, 1174917604.37647], dtype=object),\n",
       " 'Ethiopia': array([7615438618.00348, 20022068000.8819, 32258602964.726,\n",
       "        95912607722.3032, -12406629382.8784], dtype=object),\n",
       " 'Faroe Islands': array([1821695261.99099, 1726424994.45606, 556972714.529405,\n",
       "        3266432734.22819, 95270267.5349246], dtype=object),\n",
       " 'Fiji': array([2638408845.05736, 3209508640.32609, 614736715.751991,\n",
       "        5444407214.31758, -571099795.268731], dtype=object),\n",
       " 'Finland': array([108456929458.823, 106661292345.098, 5847015364.70587,\n",
       "        267014821129.411, 1795637113.72549], dtype=object),\n",
       " 'France': array([895514790269.018, 913209092423.528, 38344688699.6078,\n",
       "        2722793515171.76, -17694302154.5098], dtype=object),\n",
       " 'French Polynesia': array([1240128736.0656, 2572340201.84497, 135530016.652573,\n",
       "        6022276196.13871, -1332211465.77937], dtype=object),\n",
       " 'Gabon': array([8678687831.55984, 3711865707.4978, 937277186.32249,\n",
       "        16874405465.391, 4966822124.06204], dtype=object),\n",
       " 'Gambia, The': array([365730558.072245, 649852994.642033, 362795314.8368,\n",
       "        1813609692.49994, -284122436.569788], dtype=object),\n",
       " 'Georgia': array([9578376986.37911, 11201362124.0068, 1293857796.53802,\n",
       "        17638337116.9126, -1622985137.6277], dtype=object),\n",
       " 'Germany': array([1677314255411.76, 1454172759796.08, 32990913803.9215,\n",
       "        3957208055215.68, 223141495615.686], dtype=object),\n",
       " 'Ghana': array([25592296037.4457, 26908214028.2637, 11838343727.7845,\n",
       "        68337969247.7067, -1315917990.81797], dtype=object),\n",
       " 'Greece': array([82010719998.8783, 85057112398.1724, 7590536462.10195,\n",
       "        207305649887.019, -3046392399.29411], dtype=object),\n",
       " 'Greenland': array([1230176954.70104, 1533065634.97693, 553794040.195536,\n",
       "        2997309971.87623, -302888680.275891], dtype=object),\n",
       " 'Guatemala': array([13591570112.2741, 21534755007.9268, 7260931531.93746,\n",
       "        77172317258.6478, -7943184895.65266], dtype=object),\n",
       " 'Guinea': array([4710654157.7052, 5830607791.61899, 3552582219.41925,\n",
       "        13442861496.4454, -1119953633.9138], dtype=object),\n",
       " 'Guinea-Bissau': array([291805404.244893, 505406099.953271, 493907766.843768,\n",
       "        1588638853.59328, -213600695.708377], dtype=object),\n",
       " 'Haiti': array([1585349842.81308, 5107129494.68417, 2881197991.33541,\n",
       "        15016090929.5125, -3521779651.87109], dtype=object),\n",
       " 'Honduras': array([10007373348.5297, 14740482898.6338, 2646979487.43497,\n",
       "        24882225741.8119, -4733109550.10415], dtype=object),\n",
       " 'Hong Kong SAR, China': array([645006704384.439, 639345975716.69, 262509161.340019,\n",
       "        363074545072.389, 5660728667.74878], dtype=object),\n",
       " 'Hungary': array([133725455859.079, 129939637377.004, 5465829491.5021,\n",
       "        164020460331.659, 3785818482.07528], dtype=object),\n",
       " 'Iceland': array([10789017067.6461, 9662621975.90014, 1082284731.10996,\n",
       "        24681343649.2952, 1126395091.74599], dtype=object),\n",
       " 'India': array([529245063167.215, 602315056052.526, 475121943129.794,\n",
       "        2835606256558.19, -73069992885.3108], dtype=object),\n",
       " 'Indonesia': array([208057763665.869, 213034646341.603, 142266719992.692,\n",
       "        1119099871385.79, -4976882675.73405], dtype=object),\n",
       " 'Iran, Islamic Rep.': array([78323193638.1025, 90952229016.5156, 44440989921.0837,\n",
       "        333519146339.191, -12629035378.4131], dtype=object),\n",
       " 'Iraq': array([88902900000.0, 72282500000.0, 8808100169.20474, 233636097800.338,\n",
       "        16620400000.0], dtype=object),\n",
       " 'Ireland': array([518154045109.787, 498622964033.842, 3596283875.88235,\n",
       "        407124824064.995, 19531081075.9451], dtype=object),\n",
       " 'Israel': array([116915080030.522, 109553204402.06, 5394445077.90974,\n",
       "        399651065197.871, 7361875628.46163], dtype=object),\n",
       " 'Italy': array([625065757185.881, 560326098494.117, 36729958666.6666,\n",
       "        2019606796583.53, 64739658691.7646], dtype=object),\n",
       " 'Jamaica': array([6021403155.77566, 8243796794.16281, 1111264329.93622,\n",
       "        15830766570.7266, -2222393638.38715], dtype=object),\n",
       " 'Japan': array([893782209080.495, 908591904960.75, 53173266353.0172,\n",
       "        5117993853016.51, -14809695880.2551], dtype=object),\n",
       " 'Jordan': array([16170140845.0704, 21963521126.7606, 1945643802.8169,\n",
       "        44503006338.0282, -5793380281.69014], dtype=object),\n",
       " 'Kazakhstan': array([66197682052.4286, 51629140772.7225, 8113866801.27454,\n",
       "        181667184854.501, 14568541279.7061], dtype=object),\n",
       " 'Kenya': array([11471243360.3894, 20408407783.966, 20940110008.2087,\n",
       "        100378436207.371, -8937164423.57661], dtype=object),\n",
       " 'Kiribati': array([32509629.5463649, 180817476.661092, 58539071.445019,\n",
       "        216985362.338171, -148307847.114727], dtype=object),\n",
       " 'Korea, Rep.': array([648610576582.722, 602460189255.229, 27544594684.4638,\n",
       "        1651422932447.77, 46150387327.4939], dtype=object),\n",
       " 'Kosovo': array([2315619066.38484, 4458675169.27596, 571835927.703937,\n",
       "        7899737577.47286, -2143056102.89113], dtype=object),\n",
       " 'Kuwait': array([73327382736.4621, 55817806337.715, 521780063.359802,\n",
       "        140856394870.02, 17509576398.7471], dtype=object),\n",
       " 'Kyrgyz Republic': array([3137172120.63405, 5712149571.70613, 972166970.636164,\n",
       "        9371275264.36735, -2574977451.07208], dtype=object),\n",
       " 'Latvia': array([20699384824.9176, 20771523762.3294, 1275467685.37255,\n",
       "        33099503950.847, -72138937.4117646], dtype=object),\n",
       " 'Lebanon': array([10681277028.314, 21820628748.3913, 1635444374.19562,\n",
       "        51605959131.2741, -11139351720.0772], dtype=object),\n",
       " 'Lesotho': array([1104727469.64081, 2254606913.26468, 106716219.004325,\n",
       "        2390702295.82777, -1149879443.62386], dtype=object),\n",
       " 'Libya': array([29332965257.6089, 25373910344.4774, 1414188031.86525,\n",
       "        69254496471.6938, 3959054913.13151], dtype=object),\n",
       " 'Lithuania': array([42344067359.6078, 39443296204.549, 1722039501.02745,\n",
       "        55122066225.796, 2900771155.05882], dtype=object),\n",
       " 'Luxembourg': array([144262145087.192, 122963062245.27, 150522303.639215,\n",
       "        69890505323.5842, 21299082841.9215], dtype=object),\n",
       " 'Madagascar': array([4009166482.22619, 4820540217.6801, 3237902368.77263,\n",
       "        14104664678.5063, -811373735.453912], dtype=object),\n",
       " 'Malaysia': array([238379861290.486, 210893037728.698, 26443643526.6882,\n",
       "        365177721021.516, 27486823561.788], dtype=object),\n",
       " 'Maldives': array([3751360415.57064, 4100560295.20708, 257332068.506919,\n",
       "        5726094799.37709, -349199879.636442], dtype=object),\n",
       " 'Mali': array([4441938779.20538, 6558444721.2749, 6356466936.52203,\n",
       "        17280250810.0321, -2116505942.06952], dtype=object),\n",
       " 'Malta': array([20343880278.8836, 17734720288.0185, 77131815.9225144,\n",
       "        16337793530.7788, 2609159990.86509], dtype=object),\n",
       " 'Marshall Islands': array([86317100.0, 270037900.0, 42409100.0, 232900000.0, -183720800.0],\n",
       "       dtype=object),\n",
       " 'Mauritania': array([3347184840.42049, 4033369861.07674, 1575627895.93793,\n",
       "        7894764885.82312, -686185020.65625], dtype=object),\n",
       " 'Mauritius': array([6448303392.07697, 7481609449.66353, 390826768.036561,\n",
       "        14436346979.6355, -1033306057.58657], dtype=object),\n",
       " 'Mexico': array([502467566320.434, 507718819549.77, 43231438846.4523,\n",
       "        1304106203694.81, -5251253229.33634], dtype=object),\n",
       " 'Micronesia, Fed. Sts.': array([105568900.0, 272077700.0, 91622700.0, 394000000.0, -166508800.0],\n",
       "       dtype=object),\n",
       " 'Moldova': array([3660834340.67571, 6624383483.98942, 1192553957.33193,\n",
       "        11736797054.6965, -2963549143.31371], dtype=object),\n",
       " 'Mongolia': array([8412612745.88232, 9259602726.47506, 1642025365.8847,\n",
       "        14206359017.5143, -846989980.592748], dtype=object),\n",
       " 'Montenegro': array([2430004477.77902, 3602220978.39472, 354350162.31949,\n",
       "        5542054181.12616, -1172216500.61569], dtype=object),\n",
       " 'Morocco': array([43952860516.0238, 54024112942.437, 13978053204.5291,\n",
       "        128920266409.458, -10071252426.4132], dtype=object),\n",
       " 'Mozambique': array([5761757708.23501, 10618346285.9034, 3842476569.27963,\n",
       "        15512759046.672, -4856588577.66841], dtype=object),\n",
       " 'Namibia': array([4565372504.91404, 5832030383.98715, 888467283.574652,\n",
       "        12541928303.48, -1266657879.07312], dtype=object),\n",
       " 'Nepal': array([2659663141.42524, 14176869010.9874, 7378530812.68706,\n",
       "        34186180699.0255, -11517205869.5621], dtype=object),\n",
       " 'Netherlands': array([792548771333.332, 699981663066.666, 16337610996.0784,\n",
       "        928903005576.469, 92567108266.6665], dtype=object),\n",
       " 'New Zealand': array([58214279832.002, 57711603392.9013, 12119575063.8228,\n",
       "        212846907683.439, 502676439.100716], dtype=object),\n",
       " 'Nicaragua': array([5689736410.04132, 6252720028.52668, 1972118301.03844,\n",
       "        12699028889.666, -562983618.485362], dtype=object),\n",
       " 'Niger': array([1386835865.63682, 3395520048.36612, 4768094132.23984,\n",
       "        12889555561.2299, -2008684182.7293], dtype=object),\n",
       " 'North Macedonia': array([7867370857.84171, 9602017937.21973, 1025184176.80974,\n",
       "        12606338448.547, -1734647079.37802], dtype=object),\n",
       " 'Norway': array([149767159090.909, 140014431818.182, 7285681818.18182,\n",
       "        408742840909.091, 9752727272.72727], dtype=object),\n",
       " 'Oman': array([43583875162.5488, 32569570871.2614, 1756566970.09103,\n",
       "        88060858257.4772, 11014304291.2874], dtype=object),\n",
       " 'Pakistan': array([30136170157.4551, 62624560741.8707, 66357247840.5539,\n",
       "        320909472770.669, -32488390584.4156], dtype=object),\n",
       " 'Palau': array([106864600.0, 217505400.0, 9558717.31233597, 281941562.5,\n",
       "        -110640800.0], dtype=object),\n",
       " 'Panama': array([28061045300.0, 28061255700.0, 1713130600.0, 69778991200.0,\n",
       "        -210400.0], dtype=object),\n",
       " 'Paraguay': array([13686227184.1267, 13325018618.9191, 3666422095.01686,\n",
       "        37925338329.1494, 361208565.207542], dtype=object),\n",
       " 'Peru': array([54892296037.3345, 52301323565.5929, 15648622658.0932,\n",
       "        228346006003.648, 2590972471.74159], dtype=object),\n",
       " 'Philippines': array([106953484846.44, 152458687320.163, 33237044033.1021,\n",
       "        376823402244.928, -45505202473.7226], dtype=object),\n",
       " 'Poland': array([317089370014.651, 295123034348.038, 14285398013.9997,\n",
       "        602683770144.88, 21966335666.6124], dtype=object),\n",
       " 'Portugal': array([104818126821.584, 103532874928.996, 4802123605.16862,\n",
       "        240115970063.019, 1285251892.58823], dtype=object),\n",
       " 'Puerto Rico': array([63684400000.0, 49401600000.0, 717300000.0, 105126400000.0,\n",
       "        14282800000.0], dtype=object),\n",
       " 'Qatar': array([92046153846.1538, 66769780219.7802, 458574663.461538,\n",
       "        176371267689.082, 25276373626.3736], dtype=object),\n",
       " 'Romania': array([100870449571.429, 111463746998.826, 10820153730.8942,\n",
       "        251677082534.495, -10593297427.3967], dtype=object),\n",
       " 'Russian Federation': array([481410680627.341, 352088733268.664, 59772088276.6565,\n",
       "        1693115002708.32, 129321947358.676], dtype=object),\n",
       " 'Rwanda': array([2258780711.19102, 3741294786.07061, 2438360297.79268,\n",
       "        10349300380.33, -1482514074.87959], dtype=object),\n",
       " 'Samoa': array([319836950.812897, 440934528.604655, 83120020.2598718,\n",
       "        912950466.064906, -121097577.791758], dtype=object),\n",
       " 'San Marino': array([2650576063.69165, 2315535988.83861, 246919.473936387,\n",
       "        1616232125.12587, 335040074.853036], dtype=object),\n",
       " 'Saudi Arabia': array([285860000000.0, 218940800000.0, 21463466666.6667, 838564800000.0,\n",
       "        66919200000.0], dtype=object),\n",
       " 'Senegal': array([5847051726.26615, 9186797791.08368, 3486322930.74853,\n",
       "        23403995992.1354, -3339746064.81753], dtype=object),\n",
       " 'Serbia': array([26372690325.2173, 31573497914.357, 2566517191.45462,\n",
       "        53864693664.5568, -5200807589.13971], dtype=object),\n",
       " 'Seychelles': array([1538983435.76862, 1701471825.8422, 39794773.1281065,\n",
       "        1868690096.73454, -162488390.073575], dtype=object),\n",
       " 'Sierra Leone': array([632404798.949993, 1817978349.2547, 2253712156.44988,\n",
       "        6523577590.38319, -1185573550.3047], dtype=object),\n",
       " 'Singapore': array([664477941704.7, 553179836939.709, 121320257.624117,\n",
       "        376901649222.451, 111298104764.991], dtype=object),\n",
       " 'Slovak Republic': array([97210994149.8744, 97247442000.9646, 1711499648.51764,\n",
       "        105843498304.094, -36447851.090196], dtype=object),\n",
       " 'Slovenia': array([45476824978.3842, 40802920386.196, 954424785.450979,\n",
       "        53909922735.545, 4673904592.18823], dtype=object),\n",
       " 'Solomon Islands': array([590941418.619108, 752930329.230226, 528996565.565929,\n",
       "        1619155017.3924, -161988910.611118], dtype=object),\n",
       " 'South Africa': array([105906059178.622, 103935027605.427, 7593185943.35563,\n",
       "        389330032224.269, 1971031573.19478], dtype=object),\n",
       " 'Spain': array([486670273121.568, 444777298015.686, 35365319239.2156,\n",
       "        1403496387686.27, 41892975105.8823], dtype=object),\n",
       " 'Sri Lanka': array([19426213079.8958, 24569908055.8511, 6459146428.45093,\n",
       "        89014978344.1404, -5143694975.95526], dtype=object),\n",
       " 'Sudan': array([2733532469.42149, 5713051071.07438, 6520655246.28099,\n",
       "        32338079165.2893, -2979518601.65289], dtype=object),\n",
       " 'Sweden': array([256724927068.404, 235643869847.267, 6870014931.25254,\n",
       "        532169294165.94, 21081057221.1377], dtype=object),\n",
       " 'Switzerland': array([483067666222.233, 412350588412.87, 4672636160.0966,\n",
       "        721369112726.724, 70717077809.3633], dtype=object),\n",
       " 'Syrian Arab Republic': array([2938069171.93043, 6546690316.91197, 9200568503.23433,\n",
       "        22583045060.0821, -3608621144.98154], dtype=object),\n",
       " 'Tajikistan': array([1243456836.44712, 3408735466.32569, 1732136863.14493,\n",
       "        8300813599.3084, -2165278629.87858], dtype=object),\n",
       " 'Tanzania': array([9786702081.68473, 10363463865.7749, 16229639462.2473,\n",
       "        61026731925.9213, -576761784.09014], dtype=object),\n",
       " 'Thailand': array([323768892197.357, 272916501194.971, 44217515514.7228,\n",
       "        543976691793.886, 50852391002.3852], dtype=object),\n",
       " 'Timor-Leste': array([431191700.0, 1004078400.0, 287182200.0, 2032550400.0, -572886700.0],\n",
       "       dtype=object),\n",
       " 'Togo': array([1665133404.82303, 2260735795.38605, 1364592885.71181,\n",
       "        6992700101.37188, -595602390.563019], dtype=object),\n",
       " 'Tonga': array([112507464.506028, 333826212.527909, 100031523.757842,\n",
       "        494197841.113077, -221318748.021881], dtype=object),\n",
       " 'Tunisia': array([19256190207.7846, 23627733194.1128, 4092613462.29408,\n",
       "        41905642418.825, -4371542986.32819], dtype=object),\n",
       " 'Turkiye': array([251696740784.294, 229207956545.671, 48717779576.6837,\n",
       "        761005915750.925, 22488784238.6231], dtype=object),\n",
       " 'Turkmenistan': array([11187714285.7143, 8844000000.0, 4890285714.28571, 45232857142.8571,\n",
       "        2343714285.71429], dtype=object),\n",
       " 'Uganda': array([6047736363.12228, 7865670039.52778, 8110814040.37515,\n",
       "        35348155095.4215, -1817933676.4055], dtype=object),\n",
       " 'Ukraine': array([63448583044.48, 75832862621.1614, 13795893759.6663,\n",
       "        153883047509.577, -12384279576.6813], dtype=object),\n",
       " 'United Arab Emirates': array([404863172226.004, 306004084411.164, 3121180251.19485,\n",
       "        417989721734.494, 98859087814.84], dtype=object),\n",
       " 'United Kingdom': array([902036391533.849, 941829862195.151, 17243071438.3989,\n",
       "        2851407164907.81, -39793470661.3017], dtype=object),\n",
       " 'United States': array([2539391000000.0, 3116681000000.0, 179346384000.0, 21539982000000.0,\n",
       "        -577290000000.0], dtype=object),\n",
       " 'Uruguay': array([17363366578.855, 13589048478.4235, 4046189870.33892,\n",
       "        62222325807.0578, 3774318100.43149], dtype=object),\n",
       " 'Uzbekistan': array([17059027389.7613, 26657560793.4445, 14698217412.1535,\n",
       "        67293639798.3996, -9598533403.68318], dtype=object),\n",
       " 'Viet Nam': array([284737397482.99, 265976296626.188, 39403370776.4683,\n",
       "        334365270496.667, 18761100856.8013], dtype=object),\n",
       " 'West Bank and Gaza': array([2659300000.0, 9161700000.0, 1208600000.0, 17133500000.0,\n",
       "        -6502400000.0], dtype=object),\n",
       " 'Zambia': array([8073235065.94259, 7961078355.3142, 666808525.989139,\n",
       "        23308667781.2258, 112156710.628394], dtype=object),\n",
       " 'Zimbabwe': array([7086215331.85038, 7263060627.20236, 2525259750.52314,\n",
       "        25717409842.4479, -176845295.351981], dtype=object)}"
      ]
     },
     "execution_count": 98,
     "metadata": {},
     "output_type": "execute_result"
    }
   ],
   "source": [
    "vetores"
   ]
  },
  {
   "cell_type": "code",
   "execution_count": 99,
   "metadata": {},
   "outputs": [],
   "source": [
    "# Dicionários para calcular a distância euclidiana e cosine\n",
    "euclid = {}\n",
    "cosine = {}"
   ]
  },
  {
   "cell_type": "code",
   "execution_count": 100,
   "metadata": {},
   "outputs": [],
   "source": [
    "# Vamos definir um paíse alvo\n",
    "target = \"Brazil\""
   ]
  },
  {
   "cell_type": "markdown",
   "metadata": {},
   "source": [
    "<!-- Projeto Desenvolvido na Data Science Academy - www.datascienceacademy.com.br -->\n",
    "\n",
    "A norma ou módulo de um vetor é o comprimento desse vetor, que pode ser calculado por meio da distância de seu ponto final até a origem. O módulo de um número real “a” é um número real que indica o tamanho do segmento de reta das extremidades “0” e “a” ou a distância do ponto “a” até o ponto “0” na reta numérica.\n",
    "\n",
    "A norma de um vetor, também conhecida como módulo de um vetor, é obtida por meio do cálculo do comprimento desse vetor.\n",
    "\n",
    "**Em relação aos vetores, eles são objetos matemáticos definidos em qualquer tipo de espaço, seja ele uma reta, seja um plano ou espaços com muitas dimensões. Além disso, são segmentos de reta orientados criados para descrever movimentos retilíneos e possuem marcação de direção, sentido e intensidade. Como se trata de segmentos de reta antes de tudo, é possível medir seus comprimentos utilizando cálculos que envolvem distância entre dois pontos.**"
   ]
  },
  {
   "cell_type": "code",
   "execution_count": 101,
   "metadata": {},
   "outputs": [],
   "source": [
    "# Loop para calcular a norma dos vetores\n",
    "for country in vetores:\n",
    "    \n",
    "    # Target\n",
    "    vecA = vetores[target]\n",
    "    \n",
    "    # País\n",
    "    vecB = vetores[country]\n",
    "    \n",
    "    # Calcula a distância euclidiana com a operação entre os vetores de dados\n",
    "    dist = np.linalg.norm(vecA - vecB)\n",
    "    \n",
    "    # Calcula a distância cosine (cosseno) com a operação entre os vetores de dados\n",
    "    cos = np.dot(vecA, vecB) / (np.linalg.norm(vecA) * np.linalg.norm(vecB))\n",
    "    \n",
    "    # Carrega os dicionários\n",
    "    euclid[country] = dist    \n",
    "    cosine[country] = 1-cos   "
   ]
  },
  {
   "cell_type": "code",
   "execution_count": 102,
   "metadata": {},
   "outputs": [],
   "source": [
    "# Coloca os dicionários em um dataframe\n",
    "df_distance = pd.DataFrame({\"euclid\": euclid, \"cos\": cosine})"
   ]
  },
  {
   "cell_type": "code",
   "execution_count": 103,
   "metadata": {},
   "outputs": [
    {
     "name": "stdout",
     "output_type": "stream",
     "text": [
      "País mais próximo do nosso Target de acordo com a Distância Euclidiana:\n",
      "                          euclid       cos\n",
      "Brazil              0.000000e+00  0.000000\n",
      "Russian Federation  3.248566e+11  0.013462\n",
      "Canada              4.551362e+11  0.028087\n",
      "Italy               4.894075e+11  0.019586\n",
      "Australia           4.911192e+11  0.007251\n"
     ]
    }
   ],
   "source": [
    "# Imprime os resultados\n",
    "print(\"País mais próximo do nosso Target de acordo com a Distância Euclidiana:\")\n",
    "print(df_distance.sort_values(by = \"euclid\").head())"
   ]
  },
  {
   "cell_type": "code",
   "execution_count": 104,
   "metadata": {},
   "outputs": [
    {
     "name": "stdout",
     "output_type": "stream",
     "text": [
      "País mais próximo do nosso Target de acordo com a Distância Cosine (Cosseno):\n",
      "                     euclid       cos\n",
      "Brazil         0.000000e+00  0.000000\n",
      "United States  2.000873e+13  0.001005\n",
      "Cuba           1.808944e+12  0.001246\n",
      "Japan          3.365125e+12  0.001396\n",
      "Argentina      1.454052e+12  0.001435\n"
     ]
    }
   ],
   "source": [
    "# Imprime os resultados\n",
    "print(\"País mais próximo do nosso Target de acordo com a Distância Cosine (Cosseno):\")\n",
    "print(df_distance.sort_values(by = \"cos\").head())"
   ]
  },
  {
   "cell_type": "markdown",
   "metadata": {},
   "source": [
    "A semelhança do cosseno é benéfica porque, mesmo que os dois objetos de dados semelhantes estejam distantes pela distância euclidiana devido ao tamanho, eles ainda podem ter um ângulo menor entre eles. Quanto menor o ângulo, maior a semelhança."
   ]
  },
  {
   "cell_type": "code",
   "execution_count": 105,
   "metadata": {},
   "outputs": [
    {
     "name": "stdout",
     "output_type": "stream",
     "text": [
      "Author: Data Science Academy\n",
      "\n"
     ]
    }
   ],
   "source": [
    "%reload_ext watermark\n",
    "%watermark -a \"Data Science Academy\""
   ]
  },
  {
   "cell_type": "code",
   "execution_count": 106,
   "metadata": {},
   "outputs": [],
   "source": [
    "#%watermark -v -m"
   ]
  },
  {
   "cell_type": "code",
   "execution_count": 107,
   "metadata": {},
   "outputs": [],
   "source": [
    "#%watermark --iversions"
   ]
  },
  {
   "cell_type": "markdown",
   "metadata": {},
   "source": [
    "# Fim"
   ]
  }
 ],
 "metadata": {
  "kernelspec": {
   "display_name": "Python 3 (ipykernel)",
   "language": "python",
   "name": "python3"
  },
  "language_info": {
   "codemirror_mode": {
    "name": "ipython",
    "version": 3
   },
   "file_extension": ".py",
   "mimetype": "text/x-python",
   "name": "python",
   "nbconvert_exporter": "python",
   "pygments_lexer": "ipython3",
   "version": "3.9.7"
  }
 },
 "nbformat": 4,
 "nbformat_minor": 2
}
