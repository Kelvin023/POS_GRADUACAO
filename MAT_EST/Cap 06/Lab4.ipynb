{
 "cells": [
  {
   "cell_type": "markdown",
   "metadata": {},
   "source": [
    "<!-- Projeto Desenvolvido na Data Science Academy - www.datascienceacademy.com.br -->\n",
    "# <font color='blue'>Data Science Academy</font>\n",
    "## <font color='blue'>Matemática e Estatística Aplicada Para Data Science, Machine Learning e IA</font>\n",
    "## <font color='blue'>Lab 4</font>\n",
    "## <font color='blue'>Representação Geométrica de Vetores e Álgebra Linear no Espaço Vetorial</font>"
   ]
  },
  {
   "cell_type": "markdown",
   "metadata": {},
   "source": [
    "### Instalando e Carregando os Pacotes"
   ]
  },
  {
   "cell_type": "code",
   "execution_count": 1,
   "metadata": {},
   "outputs": [],
   "source": [
    "# Para atualizar um pacote, execute o comando abaixo no terminal ou prompt de comando:\n",
    "# pip install -U nome_pacote\n",
    "\n",
    "# Para instalar a versão exata de um pacote, execute o comando abaixo no terminal ou prompt de comando:\n",
    "# !pip install nome_pacote==versão_desejada\n",
    "\n",
    "# Depois de instalar ou atualizar o pacote, reinicie o jupyter notebook.\n",
    "\n",
    "# Instala o pacote watermark. \n",
    "# Esse pacote é usado para gravar as versões de outros pacotes usados neste jupyter notebook.\n",
    "!pip install -q -U watermark"
   ]
  },
  {
   "cell_type": "markdown",
   "metadata": {},
   "source": [
    "https://pandas-datareader.readthedocs.io/en/latest/"
   ]
  },
  {
   "cell_type": "code",
   "execution_count": 2,
   "metadata": {},
   "outputs": [],
   "source": [
    "!pip install -q pandas_datareader"
   ]
  },
  {
   "cell_type": "code",
   "execution_count": 3,
   "metadata": {},
   "outputs": [],
   "source": [
    "# Imports\n",
    "import numpy as np\n",
    "import pandas as pd\n",
    "import matplotlib.pyplot as plt\n",
    "from pandas_datareader import wb\n",
    "plt.rcParams.update({'font.size':14}) "
   ]
  },
  {
   "cell_type": "code",
   "execution_count": 4,
   "metadata": {},
   "outputs": [
    {
     "name": "stdout",
     "output_type": "stream",
     "text": [
      "Author: Data Science Academy\n",
      "\n"
     ]
    }
   ],
   "source": [
    "# Versões dos pacotes usados neste jupyter notebook\n",
    "%reload_ext watermark\n",
    "%watermark -a \"Data Science Academy\" "
   ]
  },
  {
   "cell_type": "markdown",
   "metadata": {},
   "source": [
    "## Estruturas de Dados Para Criação de Vetores em Python"
   ]
  },
  {
   "cell_type": "code",
   "execution_count": null,
   "metadata": {},
   "outputs": [],
   "source": [
    "# Cria um vetor como lista em Python\n",
    "dsa_vetor1 = [1, 2, 3]"
   ]
  },
  {
   "cell_type": "code",
   "execution_count": null,
   "metadata": {},
   "outputs": [],
   "source": [
    "type(dsa_vetor1)"
   ]
  },
  {
   "cell_type": "code",
   "execution_count": null,
   "metadata": {},
   "outputs": [],
   "source": [
    "np.shape(dsa_vetor1)"
   ]
  },
  {
   "cell_type": "code",
   "execution_count": null,
   "metadata": {},
   "outputs": [],
   "source": [
    "# Cria um vetor como array NumPy\n",
    "dsa_vetor2 = np.array( [1, 2, 3] )"
   ]
  },
  {
   "cell_type": "code",
   "execution_count": null,
   "metadata": {},
   "outputs": [],
   "source": [
    "type(dsa_vetor2)"
   ]
  },
  {
   "cell_type": "code",
   "execution_count": null,
   "metadata": {},
   "outputs": [],
   "source": [
    "dsa_vetor2.shape"
   ]
  },
  {
   "cell_type": "code",
   "execution_count": null,
   "metadata": {},
   "outputs": [],
   "source": [
    "# Cria um vetor de 1 linha com 3 colunas\n",
    "dsa_vetor3 = np.array( [ [1,2,3] ] ) "
   ]
  },
  {
   "cell_type": "code",
   "execution_count": null,
   "metadata": {},
   "outputs": [],
   "source": [
    "type(dsa_vetor3)"
   ]
  },
  {
   "cell_type": "code",
   "execution_count": null,
   "metadata": {},
   "outputs": [],
   "source": [
    "dsa_vetor3.shape"
   ]
  },
  {
   "cell_type": "code",
   "execution_count": null,
   "metadata": {},
   "outputs": [],
   "source": [
    "# Cria um vetor de 3 linhas e 1 coluna \n",
    "dsa_vetor4 = np.array( [ [1], [2], [3] ] )"
   ]
  },
  {
   "cell_type": "code",
   "execution_count": null,
   "metadata": {},
   "outputs": [],
   "source": [
    "type(dsa_vetor4)"
   ]
  },
  {
   "cell_type": "code",
   "execution_count": null,
   "metadata": {},
   "outputs": [],
   "source": [
    "dsa_vetor4.shape"
   ]
  },
  {
   "cell_type": "markdown",
   "metadata": {},
   "source": [
    "## Geometria de Vetores e Representação em Python"
   ]
  },
  {
   "cell_type": "code",
   "execution_count": null,
   "metadata": {},
   "outputs": [],
   "source": [
    "# Define o vetor\n",
    "u = np.array([-2, 3])"
   ]
  },
  {
   "cell_type": "code",
   "execution_count": null,
   "metadata": {},
   "outputs": [],
   "source": [
    "print(u)"
   ]
  },
  {
   "cell_type": "markdown",
   "metadata": {},
   "source": [
    "https://matplotlib.org/stable/users/index.html"
   ]
  },
  {
   "cell_type": "code",
   "execution_count": null,
   "metadata": {},
   "outputs": [],
   "source": [
    "# Exemplo 1\n",
    "\n",
    "# Cria a figura\n",
    "plt.figure(figsize = (5, 5))\n",
    "\n",
    "# Define o vetor como um objeto gráfico chamado arrow\n",
    "\n",
    "# Vetor u\n",
    "vetor1 = plt.arrow(0, \n",
    "                   0, \n",
    "                   u[0], \n",
    "                   u[1], \n",
    "                   head_width = .3, \n",
    "                   width = .1, \n",
    "                   color = 'blue', \n",
    "                   length_includes_head = True)\n",
    "\n",
    "# Ponto de início do vetor\n",
    "plt.plot(0, 0, 'ko', markerfacecolor = 'yellow', markersize = 8)\n",
    "\n",
    "# Formatação do plot\n",
    "plt.grid(linestyle = '--', linewidth = .6)\n",
    "plt.axis('square')\n",
    "plt.axis([-4, 4, -4, 4])\n",
    "plt.legend([vetor1], ['u'])\n",
    "plt.title('Vetor $\\mathbf{u}$')\n",
    "plt.savefig('imagens/grafico_01.png', dpi = 300) \n",
    "plt.show()"
   ]
  },
  {
   "cell_type": "code",
   "execution_count": null,
   "metadata": {},
   "outputs": [],
   "source": [
    "# Exemplo 2\n",
    "\n",
    "# Cria a figura\n",
    "plt.figure(figsize = (5, 5))\n",
    "\n",
    "# Cria um array de vetores\n",
    "vetores = np.array([ [3, -2], [-1, 4], [2, -3] ])\n",
    "print('Vetores:')\n",
    "print(vetores)\n",
    "\n",
    "# Cria um array de vetores para as origens\n",
    "origens = np.array([[0, -1, -2], [0, -2, -1]]) \n",
    "print('\\nOrigens:')\n",
    "print(origens)\n",
    "\n",
    "# Plot\n",
    "plt.quiver(*origens, vetores[:,0], vetores[:,1], color = ['r','b','g'], scale = 15)\n",
    "\n",
    "# Escala\n",
    "plt.axis([-5, 5, -5, 5])\n",
    "\n",
    "# Salva o gráfico\n",
    "plt.savefig('imagens/grafico_02.png', dpi = 300) \n",
    "\n",
    "# Plot\n",
    "plt.show()"
   ]
  },
  {
   "cell_type": "markdown",
   "metadata": {},
   "source": [
    "Compreendendo a linha abaixo:\n",
    "\n",
    "plt.quiver(*origens, vetores[:,0], vetores[:,1], color = ['r','b','g'], scale = 15)\n",
    "\n",
    "**plt.quiver(...)**: Esta é a chamada da função quiver do matplotlib.pyplot. Ela cria um gráfico de vetores (setas) que podem ser úteis para visualizar campos vetoriais ou outros dados vetoriais.\n",
    "\n",
    "*origens: Este é um argumento descompactado (*) de uma variável chamada origens.Espera-se que origens seja uma sequência de pares de coordenadas (x, y), representando os pontos de origem de cada vetor. O asterisco * é usado para desempacotar a sequência, de modo que cada elemento da sequência seja passado como um argumento separado.\n",
    "\n",
    "**vetores[:,0], vetores[:,1]**: Estes são os componentes x e y dos vetores a serem plotados. A notação vetores[:,0] seleciona todos os elementos da primeira coluna da matriz vetores (assumindo que é uma matriz 2D), que representam os componentes x de cada vetor. Similarmente, vetores[:,1] seleciona todos os elementos da segunda coluna, representando os componentes y.\n",
    "\n",
    "**color = ['r','b','g']**: Este é um argumento que especifica as cores dos vetores. Neste caso, os vetores serão coloridos em vermelho ('r'), azul ('b') e verde ('g'). O número de cores na lista deve corresponder ao número de vetores que estão sendo plotados.\n",
    "\n",
    "**scale = 15**: Este é outro argumento que define a escala dos vetores no gráfico. Uma escala maior faz com que os vetores apareçam maiores (ou mais longos) no gráfico. Este valor é usado para controlar a representação visual dos vetores, e pode ser ajustado conforme necessário para uma visualização clara."
   ]
  },
  {
   "cell_type": "markdown",
   "metadata": {},
   "source": [
    "## Adição de Vetores no Espaço Vetorial"
   ]
  },
  {
   "cell_type": "code",
   "execution_count": null,
   "metadata": {},
   "outputs": [],
   "source": [
    "# Define os vetores como array NumPy\n",
    "u = np.array([1, 2])\n",
    "v = np.array([4, -6])"
   ]
  },
  {
   "cell_type": "code",
   "execution_count": null,
   "metadata": {},
   "outputs": [],
   "source": [
    "print(u)"
   ]
  },
  {
   "cell_type": "code",
   "execution_count": null,
   "metadata": {},
   "outputs": [],
   "source": [
    "print(v)"
   ]
  },
  {
   "cell_type": "code",
   "execution_count": null,
   "metadata": {},
   "outputs": [],
   "source": [
    "# Soma os vetores\n",
    "soma = u + v"
   ]
  },
  {
   "cell_type": "code",
   "execution_count": null,
   "metadata": {},
   "outputs": [],
   "source": [
    "print(soma)"
   ]
  },
  {
   "cell_type": "code",
   "execution_count": null,
   "metadata": {},
   "outputs": [],
   "source": [
    "# Plot dos 3 vetores\n",
    "\n",
    "# Cria a figura\n",
    "plt.figure(figsize = (8, 8))\n",
    "\n",
    "# Define os 3 vetores\n",
    "\n",
    "# Vetor u\n",
    "vetor1 = plt.arrow(0, \n",
    "                   0, \n",
    "                   u[0], \n",
    "                   u[1], \n",
    "                   head_width = .3, \n",
    "                   width = .1, \n",
    "                   color = 'blue', \n",
    "                   length_includes_head = True)\n",
    "\n",
    "# Vetor v\n",
    "vetor2 = plt.arrow(0, \n",
    "                   0, \n",
    "                   v[0], \n",
    "                   v[1], \n",
    "                   head_width = .3, \n",
    "                   width = .1, \n",
    "                   color = 'green', \n",
    "                   length_includes_head = True)\n",
    "\n",
    "# Vetor resultante da soma dos vetores u e v\n",
    "vetor3 = plt.arrow(0, \n",
    "                   0, \n",
    "                   soma[0], \n",
    "                   soma[1], \n",
    "                   head_width = .3, \n",
    "                   width = .1, \n",
    "                   color = 'magenta', \n",
    "                   length_includes_head = True)\n",
    "\n",
    "# Ponto de início do vetor\n",
    "plt.plot(0, 0, 'ko', markerfacecolor = 'yellow', markersize = 8)\n",
    "\n",
    "# Formatação do plot\n",
    "plt.grid(linestyle = '--', linewidth = .6)\n",
    "plt.axis('square')\n",
    "plt.axis([-7, 7, -7, 7])\n",
    "plt.legend([vetor1, vetor2, vetor3], ['u','v','u + v'])\n",
    "plt.title('Vetores $\\mathbf{u}$, $\\mathbf{v}$ e $\\mathbf{u + v}$')\n",
    "plt.savefig('imagens/grafico_03.png', dpi = 300) \n",
    "plt.show()"
   ]
  },
  {
   "cell_type": "markdown",
   "metadata": {},
   "source": [
    "Propriedades:\n",
    "\n",
    "O vetor resultante da soma de dois vetores não necessariamente tem a mesma direção de um dos vetores originais. A direção do vetor resultante depende das magnitudes e direções dos vetores originais. Aqui estão alguns cenários para ilustrar isso:\n",
    "\n",
    "**Mesma Direção e Sentido**: Se dois vetores estão na mesma direção e têm o mesmo sentido (ou seja, não são opostos), o vetor resultante também terá a mesma direção e sentido, mas com uma magnitude maior. Por exemplo, somar [2, 2] e [1, 1] resulta em [3, 3], que está na mesma direção e sentido.\n",
    "\n",
    "**Direções Diferentes**: Se os vetores estão em direções diferentes, o vetor resultante terá uma direção que é uma \"média\" ponderada das direções originais, dependendo das magnitudes dos vetores. Por exemplo, somar [1, 0] e [0, 1] resulta em [1, 1], que está em uma nova direção.\n",
    "\n",
    "**Vetores Opostos**: Se os vetores são exatamente opostos (mesma magnitude, direções opostas), a soma resultará no vetor zero, o qual tecnicamente não tem uma direção definida. Por exemplo, somar [1, 0] e [-1, 0] resulta em [0, 0].\n",
    "\n",
    "**Um Vetor é Múltiplo do Outro**: Se um vetor é um múltiplo escalar do outro, a soma resultará em um vetor que tem a mesma direção de ambos os vetores originais, mas com uma magnitude que é a soma (ou diferença, dependendo do sinal do escalar) das magnitudes. Por exemplo, somar [1, 1] e [-2, -2] resultará em [-1, -1], que está na mesma direção, mas com uma magnitude e sentido diferentes.\n",
    "\n",
    "Portanto, a direção do vetor resultante da soma de dois vetores depende de suas magnitudes e direções relativas."
   ]
  },
  {
   "cell_type": "markdown",
   "metadata": {},
   "source": [
    "> Também podemos somar os vetores assim:"
   ]
  },
  {
   "cell_type": "code",
   "execution_count": null,
   "metadata": {},
   "outputs": [],
   "source": [
    "# Define os vetores\n",
    "a = np.array([4, 3, 2])\n",
    "print(a)\n",
    "b = np.array([1, 5, 7])\n",
    "print(b)"
   ]
  },
  {
   "cell_type": "code",
   "execution_count": null,
   "metadata": {},
   "outputs": [],
   "source": [
    "# Cria um array vazio\n",
    "c = np.empty(3)"
   ]
  },
  {
   "cell_type": "code",
   "execution_count": null,
   "metadata": {},
   "outputs": [],
   "source": [
    "# Também podemos somar os vetores assim:\n",
    "c[0] = a[0] + b[0]\n",
    "c[1] = a[1] + b[1]\n",
    "c[2] = a[2] + b[2]"
   ]
  },
  {
   "cell_type": "code",
   "execution_count": null,
   "metadata": {},
   "outputs": [],
   "source": [
    "print(c)"
   ]
  },
  {
   "cell_type": "code",
   "execution_count": null,
   "metadata": {},
   "outputs": [],
   "source": [
    "# Mesmo que isso:\n",
    "c = a + b\n",
    "print(c)"
   ]
  },
  {
   "cell_type": "markdown",
   "metadata": {},
   "source": [
    "## Subtração de Vetores no Espaço Vetorial"
   ]
  },
  {
   "cell_type": "code",
   "execution_count": null,
   "metadata": {},
   "outputs": [],
   "source": [
    "# Define os vetores como array NumPy\n",
    "u = np.array([1, 2])\n",
    "v = np.array([2, -3])"
   ]
  },
  {
   "cell_type": "code",
   "execution_count": null,
   "metadata": {},
   "outputs": [],
   "source": [
    "# Subtração dos vetores\n",
    "diff = u - v"
   ]
  },
  {
   "cell_type": "code",
   "execution_count": null,
   "metadata": {},
   "outputs": [],
   "source": [
    "print(diff)"
   ]
  },
  {
   "cell_type": "code",
   "execution_count": null,
   "metadata": {},
   "outputs": [],
   "source": [
    "type(diff)"
   ]
  },
  {
   "cell_type": "code",
   "execution_count": null,
   "metadata": {},
   "outputs": [],
   "source": [
    "# Plot dos 3 vetores\n",
    "\n",
    "# Tamanho da figura\n",
    "plt.figure(figsize = (8,8))\n",
    "\n",
    "# Vetores\n",
    "v1 = plt.arrow(0, 0, u[0], u[1], head_width = .3, width = .1, color = 'blue', length_includes_head = True)\n",
    "v2 = plt.arrow(0, 0, v[0], v[1], head_width = .3, width = .1, color = 'green', length_includes_head = True)\n",
    "v3 = plt.arrow(0, 0, diff[0], diff[1], head_width = .3, width = .1, color = 'magenta', length_includes_head = True)\n",
    "\n",
    "# Ponto de início do vetor\n",
    "plt.plot(0, 0, 'ko', markerfacecolor = 'yellow', markersize = 8)\n",
    "\n",
    "# Formatação do plot\n",
    "plt.grid(linestyle = '--', linewidth = .6)\n",
    "plt.axis('square')\n",
    "plt.axis([-6, 6, -6, 6])\n",
    "plt.legend([v1, v2, v3], ['u', 'v', 'u - v'])\n",
    "plt.title('Vetores $\\mathbf{u}$, $\\mathbf{v}$ e $\\mathbf{u - v}$')\n",
    "plt.savefig('imagens/grafico_04.png', dpi = 300)\n",
    "plt.show()"
   ]
  },
  {
   "cell_type": "markdown",
   "metadata": {},
   "source": [
    "Propriedades:\n",
    "\n",
    "O vetor resultante da subtração de dois vetores pode ou não ter a mesma direção de um dos vetores originais. A direção e magnitude do vetor resultante dependem das relações entre os vetores que estão sendo subtraídos. Aqui estão alguns cenários possíveis:\n",
    "\n",
    "**Vetores com a Mesma Direção e Sentido**: Se você subtrair um vetor de outro vetor na mesma direção e sentido, mas de magnitude diferente, o vetor resultante terá a mesma direção e sentido que os vetores originais. Por exemplo, subtraindo [1, 1] de [3, 3] resulta em [2, 2], que tem a mesma direção e sentido.\n",
    "\n",
    "**Vetores com Direções Diferentes**: Se os vetores têm direções diferentes, o vetor resultante terá uma direção que depende da diferença entre as direções e magnitudes dos vetores originais. Por exemplo, subtraindo [1, 0] de [0, 1] resulta em [-1, 1], que é uma nova direção.\n",
    "\n",
    "**Vetores Opostos**: Se os vetores são opostos (mesma magnitude, direções opostas), a subtração resultará em um vetor com o dobro da magnitude de um dos vetores e na direção do vetor do qual você está subtraindo. Por exemplo, subtraindo [-1, 0] de [1, 0] resulta em [2, 0], que tem a mesma direção que o vetor [1, 0].\n",
    "\n",
    "**Um Vetor é Múltiplo do Outro**: Se um vetor é um múltiplo escalar do outro, a subtração resultará em um vetor que tem a mesma direção que os vetores originais, mas com uma magnitude que é a diferença das magnitudes. Por exemplo, subtraindo [-2, -2] de [1, 1] resultará em [3, 3], que está na mesma direção."
   ]
  },
  {
   "cell_type": "markdown",
   "metadata": {},
   "source": [
    "## Multiplicação Escalar no Espaço Vetorial"
   ]
  },
  {
   "cell_type": "code",
   "execution_count": null,
   "metadata": {},
   "outputs": [],
   "source": [
    "# Valor escalar\n",
    "valor_escalar = 3"
   ]
  },
  {
   "cell_type": "code",
   "execution_count": null,
   "metadata": {},
   "outputs": [],
   "source": [
    "# Vetor\n",
    "vetor = np.array([5,4])"
   ]
  },
  {
   "cell_type": "code",
   "execution_count": null,
   "metadata": {},
   "outputs": [],
   "source": [
    "resultado = vetor * valor_escalar "
   ]
  },
  {
   "cell_type": "code",
   "execution_count": null,
   "metadata": {},
   "outputs": [],
   "source": [
    "print(resultado)"
   ]
  },
  {
   "cell_type": "code",
   "execution_count": null,
   "metadata": {},
   "outputs": [],
   "source": [
    "# Também podemos fazer outras operações escalares\n",
    "num = 2\n",
    "print(vetor + num)"
   ]
  },
  {
   "cell_type": "code",
   "execution_count": null,
   "metadata": {},
   "outputs": [],
   "source": [
    "# Também podemos fazer outras operações escalares\n",
    "num = 2\n",
    "print(vetor - num)"
   ]
  },
  {
   "cell_type": "code",
   "execution_count": null,
   "metadata": {},
   "outputs": [],
   "source": [
    "# Mas tome cuidado:\n",
    "num = 2\n",
    "print(num - vetor)"
   ]
  },
  {
   "cell_type": "code",
   "execution_count": null,
   "metadata": {},
   "outputs": [],
   "source": [
    "# Também podemos fazer outras operações escalares\n",
    "num = 2\n",
    "print(vetor / num)"
   ]
  },
  {
   "cell_type": "code",
   "execution_count": null,
   "metadata": {},
   "outputs": [],
   "source": [
    "# Também podemos fazer outras operações escalares\n",
    "num = 2\n",
    "print(vetor ** num)"
   ]
  },
  {
   "cell_type": "markdown",
   "metadata": {},
   "source": [
    "> Observe este exemplo:"
   ]
  },
  {
   "cell_type": "code",
   "execution_count": null,
   "metadata": {},
   "outputs": [],
   "source": [
    "# Efeito de diferentes valores escalares\n",
    "\n",
    "# Lista de escalaraes\n",
    "valores_escalares = [ 1, 2, 1/2, -1, -2 ]\n",
    "print(valores_escalares)\n",
    "\n",
    "# Vetor\n",
    "vetor_inicial = np.array([ .9, 1.2 ])\n",
    "print(vetor_inicial)\n",
    "\n",
    "# Cria a figura\n",
    "fig, axs = plt.subplots(1, len(valores_escalares), figsize = (14,5))\n",
    "\n",
    "# Contador para os subplots\n",
    "i = 0 \n",
    "\n",
    "for valor in valores_escalares:\n",
    "    \n",
    "    # Multiplicação escalar\n",
    "    vetor_resultante = valor * vetor_inicial\n",
    "\n",
    "    # Plot do vetor inicial\n",
    "    axs[i].arrow(0, \n",
    "                 0, \n",
    "                 vetor_inicial[0], \n",
    "                 vetor_inicial[1], \n",
    "                 head_width = .3,\n",
    "                 width = .1, \n",
    "                 color = 'blue',\n",
    "                 length_includes_head = True)\n",
    "    \n",
    "    # Plot do vetor resultante\n",
    "    axs[i].arrow(0.1, \n",
    "                 0, \n",
    "                 vetor_resultante[0], \n",
    "                 vetor_resultante[1], \n",
    "                 head_width = .3,\n",
    "                 width = .1,\n",
    "                 color = 'red',\n",
    "                 length_includes_head = True)\n",
    "    \n",
    "    # Grid\n",
    "    axs[i].grid(linestyle = '--')\n",
    "    \n",
    "    # Formato\n",
    "    axs[i].axis('square')\n",
    "    \n",
    "    # Eixos\n",
    "    axs[i].axis([-2.5, 2.5, -2.5, 2.5])\n",
    "    \n",
    "    # Limites\n",
    "    axs[i].set(xticks = np.arange(-2,3), yticks = np.arange(-2,3))\n",
    "    \n",
    "    # Título\n",
    "    axs[i].set_title(f'$\\sigma$ = {valor:.2f}')\n",
    "    \n",
    "    # Contador\n",
    "    i += 1\n",
    "\n",
    "plt.tight_layout()\n",
    "plt.savefig('imagens/grafico_05.png', dpi = 300)\n",
    "plt.show()"
   ]
  },
  {
   "cell_type": "markdown",
   "metadata": {},
   "source": [
    "Propriedades:\n",
    "\n",
    "A direção do vetor resultante de uma multiplicação escalar em um espaço vetorial é diretamente relacionada à direção do vetor original antes da multiplicação. Quando um vetor é multiplicado por um escalar, apenas a magnitude do vetor é alterada (aumentada ou diminuída, dependendo do valor absoluto do escalar), enquanto a direção permanece a mesma ou se inverte, dependendo do sinal do escalar. Aqui estão as possibilidades:\n",
    "\n",
    "**Multiplicação por um Escalar Positivo**: Se o vetor é multiplicado por um escalar positivo, a direção do vetor resultante é a mesma do vetor original. O vetor resultante é uma versão \"esticada\" ou \"comprimida\" do vetor original, dependendo se o escalar é maior ou menor que um, respectivamente.\n",
    "\n",
    "**Multiplicação por Zero**: Se o vetor é multiplicado por zero, o vetor resultante é o vetor zero, que tecnicamente não tem direção definida.\n",
    "\n",
    "**Multiplicação por um Escalar Negativo**: Se o vetor é multiplicado por um escalar negativo, a direção do vetor resultante é oposta à do vetor original. O vetor resultante ainda é uma versão \"esticada\" ou \"comprimida\" do vetor original, mas aponta na direção oposta.\n",
    "\n",
    "Assim, a operação de multiplicação escalar pode alterar a magnitude de um vetor, mas afeta sua direção de maneira previsível, mantendo-a a mesma ou invertendo-a, dependendo do sinal do escalar."
   ]
  },
  {
   "cell_type": "markdown",
   "metadata": {},
   "source": [
    "## Cross Product (Produto Vetorial) Entre Vetores no Espaço Vetorial"
   ]
  },
  {
   "cell_type": "code",
   "execution_count": null,
   "metadata": {},
   "outputs": [],
   "source": [
    "# Define 2 vetores\n",
    "A = np.array([ 5, 2, 3 ])\n",
    "B = np.array([ 3, 2, 4 ])"
   ]
  },
  {
   "cell_type": "code",
   "execution_count": null,
   "metadata": {},
   "outputs": [],
   "source": [
    "# Calcula o cross product\n",
    "resultado = np.cross(A, B)\n",
    "print(resultado)"
   ]
  },
  {
   "cell_type": "code",
   "execution_count": null,
   "metadata": {},
   "outputs": [],
   "source": [
    "type(resultado)"
   ]
  },
  {
   "cell_type": "code",
   "execution_count": null,
   "metadata": {},
   "outputs": [],
   "source": [
    "resultado.shape"
   ]
  },
  {
   "cell_type": "code",
   "execution_count": null,
   "metadata": {},
   "outputs": [],
   "source": [
    "# Criando nossa própria função\n",
    "def cross_prod(a, b):\n",
    "    \n",
    "    # Cálculo\n",
    "    resultado = [a[1] * b[2] - a[2] * b[1], a[2] * b[0] - a[0] * b[2], a[0] * b[1] - a[1] * b[0]]\n",
    "\n",
    "    # Retorno\n",
    "    return resultado"
   ]
  },
  {
   "cell_type": "code",
   "execution_count": null,
   "metadata": {},
   "outputs": [],
   "source": [
    "# Executa a função\n",
    "vetor_resultante = cross_prod(A, B)"
   ]
  },
  {
   "cell_type": "code",
   "execution_count": null,
   "metadata": {},
   "outputs": [],
   "source": [
    "print(vetor_resultante)"
   ]
  },
  {
   "cell_type": "code",
   "execution_count": null,
   "metadata": {},
   "outputs": [],
   "source": [
    "# Plot dos vetores no cross product\n",
    "\n",
    "# Configurando o gráfico\n",
    "plt.figure(figsize = (6, 6))\n",
    "\n",
    "# Plotando os vetores (apenas componentes x e y)\n",
    "plt.quiver(0, 0, A[0], A[1], color='r', angles='xy', scale_units='xy', scale=1, label='A')\n",
    "plt.quiver(0, 0, B[0], B[1], color='g', angles='xy', scale_units='xy', scale=1, label='B')\n",
    "plt.quiver(0, 0, resultado[0], resultado[1], color='b', angles='xy', scale_units='xy', scale=1, label='Resultado')\n",
    "\n",
    "# Definindo limites e características do gráfico\n",
    "plt.xlim(-15, 15)\n",
    "plt.ylim(-15, 15)\n",
    "plt.grid()\n",
    "plt.legend()\n",
    "plt.xlabel('X axis')\n",
    "plt.ylabel('Y axis')\n",
    "plt.title('Cross Product')\n",
    "\n",
    "# Exibindo o gráfico\n",
    "plt.savefig('imagens/grafico_06.png', dpi = 300) \n",
    "plt.show()"
   ]
  },
  {
   "cell_type": "markdown",
   "metadata": {},
   "source": [
    "## Dot Product (Produto Escalar) Entre Vetores no Espaço Vetorial"
   ]
  },
  {
   "cell_type": "code",
   "execution_count": null,
   "metadata": {},
   "outputs": [],
   "source": [
    "# Define 2 vetores\n",
    "A = np.array([ 5, 2, 3 ])\n",
    "B = np.array([ 3, 2, 4 ])"
   ]
  },
  {
   "cell_type": "code",
   "execution_count": null,
   "metadata": {},
   "outputs": [],
   "source": [
    "# Calcula o dot product\n",
    "resultado1 = np.dot( A, B )\n",
    "print(resultado1)"
   ]
  },
  {
   "cell_type": "code",
   "execution_count": null,
   "metadata": {},
   "outputs": [],
   "source": [
    "# Cria 3 vetores \n",
    "u = np.array([ 1, 5 ])\n",
    "v = np.array([ 6, 2 ])\n",
    "w = np.array([ 19, 4 ])"
   ]
  },
  {
   "cell_type": "code",
   "execution_count": null,
   "metadata": {},
   "outputs": [],
   "source": [
    "# Opção 1 de calcular dot product com 3 vetores\n",
    "resultado1 = np.dot( u, v + w )\n",
    "print(resultado1)"
   ]
  },
  {
   "cell_type": "code",
   "execution_count": null,
   "metadata": {},
   "outputs": [],
   "source": [
    "# Opção 2 de calcular dot product com 3 vetores\n",
    "resultado2 = np.dot( u, v ) + np.dot( u, w )\n",
    "print(resultado2)"
   ]
  },
  {
   "cell_type": "code",
   "execution_count": null,
   "metadata": {},
   "outputs": [],
   "source": [
    "# Definindo os vetores\n",
    "u = np.array([1, 5])\n",
    "v = np.array([6, 2])\n",
    "w = np.array([19, 4])\n",
    "\n",
    "# Calculando a soma de v e w\n",
    "vw_sum = v + w\n",
    "\n",
    "# Configurando o gráfico\n",
    "plt.figure()\n",
    "\n",
    "# Adicionando os vetores u, v, w e vw_sum ao gráfico\n",
    "plt.quiver(0, 0, u[0], u[1], color = 'r', scale = 1, scale_units = 'xy', angles = 'xy', label = 'u')\n",
    "plt.quiver(0, 0, v[0], v[1], color = 'b', scale = 1, scale_units = 'xy', angles = 'xy', label = 'v')\n",
    "plt.quiver(0, 0, w[0], w[1], color = 'g', scale = 1, scale_units = 'xy', angles = 'xy', label = 'w')\n",
    "plt.quiver(0, 0, vw_sum[0], vw_sum[1], color = 'orange', scale = 1, scale_units = 'xy', angles = 'xy', label = 'v+w')\n",
    "\n",
    "# Definindo limites do gráfico\n",
    "plt.xlim(-10, 30)\n",
    "plt.ylim(-10, 30)\n",
    "\n",
    "# Adicionando grade\n",
    "plt.grid()\n",
    "\n",
    "# Adicionando legenda\n",
    "plt.legend()\n",
    "\n",
    "# Mostrando o gráfico\n",
    "plt.savefig('imagens/grafico_07.png', dpi = 300) \n",
    "plt.show()"
   ]
  },
  {
   "cell_type": "markdown",
   "metadata": {},
   "source": [
    "Este gráfico ajuda a visualizar os vetores individuais e a soma de v e w, que é relevante para o cálculo do produto escalar. "
   ]
  },
  {
   "cell_type": "markdown",
   "metadata": {},
   "source": [
    "## Transposta do Vetor"
   ]
  },
  {
   "cell_type": "code",
   "execution_count": null,
   "metadata": {},
   "outputs": [],
   "source": [
    "# Cria o vetor\n",
    "vec = np.array([ [1, 2, 3] ])"
   ]
  },
  {
   "cell_type": "code",
   "execution_count": null,
   "metadata": {},
   "outputs": [],
   "source": [
    "print(vec)"
   ]
  },
  {
   "cell_type": "code",
   "execution_count": null,
   "metadata": {},
   "outputs": [],
   "source": [
    "vec.shape"
   ]
  },
  {
   "cell_type": "code",
   "execution_count": null,
   "metadata": {},
   "outputs": [],
   "source": [
    "# Salva a transposta\n",
    "transposta = vec.T"
   ]
  },
  {
   "cell_type": "code",
   "execution_count": null,
   "metadata": {},
   "outputs": [],
   "source": [
    "transposta.shape"
   ]
  },
  {
   "cell_type": "code",
   "execution_count": null,
   "metadata": {},
   "outputs": [],
   "source": [
    "# Transposta\n",
    "print(transposta)"
   ]
  },
  {
   "cell_type": "code",
   "execution_count": null,
   "metadata": {},
   "outputs": [],
   "source": [
    "# Transposta da transposta\n",
    "print(vec.T.T)"
   ]
  },
  {
   "cell_type": "code",
   "execution_count": null,
   "metadata": {},
   "outputs": [],
   "source": [
    "# Cria o vetor\n",
    "vec = np.array([ [1, 2] ])"
   ]
  },
  {
   "cell_type": "code",
   "execution_count": null,
   "metadata": {},
   "outputs": [],
   "source": [
    "# Salva a transposta\n",
    "transposta = vec.T"
   ]
  },
  {
   "cell_type": "code",
   "execution_count": null,
   "metadata": {},
   "outputs": [],
   "source": [
    "transposta.shape"
   ]
  },
  {
   "cell_type": "code",
   "execution_count": null,
   "metadata": {},
   "outputs": [],
   "source": [
    "# Transposta\n",
    "print(transposta)"
   ]
  },
  {
   "cell_type": "markdown",
   "metadata": {},
   "source": [
    "Para representar graficamente tanto o vetor original quanto a sua transposta, é importante entender que a operação de transposição em um vetor individual, especialmente um vetor coluna transformando-se em vetor linha (ou vice-versa), não altera seus componentes. Isso significa que, em termos de representação gráfica, o vetor e sua transposta são indistinguíveis.\n",
    "\n",
    "No entanto, para fins de ilustração, vamos representar o vetor original e sua transposta no mesmo gráfico, mesmo que ambos sejam visualmente idênticos. Vamos usar cores diferentes para diferenciá-los somente para fins de visualização."
   ]
  },
  {
   "cell_type": "code",
   "execution_count": null,
   "metadata": {},
   "outputs": [],
   "source": [
    "# Definindo o vetor original (apenas as duas primeiras componentes para representação gráfica)\n",
    "vec = np.array([1, 2])\n",
    "\n",
    "# Configurando o gráfico\n",
    "plt.figure()\n",
    "\n",
    "# Adicionando o vetor original ao gráfico\n",
    "plt.quiver(0, \n",
    "           0, \n",
    "           vec[0], \n",
    "           vec[1], \n",
    "           color = 'r', \n",
    "           scale = 1, \n",
    "           scale_units = 'xy', \n",
    "           angles = 'xy', \n",
    "           label = 'vec (original)')\n",
    "\n",
    "# Adicionando a transposta do vetor ao gráfico (mesmas coordenadas, cor diferente para ilustração)\n",
    "plt.quiver(0.1, \n",
    "           0, \n",
    "           transposta[0], \n",
    "           transposta[1], \n",
    "           color = 'b', \n",
    "           scale = 1, \n",
    "           scale_units = 'xy', \n",
    "           angles = 'xy', \n",
    "           label = 'vec.T (transposta)')\n",
    "\n",
    "# Definindo limites do gráfico\n",
    "plt.xlim(-1, 5)\n",
    "plt.ylim(-1, 5)\n",
    "\n",
    "# Adicionando grade\n",
    "plt.grid()\n",
    "\n",
    "# Adicionando legenda\n",
    "plt.legend()\n",
    "\n",
    "# Mostrando o gráfico\n",
    "plt.savefig('imagens/grafico_08.png', dpi = 300) \n",
    "plt.show()"
   ]
  },
  {
   "cell_type": "markdown",
   "metadata": {},
   "source": [
    "> Continuaremos no próximo capítulo!"
   ]
  },
  {
   "cell_type": "markdown",
   "metadata": {},
   "source": [
    "## Axiomas de Operações com Vetores no Espaço Vetorial em Python"
   ]
  },
  {
   "cell_type": "markdown",
   "metadata": {},
   "source": [
    "Um espaço vetorial, como o próprio nome indica, é o espaço para vetores, que define duas operações, **adição** e **multiplicação por escalares**, sujeitas aos axiomas abaixo:"
   ]
  },
  {
   "cell_type": "markdown",
   "metadata": {},
   "source": [
    "1. A soma de ${u}$ e ${v}$, indicado por ${u}+{v},$ está em $V$\n",
    "2. ${u}+{v}={v}+{u}$\n",
    "3. $({u}+{v})+{w}={u}+({v}+{w})$\n",
    "4. Existe um vetor nulo $0$ em $V$ tal que ${u}+{0}={u}$\n",
    "5. Para cada ${u}$ em $V$, há um vetor $-{u}$ in $V$ tal que ${u}+(-{u})={0}$\n",
    "6. A multipplicação do escalar ${u}$ por $c,$ indicado por $c {u},$ está em $V$\n",
    "7. $c({u}+{v})=c {u}+c {v}$\n",
    "8. $(c+d) {u}=c {u}+d {u}$\n",
    "9. $c(d {u})=(c d) {u}$\n",
    "10. $1 {u}={u}$"
   ]
  },
  {
   "cell_type": "markdown",
   "metadata": {},
   "source": [
    "Todos os axiomas são autoexplicativos, mas vamos representar um deles em Linguagem Python. Podemos visualizar o axioma $7$ com uma função em Python. Como forma de praticar tente criar funções para os demais axiomas.\n",
    "\n",
    "Vamos construir a função que vai representar e executar esta operação:\n",
    "\n",
    "$c({u}+{v})=c {u}+c {v}$"
   ]
  },
  {
   "cell_type": "code",
   "execution_count": null,
   "metadata": {},
   "outputs": [],
   "source": [
    "# Função para o axioma 7\n",
    "def funcAxioma7(u, v, c):\n",
    "    \n",
    "    # Cria figura e subplots\n",
    "    fig, ax = plt.subplots(figsize = (8, 8))\n",
    "\n",
    "    # Seta para o vetor u (passado como argumento na função).\n",
    "    ax.arrow(0, \n",
    "             0, \n",
    "             u[0], \n",
    "             u[1], \n",
    "             color = 'red', \n",
    "             width = .08, \n",
    "             length_includes_head = True,\n",
    "             head_width = .3, \n",
    "             head_length = .6,\n",
    "             overhang = .4)\n",
    "    \n",
    "    # Seta para o vetor v (passado como argumento na função).\n",
    "    ax.arrow(0, \n",
    "             0, \n",
    "             v[0], \n",
    "             v[1], \n",
    "             color = 'blue', \n",
    "             width = .08, \n",
    "             length_includes_head = True,\n",
    "             head_width = .3,\n",
    "             head_length = .6,\n",
    "             overhang = .4)\n",
    "    \n",
    "    # Operação de soma entre os vetores u e v (apenas para demonstrar no gráfico).\n",
    "    ax.arrow(0, \n",
    "             0, \n",
    "             u[0] + v[0], \n",
    "             u[1] + v[1], \n",
    "             color = 'green', \n",
    "             width = .08, \n",
    "             length_includes_head = True,\n",
    "             head_width = .3, \n",
    "             head_length = .6,\n",
    "             overhang = .4)\n",
    "    \n",
    "    # Operação de multiplicação entre o escalar c e o vetor u.\n",
    "    # O valor de c é passado como argumento da função.\n",
    "    ax.arrow(0, \n",
    "             0, \n",
    "             c * u[0], \n",
    "             c * u[1], \n",
    "             color = 'red', \n",
    "             width = .08, \n",
    "             alpha=.5, \n",
    "             length_includes_head = True,\n",
    "             head_width = .3, \n",
    "             head_length = .6,\n",
    "             overhang = .4)\n",
    "    \n",
    "    # Operação de multiplicação entre o escalar c e o vetor v.\n",
    "    # O valor de c é passado como argumento da função.\n",
    "    ax.arrow(0, \n",
    "             0, \n",
    "             c * v[0], \n",
    "             c * v[1], \n",
    "             color = 'blue', \n",
    "             width = .08, \n",
    "             alpha=.5, \n",
    "             length_includes_head = True,\n",
    "             head_width = .3, \n",
    "             head_length = .6,\n",
    "             overhang = .4)    \n",
    "    \n",
    "     # Operação entre o escalar c e os vetores u e v (conforme axioma 7).\n",
    "    ax.arrow(0, \n",
    "             0, \n",
    "             c * (u[0] + v[0]), \n",
    "             c * (u[1] + v[1]), \n",
    "             color = 'green', \n",
    "             width = .08, \n",
    "             alpha = .5,  \n",
    "             length_includes_head = True,\n",
    "             head_width = .3, \n",
    "             head_length = .6,\n",
    "             overhang = .4)\n",
    "        \n",
    "    # Agora representamos o texto no gráfico.\n",
    "    \n",
    "    # Coordenadas do vetor u\n",
    "    ax.text(x = u[0], y = u[1], s = '$(%.0d, %.0d)$' % (u[0], u[1]), size = 16)\n",
    "    print('Vetor u:', (u[0], u[1]))\n",
    "    \n",
    "    # Coordenadas do vetor v\n",
    "    ax.text(x = v[0], y = v[1], s = '$(%.0d, %.0d)$' % (v[0], v[1]), size = 16)\n",
    "    print('Vetor v:', (v[0], v[1]))\n",
    "    \n",
    "    # Coordenadas do vetor resultante da soma entre u e v\n",
    "    ax.text(x = u[0] + v[0], y = u[1] + v[1], s = '$(%.0d, %.0d)$' % (u[0] + v[0], u[1] + v[1]), size = 16)    \n",
    "    print('Soma de u + v:', (u[0] + v[0], u[1] + v[1]))\n",
    "    \n",
    "    # Coordenadas do vetor resultante da multiplicação entre c e u\n",
    "    ax.text(x = c * u[0], y = c * u[1], s = '$(%.0d, %.0d)$' % (c * u[0], c * u[1]), size = 16) \n",
    "    print('Escalar c:', c)\n",
    "    print('Multiplicação de c e u:', (c * u[0], c * u[1]))\n",
    "    \n",
    "    # Coordenadas do vetor resultante da multiplicação entre c e v\n",
    "    ax.text(x = c * v[0], y = c * v[1], s = '$(%.0d, %.0d)$' % (c * v[0], c * v[1]), size = 16)     \n",
    "    print('Multiplicação de c e v:', (c * v[0], c * v[1]))\n",
    "    \n",
    "    # Coordenadas do vetor resultante da multiplicação entre c e a soma de u e v\n",
    "    ax.text(x = c*(u[0]+v[0]), y = c*(u[1]+v[1]), s = '$(%.0d, %.0d)$' % (c*(u[0]+v[0]), c*(u[1]+v[1])), size = 16)  \n",
    "    print('Multiplicação de c pela soma de u + v:', (c*(u[0]+v[0]), c*(u[1]+v[1])))\n",
    "    \n",
    "    # Título\n",
    "    ax.set_title('Axioma 7: $c(\\mathbf{u}+\\mathbf{v})=c \\mathbf{u}+c \\mathbf{v}$', size = 19, color = 'black')\n",
    "    \n",
    "    # Usamos matemática para expandir as coordenadas do gráfico de acordo com os vetores\n",
    "    ax.axis([-3, np.max(c * u) + 6, -3, np.max(c * v) + 6])\n",
    "    ax.grid(True)"
   ]
  },
  {
   "cell_type": "code",
   "execution_count": null,
   "metadata": {},
   "outputs": [],
   "source": [
    "# Definimos alguns valores de exemplo e executamos a função.\n",
    "u = np.array([2,3])\n",
    "v = np.array([3,1])\n",
    "c = 2\n",
    "funcAxioma7(u, v, c)"
   ]
  },
  {
   "cell_type": "code",
   "execution_count": null,
   "metadata": {},
   "outputs": [],
   "source": [
    "# Testamos com outros valores\n",
    "u = np.array([1, 3])\n",
    "v = np.array([5, 2])\n",
    "c = 2\n",
    "funcAxioma7(u, v, c)"
   ]
  },
  {
   "cell_type": "code",
   "execution_count": null,
   "metadata": {},
   "outputs": [],
   "source": [
    "# Mais um teste\n",
    "u = np.array([-1, 3])\n",
    "v = np.array([5, -1])\n",
    "c = 2\n",
    "funcAxioma7(u, v, c)"
   ]
  },
  {
   "cell_type": "markdown",
   "metadata": {},
   "source": [
    "## Espaço Vetorial com Funções Trigonométricas"
   ]
  },
  {
   "cell_type": "markdown",
   "metadata": {},
   "source": [
    "O espaço vetorial tem um significado mais geral do que conter vetores. As funções e polinômios também podem estar no espaço vetorial, como mostraremos no próximo capítulo com a dependência linear.\n",
    "\n",
    "Em Matemática, um espaço funcional (function space) é um conjunto de funções entre dois conjuntos fixos. Ou seja, é um espaço vetorial para funções.\n",
    "\n",
    "Podemos demonstrar o espaço vetorial para funções plotando duas funções trigonométricas: $\\sin(x1)$ e $\\cos{(x2)}$ com o stem plot, sua adição no espaço vetorial é a área sombreada com os valores possíveis."
   ]
  },
  {
   "cell_type": "markdown",
   "metadata": {},
   "source": [
    "Considere as listas de valores abaixo de x1 e x2 abaixo:\n",
    "    \n",
    "- x1 = np.arange(-5, 5, 0.3)\n",
    "- x2 = np.arange(-5.1, 4.9, 0.3)\n",
    "\n",
    "Podemos dizer que o seno(x1) e cosseno(x2) são linearmente independentes?\n",
    "\n",
    "As funções são linearmente independentes em um tipo de espaço vetorial chamado espaço funcional. Neste espaço vetorial o vetor zero é a função 𝑓(𝑥) = 0. \n",
    "\n",
    "**Dizer que seno(x1) e cosseno(x2) são linearmente independentes é dizer que nenhuma combinação linear de seno(x1) e cosseno(x2) resulta na função zero.**\n",
    "\n",
    "𝑓(𝑥), 𝑔(𝑥) são linearmente independentes se existir 𝑎,𝑏 ∈ ℝ tal que 𝑎 ≠ 0 ou 𝑏 ≠ 0 e:\n",
    "\n",
    "𝑎𝑓(𝑥) + 𝑏𝑔(𝑥) = 0\n",
    "\n",
    "Vamos criar um plot e verificar. Lembrando que seno e cosseno são funções e não vetores."
   ]
  },
  {
   "cell_type": "code",
   "execution_count": null,
   "metadata": {},
   "outputs": [],
   "source": [
    "# Função Python para representar duas funções trigonométricas no espaço vetorial\n",
    "def verificaLinearDep(x1, x2, a, b):\n",
    "    \n",
    "    # Cria a figura\n",
    "    fig, ax = plt.subplots(figsize = (10, 10))\n",
    "\n",
    "    # Define y1 com a função seno de x1\n",
    "    y1 = a * np.sin(x1)\n",
    "    \n",
    "    # Plot de x1 e y1 (linhas verticais em azul)\n",
    "    ax.stem(x1, y1, linefmt = 'blue', label = '$\\sin{x}$', markerfmt = 'o')\n",
    "    \n",
    "    # Define y2 com a função cosseno de x2\n",
    "    y2 = b * np.cos(x2)\n",
    "    \n",
    "    # Plot de x2 e y2 (linhas verticais em vermelho)\n",
    "    ax.stem(x2, y2, linefmt = 'red', label = '$\\cos{x}$', markerfmt = '*')\n",
    "    \n",
    "    # Define y3 com a soma da função seno de x1 com a função cosseno de x2\n",
    "    y3 = (a * np.sin(x1)) + (b * np.cos(x2))\n",
    "    print('Valores de y3 = (a * np.sin(x1)) + (b * np.cos(x2)):\\n')\n",
    "    print(y3)\n",
    "    \n",
    "    # Plot de x2 e y3\n",
    "    ax.plot(x2, y3, lw = 5, color = 'black', alpha = .6)\n",
    "    \n",
    "    # Função para preencher\n",
    "    ax.fill_between(x2, y3, 0, color  = 'green', alpha = .3)\n",
    "    \n",
    "    # String\n",
    "    str1 = 'a * $\\sin(x1)$ + b * $\\cos(x2)$'\n",
    "    \n",
    "    # Texto no gráfico\n",
    "    ax.annotate(str1, \n",
    "                xy = (1, a * (np.sin(1) + b * np.cos(1))), \n",
    "                xytext = (0, 3), \n",
    "                weight = 'bold', \n",
    "                color  =  'magenta', \n",
    "                fontsize = 16)\n",
    "    \n",
    "    # Coordenadas dos eixos\n",
    "    ax.axis([-5, 5, -4, 4])\n",
    "    \n",
    "    # Legenda\n",
    "    ax.legend()"
   ]
  },
  {
   "cell_type": "code",
   "execution_count": null,
   "metadata": {},
   "outputs": [],
   "source": [
    "# Define valores para x1 e x2\n",
    "x1 = np.arange(-5, 5, 0.3)\n",
    "x2 = np.arange(-5.1, 4.9, 0.3)\n",
    "a = 1\n",
    "b = 2"
   ]
  },
  {
   "cell_type": "code",
   "execution_count": null,
   "metadata": {},
   "outputs": [],
   "source": [
    "# Executa a função\n",
    "verificaLinearDep(x1, x2, a, b)"
   ]
  },
  {
   "cell_type": "markdown",
   "metadata": {},
   "source": [
    "Duas funções são linearmente dependentes se houver uma maneira de formar uma combinação linear para obter a função zero (que é zero para qualquer possível escolha de 𝑥).\n",
    "\n",
    "**Para que as funções de 𝑥 sejam linearmente independentes, a função zero deve existir para todos os valores de 𝑥, não apenas para alguns.**\n",
    "\n",
    "Então podemos dizer que $\\sin{(x1)}$  e $\\cos{(x2)}$ são linearmente independentes."
   ]
  },
  {
   "cell_type": "markdown",
   "metadata": {},
   "source": [
    "## Subespaço em Álgebra Linear"
   ]
  },
  {
   "cell_type": "markdown",
   "metadata": {},
   "source": [
    "Um subespaço é um dos conceitos mais importantes em álgebra linear, felizmente nada realmente misterioso.\n",
    "\n",
    "Um subespaço reside em um espaço vetorial $V$, podemos denotar como $H$. Apenas duas propriedades precisam ser verificadas:\n",
    "\n",
    "1. $H$ tem vetor zero.\n",
    "2. Podemos realizar adição vetorial e multiplicação escalar."
   ]
  },
  {
   "cell_type": "markdown",
   "metadata": {},
   "source": [
    "Existem dois fatos sobre os subespaços:\n",
    "\n",
    "1. Qualquer linha que passa $(0, 0)$ em $\\mathbb{R}^2$ é um subespaço de $\\mathbb{R}^2$.\n",
    "2. Qualquer plano que passa $(0, 0, 0)$ em $\\mathbb{R}^3$ é um subespaço de $\\mathbb{R}^3$.\n",
    "\n",
    "A seguir vamos visualizar o subespaço."
   ]
  },
  {
   "cell_type": "markdown",
   "metadata": {},
   "source": [
    "## Visualização do Subespaço de $\\mathbb{R}^2$"
   ]
  },
  {
   "cell_type": "code",
   "execution_count": null,
   "metadata": {},
   "outputs": [],
   "source": [
    "# Cria a figura\n",
    "fig, ax = plt.subplots(figsize = (8, 8))\n",
    "\n",
    "# Valores de x e y\n",
    "x = np.arange(-10, 11, 1)\n",
    "y = 4/6*x\n",
    "\n",
    "# Plot\n",
    "ax.plot(x, y, lw = 4, color = 'green', label = r'$y = \\frac{2}{3}x$, subespaço de $\\mathbf{R}^2$')\n",
    "\n",
    "# Novo valor de y\n",
    "y = -3+4/6*x\n",
    "\n",
    "# Plot\n",
    "ax.plot(x, y, lw = 4, color = 'red', label = r'$y = -3+\\frac{2}{3}x$, não é um subespaço de $\\mathbf{R}^2$')\n",
    "\n",
    "# Grid\n",
    "ax.grid(True)\n",
    "\n",
    "# Título\n",
    "ax.set_title('Visualização de Subespaço em $R^2$ ', size = 18)\n",
    "\n",
    "# Scatter Plot\n",
    "ax.scatter(0, 0, s = 100, fc = 'black', ec = 'red')\n",
    "\n",
    "# Texto e legenda\n",
    "ax.text(-2, 0, '$(0,0)$', size = 18)\n",
    "ax.legend(fontsize = 16)\n",
    "\n",
    "# Coordenadas dos eixos\n",
    "ax.axis([-10, 10, -10, 10])\n",
    "\n",
    "# Labels\n",
    "ax.set_xlabel('Eixo X', size = 18)\n",
    "ax.set_ylabel('Eixo Y', size = 18)\n",
    "\n",
    "# Plot\n",
    "plt.show()"
   ]
  },
  {
   "cell_type": "markdown",
   "metadata": {},
   "source": [
    "## Visualização do Subespaço de $\\mathbb{R}^3$"
   ]
  },
  {
   "cell_type": "markdown",
   "metadata": {},
   "source": [
    "Considere um intervalo de dois vetores $u = (1,-2,1)^S$ e $v=(2,1,2)^T$. O intervalo de $(u,v)$ é um subespaço de $\\mathbb{R}^3$, onde $s$ e $t$ são os escalares dos vetores."
   ]
  },
  {
   "cell_type": "markdown",
   "metadata": {},
   "source": [
    "$$\n",
    "\\left[\n",
    "\\begin{matrix}\n",
    "x\\\\\n",
    "y\\\\\n",
    "z\n",
    "\\end{matrix}\n",
    "\\right]=\n",
    "s\\left[\n",
    "\\begin{matrix}\n",
    "1\\\\\n",
    "-2\\\\\n",
    "1\n",
    "\\end{matrix}\n",
    "\\right]+\n",
    "t\\left[\n",
    "\\begin{matrix}\n",
    "2\\\\\n",
    "1\\\\\n",
    "2\n",
    "\\end{matrix}\n",
    "\\right]=\n",
    "\\left[\n",
    "\\begin{matrix}\n",
    "s+2t\\\\\n",
    "-2s+t\\\\\n",
    "s+2t\n",
    "\\end{matrix}\n",
    "\\right]\n",
    "$$"
   ]
  },
  {
   "cell_type": "markdown",
   "metadata": {},
   "source": [
    "Vamos também definir um plano que não é um subespaço adicionando $2$ na terceira equação, ou seja, $z= s+2t+2$.\n",
    "\n",
    "E então criamos o plot."
   ]
  },
  {
   "cell_type": "code",
   "execution_count": null,
   "metadata": {},
   "outputs": [],
   "source": [
    "# Cria a figura\n",
    "fig = plt.figure(figsize = (8, 8))\n",
    "\n",
    "# Projeção 3D\n",
    "ax = fig.add_subplot(111, projection = '3d')\n",
    "\n",
    "# Valores de s e t\n",
    "s = np.linspace(-1, 1, 10)\n",
    "t = np.linspace(-1, 1, 10)\n",
    "\n",
    "# Grid\n",
    "S, T = np.meshgrid(s, t)\n",
    "\n",
    "# Valores de x, y e z\n",
    "X = S + 2 * T\n",
    "Y = -2 * S + T\n",
    "Z = S + 2 * T\n",
    "\n",
    "# Plot\n",
    "ax.plot_surface(X, Y, Z, alpha = .9, cmap = plt.cm.coolwarm)\n",
    "\n",
    "# Isso não é mais um subespaço\n",
    "Z2 = S + 2 * T + 2 \n",
    "\n",
    "# Plot\n",
    "ax.plot_surface(X, Y, Z2, alpha = .6, cmap = plt.cm.jet)\n",
    "\n",
    "# Scatter\n",
    "ax.scatter(0,0,0, s = 200, color = 'red')\n",
    "\n",
    "# Texto\n",
    "ax.text(0, 0, 0, '$(0,0,0)$', size = 18, zorder = 5)\n",
    "\n",
    "# Título\n",
    "ax.set_title('Visualização de Subespaço em $\\mathbb{R}^3$', x = .5, y = 1.1, size = 20)\n",
    "\n",
    "# Labels\n",
    "ax.set_xlabel('Eixo x', size = 18)\n",
    "ax.set_ylabel('Eixo y', size = 18)\n",
    "ax.set_zlabel('Eixo z', size = 18)\n",
    "plt.show()"
   ]
  },
  {
   "cell_type": "markdown",
   "metadata": {},
   "source": [
    "Como você pode ver o plano que contém $(0,0,0)$ é um subespaço, mas o outro plano não é um subespaço."
   ]
  },
  {
   "cell_type": "markdown",
   "metadata": {},
   "source": [
    "## Operações com Tensores em $\\mathbb{R}^4$\n",
    "\n",
    "Para criar dois tensores de quatro dimensões e realizar uma operação de produto escalar (dot product) entre eles, devemos primeiro esclarecer como o produto escalar é definido para tensores de ordem superior. Em tensores de dimensões superiores, o produto escalar pode não ser tão direto como em vetores ou matrizes.\n",
    "\n",
    "No entanto, uma abordagem comum é tratar os tensores de ordem superior como coleções de matrizes ou vetores e realizar operações de produto escalar entre essas matrizes ou vetores correspondentes. Para tensores 4D, você pode visualizá-los como uma coleção de matrizes 3D, onde você pode calcular o produto escalar entre matrizes correspondentes.\n",
    "\n",
    "Vamos criar dois tensores 4D aleatórios e realizar uma operação que se assemelha a um \"produto escalar\" entre eles, tratando-os como coleções de matrizes 3D. Neste caso, vamos calcular a soma dos produtos escalares das matrizes correspondentes em cada tensor.\n",
    "\n",
    "O resultado da operação que se assemelha a um \"produto escalar\" entre os dois tensores 4D aleatórios é aproximadamente 23.48\n",
    "\n",
    "Neste cálculo, tratamos cada tensor como uma coleção de matrizes 3D e calculamos a soma dos produtos escalares de todas as matrizes correspondentes entre os dois tensores.\n",
    "\n",
    "É importante notar que essa abordagem é uma das várias maneiras de se realizar operações entre tensores de alta ordem, e a definição específica do \"produto escalar\" pode variar dependendo do contexto e da aplicação. "
   ]
  },
  {
   "cell_type": "code",
   "execution_count": null,
   "metadata": {},
   "outputs": [],
   "source": [
    "# Criando dois tensores 4D \n",
    "tensor1 = np.random.rand(3, 3, 3, 3)  # Tensor com dimensões 3x3x3x3\n",
    "tensor2 = np.random.rand(3, 3, 3, 3)  # Tensor com dimensões 3x3x3x3"
   ]
  },
  {
   "cell_type": "code",
   "execution_count": null,
   "metadata": {},
   "outputs": [],
   "source": [
    "tensor1.shape"
   ]
  },
  {
   "cell_type": "code",
   "execution_count": null,
   "metadata": {},
   "outputs": [],
   "source": [
    "tensor2.shape"
   ]
  },
  {
   "cell_type": "code",
   "execution_count": null,
   "metadata": {},
   "outputs": [],
   "source": [
    "print(tensor1)"
   ]
  },
  {
   "cell_type": "code",
   "execution_count": null,
   "metadata": {},
   "outputs": [],
   "source": [
    "# Realizando a operação \"produto escalar\" entre os tensores\n",
    "# Tratando cada tensor como uma coleção de matrizes 3D\n",
    "produto_escalar = 0\n",
    "for i in range(tensor1.shape[0]):\n",
    "    for j in range(tensor1.shape[1]):\n",
    "        produto_escalar += np.tensordot(tensor1[i, j], tensor2[i, j])"
   ]
  },
  {
   "cell_type": "code",
   "execution_count": null,
   "metadata": {},
   "outputs": [],
   "source": [
    "produto_escalar"
   ]
  },
  {
   "cell_type": "markdown",
   "metadata": {},
   "source": [
    "## Álgebra Linear no Espaço Vetorial e Subespaço Vetorial\n",
    "\n",
    "Vamos agora resolver um problema de negócio usando os conceitos vistos anteriormente.\n",
    "\n",
    "Precisamos respopnder a seguinte pergunta:\n",
    "\n",
    "**Quais países tinham a Economia mais parecida com o Brasil, com base em alguns indicadores econômicos, no ano de 2019 antes da pandemia do Covid-19?**\n",
    "\n",
    "Indicadores econômicos a considerar:\n",
    "\n",
    "- Exports of goods and services (current US$) = \"NE.EXP.GNFS.CD\"\n",
    "\n",
    "- Imports of goods and services (current US$) = \"NE.IMP.GNFS.CD\"\n",
    "\n",
    "- Agriculture, forestry, and fishing, value added (current US$) = \"NV.AGR.TOTL.CD\"\n",
    "\n",
    "- GDP (current US$) = \"NY.GDP.MKTP.CD\"\n",
    "\n",
    "- External balance on goods and services (current US$) = \"NE.RSB.GNFS.CD\"\n",
    "\n",
    "Fonte dos dados:\n",
    "\n",
    "https://pandas-datareader.readthedocs.io/en/latest/readers/world-bank.html"
   ]
  },
  {
   "cell_type": "code",
   "execution_count": null,
   "metadata": {},
   "outputs": [],
   "source": [
    "# Define os dados que faremos download do World Bank (BancoMundial)\n",
    "codigos = [\"NE.EXP.GNFS.CD\", \"NE.IMP.GNFS.CD\", \"NV.AGR.TOTL.CD\", \"NY.GDP.MKTP.CD\", \"NE.RSB.GNFS.CD\"]"
   ]
  },
  {
   "cell_type": "code",
   "execution_count": null,
   "metadata": {},
   "outputs": [],
   "source": [
    "# Download dos dados e criação de um dataframe\n",
    "dados = wb.download(country = \"all\", indicator = codigos, start = 2019, end = 2019).reset_index()"
   ]
  },
  {
   "cell_type": "code",
   "execution_count": null,
   "metadata": {},
   "outputs": [],
   "source": [
    "dados.shape"
   ]
  },
  {
   "cell_type": "code",
   "execution_count": null,
   "metadata": {},
   "outputs": [],
   "source": [
    "dados.head()"
   ]
  },
  {
   "cell_type": "code",
   "execution_count": null,
   "metadata": {},
   "outputs": [],
   "source": [
    "# Obtém a lista de paises\n",
    "paises = wb.get_countries()"
   ]
  },
  {
   "cell_type": "code",
   "execution_count": null,
   "metadata": {},
   "outputs": [],
   "source": [
    "# Remove as agregações e mnantém somente países sem valores ausentes\n",
    "paises2 = paises[paises[\"region\"] != \"Aggregates\"].name"
   ]
  },
  {
   "cell_type": "code",
   "execution_count": null,
   "metadata": {},
   "outputs": [],
   "source": [
    "paises2"
   ]
  },
  {
   "cell_type": "code",
   "execution_count": null,
   "metadata": {},
   "outputs": [],
   "source": [
    "# Ajusta o dataframe\n",
    "dados2 = dados[dados[\"country\"].isin(paises2)].dropna()"
   ]
  },
  {
   "cell_type": "code",
   "execution_count": null,
   "metadata": {},
   "outputs": [],
   "source": [
    "dados2.head()"
   ]
  },
  {
   "cell_type": "markdown",
   "metadata": {},
   "source": [
    "> Ajustando o Vetor com Dados Por País"
   ]
  },
  {
   "cell_type": "code",
   "execution_count": null,
   "metadata": {},
   "outputs": [],
   "source": [
    "# Extrai o vetor de dados para cada país\n",
    "vetores = {}\n",
    "for rowid, row in dados2.iterrows():\n",
    "    vetores[row[\"country\"]] = row[codigos].values"
   ]
  },
  {
   "cell_type": "code",
   "execution_count": null,
   "metadata": {},
   "outputs": [],
   "source": [
    "vetores"
   ]
  },
  {
   "cell_type": "code",
   "execution_count": null,
   "metadata": {},
   "outputs": [],
   "source": [
    "# Dicionários para calcular a distância euclidiana e cosine\n",
    "euclid = {}\n",
    "cosine = {}"
   ]
  },
  {
   "cell_type": "code",
   "execution_count": null,
   "metadata": {},
   "outputs": [],
   "source": [
    "# Vamos definir um paíse alvo\n",
    "target = \"Brazil\""
   ]
  },
  {
   "cell_type": "markdown",
   "metadata": {},
   "source": [
    "<!-- Projeto Desenvolvido na Data Science Academy - www.datascienceacademy.com.br -->\n",
    "\n",
    "A norma ou módulo de um vetor é o comprimento desse vetor, que pode ser calculado por meio da distância de seu ponto final até a origem. O módulo de um número real “a” é um número real que indica o tamanho do segmento de reta das extremidades “0” e “a” ou a distância do ponto “a” até o ponto “0” na reta numérica.\n",
    "\n",
    "A norma de um vetor, também conhecida como módulo de um vetor, é obtida por meio do cálculo do comprimento desse vetor.\n",
    "\n",
    "**Em relação aos vetores, eles são objetos matemáticos definidos em qualquer tipo de espaço, seja ele uma reta, seja um plano ou espaços com muitas dimensões. Além disso, são segmentos de reta orientados criados para descrever movimentos retilíneos e possuem marcação de direção, sentido e intensidade. Como se trata de segmentos de reta antes de tudo, é possível medir seus comprimentos utilizando cálculos que envolvem distância entre dois pontos.**"
   ]
  },
  {
   "cell_type": "code",
   "execution_count": null,
   "metadata": {},
   "outputs": [],
   "source": [
    "# Loop para calcular a norma dos vetores\n",
    "for country in vetores:\n",
    "    \n",
    "    # Target\n",
    "    vecA = vetores[target]\n",
    "    \n",
    "    # País\n",
    "    vecB = vetores[country]\n",
    "    \n",
    "    # Calcula a distância euclidiana com a operação entre os vetores de dados\n",
    "    dist = np.linalg.norm(vecA - vecB)\n",
    "    \n",
    "    # Calcula a distância cosine (cosseno) com a operação entre os vetores de dados\n",
    "    cos = np.dot(vecA, vecB) / (np.linalg.norm(vecA) * np.linalg.norm(vecB))\n",
    "    \n",
    "    # Carrega os dicionários\n",
    "    euclid[country] = dist    \n",
    "    cosine[country] = 1-cos   "
   ]
  },
  {
   "cell_type": "code",
   "execution_count": null,
   "metadata": {},
   "outputs": [],
   "source": [
    "# Coloca os dicionários em um dataframe\n",
    "df_distance = pd.DataFrame({\"euclid\": euclid, \"cos\": cosine})"
   ]
  },
  {
   "cell_type": "code",
   "execution_count": null,
   "metadata": {},
   "outputs": [],
   "source": [
    "# Imprime os resultados\n",
    "print(\"País mais próximo do nosso Target de acordo com a Distância Euclidiana:\")\n",
    "print(df_distance.sort_values(by = \"euclid\").head())"
   ]
  },
  {
   "cell_type": "code",
   "execution_count": null,
   "metadata": {},
   "outputs": [],
   "source": [
    "# Imprime os resultados\n",
    "print(\"País mais próximo do nosso Target de acordo com a Distância Cosine (Cosseno):\")\n",
    "print(df_distance.sort_values(by = \"cos\").head())"
   ]
  },
  {
   "cell_type": "markdown",
   "metadata": {},
   "source": [
    "A semelhança do cosseno é benéfica porque, mesmo que os dois objetos de dados semelhantes estejam distantes pela distância euclidiana devido ao tamanho, eles ainda podem ter um ângulo menor entre eles. Quanto menor o ângulo, maior a semelhança."
   ]
  },
  {
   "cell_type": "code",
   "execution_count": null,
   "metadata": {},
   "outputs": [],
   "source": [
    "%reload_ext watermark\n",
    "%watermark -a \"Data Science Academy\""
   ]
  },
  {
   "cell_type": "code",
   "execution_count": null,
   "metadata": {},
   "outputs": [],
   "source": [
    "#%watermark -v -m"
   ]
  },
  {
   "cell_type": "code",
   "execution_count": null,
   "metadata": {},
   "outputs": [],
   "source": [
    "#%watermark --iversions"
   ]
  },
  {
   "cell_type": "markdown",
   "metadata": {},
   "source": [
    "# Fim"
   ]
  }
 ],
 "metadata": {
  "kernelspec": {
   "display_name": "Python 3 (ipykernel)",
   "language": "python",
   "name": "python3"
  },
  "language_info": {
   "codemirror_mode": {
    "name": "ipython",
    "version": 3
   },
   "file_extension": ".py",
   "mimetype": "text/x-python",
   "name": "python",
   "nbconvert_exporter": "python",
   "pygments_lexer": "ipython3",
   "version": "3.9.7"
  }
 },
 "nbformat": 4,
 "nbformat_minor": 2
}
