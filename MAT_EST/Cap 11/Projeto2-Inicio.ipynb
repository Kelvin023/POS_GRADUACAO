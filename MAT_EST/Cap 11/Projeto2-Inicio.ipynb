{
 "cells": [
  {
   "cell_type": "markdown",
   "metadata": {},
   "source": [
    "<!-- Projeto Desenvolvido na Data Science Academy - www.datascienceacademy.com.br -->\n",
    "# <font color='blue'>Data Science Academy</font>\n",
    "## <font color='blue'>Matemática e Estatística Aplicada Para Data Science, Machine Learning e IA</font>\n",
    "## <font color='blue'>Projeto 2</font>\n",
    "### <font color='blue'>Construindo Algoritmo de Rede Neural Artificial Através de Operações com Matrizes</font>"
   ]
  },
  {
   "cell_type": "markdown",
   "metadata": {},
   "source": [
    "## Instalando e Carregando os Pacotes"
   ]
  },
  {
   "cell_type": "code",
   "execution_count": 1,
   "metadata": {},
   "outputs": [],
   "source": [
    "# Para atualizar um pacote, execute o comando abaixo no terminal ou prompt de comando:\n",
    "# pip install -U nome_pacote\n",
    "\n",
    "# Para instalar a versão exata de um pacote, execute o comando abaixo no terminal ou prompt de comando:\n",
    "# !pip install nome_pacote==versão_desejada\n",
    "\n",
    "# Depois de instalar ou atualizar o pacote, reinicie o jupyter notebook.\n",
    "\n",
    "# Instala o pacote watermark. \n",
    "# Esse pacote é usado para gravar as versões de outros pacotes usados neste jupyter notebook.\n",
    "#!pip install -q -U watermark"
   ]
  },
  {
   "cell_type": "code",
   "execution_count": 1,
   "metadata": {},
   "outputs": [],
   "source": [
    "# Imports\n",
    "import numpy as np"
   ]
  },
  {
   "cell_type": "code",
   "execution_count": 2,
   "metadata": {},
   "outputs": [
    {
     "name": "stdout",
     "output_type": "stream",
     "text": [
      "Author: Data Science Academy\n",
      "\n"
     ]
    }
   ],
   "source": [
    "# Versões dos pacotes usados neste jupyter notebook\n",
    "%reload_ext watermark\n",
    "%watermark -a \"Data Science Academy\" "
   ]
  },
  {
   "cell_type": "markdown",
   "metadata": {},
   "source": [
    "## Parte 1 - Escrever o Algoritmo"
   ]
  },
  {
   "cell_type": "code",
   "execution_count": null,
   "metadata": {},
   "outputs": [],
   "source": [
    "#Classe para definicao do algoritmo\n",
    "\n",
    "class AlgoritmoNeuralNetworkDSA:\n",
    "    \n",
    "    #Método construtor da classe(inicializa os atributos da classe quando um objeto é criado)\n",
    "    def __init__(self, taxa_aprendizado, num_iteracoes):\n",
    "        #Inicializa os atributos da classe com os valores passados como parâmetros\n",
    "        self.taxa_aprendizado = taxa_aprendizado\n",
    "        self.num_iteracoes = num_iteracoes\n",
    "        \n",
    "        #Inicializa os coeficientes com None (isso é o que o modelo vai aprender)\n",
    "        self.pesos = None\n",
    "        self.bias = None\n",
    "        \n",
    "    #Método da funcao de ativacao sigmoide para gerar a previsao no formato que pode ser interpretado como probabilidade (valores entre 0 e 1 para cada classe prevista)\n",
    "    def func_activation_sigmoid(self, pred):\n",
    "        sig = 1 / (1 + np.exp(-pred))\n",
    "        return sig\n",
    "    \n",
    "    def fit(self, X, y):\n",
    "        #Extrai do shape o número de linhas e colunas do dataset\n",
    "        num_registros, num_atributos = X.shape\n",
    "        \n",
    "        #Inicializa a matriz de pesos com valores iguais a 0 no mesmo shape do número de atributos\n",
    "        self.pesos = np.zeros((num_atributos))\n",
    "        \n",
    "        #Inicializa o escalar bias com valor 0\n",
    "        self.bias = 0\n",
    "        \n",
    "        print('Treinamento iniciado!')\n",
    "        \n",
    "        #Loop de treinamento pelo número de iterações\n",
    "        for i in range(self.num_iteracoes):\n",
    "            print('\\nTreinamento do Modelo na Iteração', i)\n",
    "            \n",
    "            #Primeira parte do método fit é o forward pass (passada para frente)\n",
    "            #Faz a previsão usando o valor de X (dados de entrada), pesos e bias\n",
    "            previsao = np.dot(X, self.pesos) + self.bias\n",
    "            print('Previsao antes da funcao de ativacao:', previsao)\n",
    "            \n",
    "            #Converte a previsao no formato que pode ser interpretado como probabilidade usando funcao sigmoide\n",
    "            previsao_final = self.func_activation_sigmoid(previsao)\n",
    "            print('Previsao depois da funcao de ativacao:', previsao_final)\n",
    "            \n",
    "            #Calcula o erro do modelo com o valor real do dado de saída y\n",
    "            erro = (previsao_final - y)"
   ]
  },
  {
   "cell_type": "markdown",
   "metadata": {},
   "source": [
    "## Parte 2 - Preparar os Dados de Treino e Teste"
   ]
  },
  {
   "cell_type": "code",
   "execution_count": null,
   "metadata": {},
   "outputs": [],
   "source": []
  },
  {
   "cell_type": "code",
   "execution_count": null,
   "metadata": {},
   "outputs": [],
   "source": []
  },
  {
   "cell_type": "code",
   "execution_count": null,
   "metadata": {},
   "outputs": [],
   "source": []
  },
  {
   "cell_type": "code",
   "execution_count": null,
   "metadata": {},
   "outputs": [],
   "source": []
  },
  {
   "cell_type": "code",
   "execution_count": null,
   "metadata": {},
   "outputs": [],
   "source": []
  },
  {
   "cell_type": "code",
   "execution_count": null,
   "metadata": {},
   "outputs": [],
   "source": []
  },
  {
   "cell_type": "code",
   "execution_count": null,
   "metadata": {},
   "outputs": [],
   "source": []
  },
  {
   "cell_type": "markdown",
   "metadata": {},
   "source": [
    "## Parte 3 - Treinamento do Modelo"
   ]
  },
  {
   "cell_type": "code",
   "execution_count": null,
   "metadata": {},
   "outputs": [],
   "source": [
    "#Define os hiperparâmetros do modelo(controlam o processo de aprendizado do modelo)\n",
    "taxa_aprendizado = 0.01\n",
    "num_iteracoes = 1000"
   ]
  },
  {
   "cell_type": "code",
   "execution_count": null,
   "metadata": {},
   "outputs": [],
   "source": [
    "#Cria o modelo a partir da classe(cria instância do classe , ou seja, o objeto)\n",
    "modelo_dsa = AlgoritmoNeuralNetworkDSA(taxa_aprendizado, num_iteracoes)"
   ]
  },
  {
   "cell_type": "code",
   "execution_count": null,
   "metadata": {},
   "outputs": [],
   "source": [
    "#Treina o modelo com os dados de treino\n",
    "modelo_dsa.fit(X_treino, y_treino)"
   ]
  },
  {
   "cell_type": "markdown",
   "metadata": {},
   "source": [
    "## Parte 4 - Avaliação do Modelo"
   ]
  },
  {
   "cell_type": "code",
   "execution_count": null,
   "metadata": {},
   "outputs": [],
   "source": []
  },
  {
   "cell_type": "code",
   "execution_count": null,
   "metadata": {},
   "outputs": [],
   "source": []
  },
  {
   "cell_type": "code",
   "execution_count": null,
   "metadata": {},
   "outputs": [],
   "source": []
  },
  {
   "cell_type": "markdown",
   "metadata": {},
   "source": [
    "## Parte 5 - Deploy do Modelo"
   ]
  },
  {
   "cell_type": "code",
   "execution_count": null,
   "metadata": {},
   "outputs": [],
   "source": []
  },
  {
   "cell_type": "code",
   "execution_count": null,
   "metadata": {},
   "outputs": [],
   "source": []
  },
  {
   "cell_type": "code",
   "execution_count": null,
   "metadata": {},
   "outputs": [],
   "source": []
  },
  {
   "cell_type": "code",
   "execution_count": null,
   "metadata": {},
   "outputs": [
    {
     "name": "stdout",
     "output_type": "stream",
     "text": [
      "Author: Data Science Academy\n",
      "\n"
     ]
    }
   ],
   "source": [
    "%reload_ext watermark\n",
    "%watermark -a \"Data Science Academy\""
   ]
  },
  {
   "cell_type": "code",
   "execution_count": null,
   "metadata": {},
   "outputs": [],
   "source": [
    "#%watermark -v -m"
   ]
  },
  {
   "cell_type": "code",
   "execution_count": null,
   "metadata": {},
   "outputs": [],
   "source": [
    "#%watermark --iversions"
   ]
  },
  {
   "cell_type": "markdown",
   "metadata": {},
   "source": [
    "## Fim"
   ]
  }
 ],
 "metadata": {
  "kernelspec": {
   "display_name": "base",
   "language": "python",
   "name": "python3"
  },
  "language_info": {
   "codemirror_mode": {
    "name": "ipython",
    "version": 3
   },
   "file_extension": ".py",
   "mimetype": "text/x-python",
   "name": "python",
   "nbconvert_exporter": "python",
   "pygments_lexer": "ipython3",
   "version": "3.9.7"
  }
 },
 "nbformat": 4,
 "nbformat_minor": 2
}
